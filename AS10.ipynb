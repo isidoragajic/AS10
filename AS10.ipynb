{
  "cells": [
    {
      "cell_type": "markdown",
      "metadata": {
        "id": "C9uD-PJK0TF3"
      },
      "source": [
        "\n",
        "---\n",
        "\n",
        "### Name: Isidora Gajic  \n",
        "### Course: AI for Finance  \n",
        "### Assignment 10: Fine-Tuning PLM for Monetary Policy Stance Classification\n",
        "### Date: October 29, 2024  \n",
        "\n",
        "---\n",
        "\n",
        "### Disclaimer:\n",
        "\n",
        "This notebook was developed with the assistance of ChatGPT, an AI language model. While the majority of the code was generated with the help of ChatGPT, the conceptualization of the analysis, selection of specific metrics, and the overall approach were directed by me. I reviewed and tweaked the code to ensure it aligns with the objectives of the assignment and meets the required standards.\n",
        "\n",
        "The analysis and conclusions presented in this document are my own. ChatGPT was used to improve the cohesiveness and fluency of my original writing and to convert text from a Word document into Markdown. All final interpretations, decisions, and the overall approach to the analysis are entirely mine.\n",
        "\n",
        "---"
      ]
    },
    {
      "cell_type": "markdown",
      "metadata": {
        "id": "T_p-aR_U0TF5"
      },
      "source": [
        "### **Step 0: Background Research**\n",
        "\n",
        "#### **2. Defining Hawkish and Dovish in Monetary Policy**\n",
        "\n",
        "In the context of monetary policy, **\"hawkish\"** and **\"dovish\"** are terms used to describe the stances and attitudes of central banks, like the Federal Reserve, toward inflation, economic growth, and interest rates. These terms influence how financial markets interpret and react to central bank communications.\n",
        "\n",
        "- **Hawkish**:\n",
        "  - **Definition**: A hawkish stance refers to a monetary policy approach that prioritizes controlling inflation over stimulating economic growth. Hawks are concerned that excessive economic growth could lead to high inflation.\n",
        "  - **Characteristics**:\n",
        "    - **Interest Rates**: Advocates for higher interest rates to cool down an overheating economy.\n",
        "    - **Policy Actions**: Supports tightening monetary policy by reducing the money supply or ending asset purchase programs.\n",
        "    - **Implications for Markets**:\n",
        "      - **Bonds**: Higher interest rates can lead to lower bond prices.\n",
        "      - **Stocks**: May negatively affect stock markets due to increased borrowing costs.\n",
        "      - **Currency**: Can strengthen the national currency as higher rates attract foreign investment.\n",
        "\n",
        "- **Dovish**:\n",
        "  - **Definition**: A dovish stance emphasizes stimulating economic growth and reducing unemployment over controlling inflation. Doves are less concerned about inflation and more focused on supporting the economy.\n",
        "  - **Characteristics**:\n",
        "    - **Interest Rates**: Favors lower interest rates to encourage borrowing and investment.\n",
        "    - **Policy Actions**: Supports expanding monetary policy by increasing the money supply or initiating asset purchase programs.\n",
        "    - **Implications for Markets**:\n",
        "      - **Bonds**: Lower interest rates can lead to higher bond prices.\n",
        "      - **Stocks**: Often boosts stock markets due to cheaper borrowing costs.\n",
        "      - **Currency**: May weaken the national currency as lower rates can reduce foreign investment appeal.\n",
        "\n",
        "**Relation to Federal Reserve Communications**:\n",
        "\n",
        "The Federal Reserve uses various communication tools—such as meeting minutes, speeches, and press releases—to signal its monetary policy stance. Market participants closely analyze this language to gauge future policy actions.\n",
        "\n",
        "- **Hawkish Communications**:\n",
        "  - **Signals**: Indicate concerns about inflation and suggest potential interest rate hikes.\n",
        "  - **Market Reaction**: Can lead to increased volatility, as investors adjust expectations for tighter monetary conditions.\n",
        "\n",
        "- **Dovish Communications**:\n",
        "  - **Signals**: Highlight concerns about economic slowdown or unemployment, suggesting that interest rates may remain low or decrease.\n",
        "  - **Market Reaction**: Often leads to stock market rallies and lower bond yields, as investors anticipate more accommodative monetary policy.\n",
        "\n",
        "Understanding these terms is crucial for investors, policymakers, and economists, as they directly impact financial market dynamics and economic forecasting.\n",
        "\n",
        "---\n",
        "\n",
        "#### **3. Key Monetary Policy Events (1996-September 2024)**\n",
        "\n",
        "**1. The Dot-Com Bubble Burst and Federal Reserve Actions (Late 1990s - Early 2000s)**\n",
        "\n",
        "- **Overview**:\n",
        "  - During the late 1990s, the U.S. economy experienced rapid growth, particularly in technology and internet-related stocks, leading to the \"dot-com bubble.\"\n",
        "  - The Federal Reserve, led by Chairman Alan Greenspan, increased the federal funds rate multiple times to prevent the economy from overheating.\n",
        "\n",
        "- **Impact**:\n",
        "  - **Interest Rate Hikes**: Between June 1999 and May 2000, the Fed raised rates six times, from 4.75% to 6.5%.\n",
        "  - **Market Reaction**: The higher interest rates contributed to the bursting of the dot-com bubble in 2000, leading to significant stock market losses and an economic slowdown.\n",
        "\n",
        "**2. Federal Reserve Response to the 9/11 Attacks (2001)**\n",
        "\n",
        "- **Overview**:\n",
        "  - The September 11, 2001 terrorist attacks caused immediate economic uncertainty and financial market disruptions.\n",
        "  - The Federal Reserve acted swiftly to stabilize the economy.\n",
        "\n",
        "- **Impact**:\n",
        "  - **Emergency Rate Cuts**: The Fed cut the federal funds rate from 3.5% to 3% shortly after the attacks and continued reducing it to 1.75% by the end of 2001.\n",
        "  - **Liquidity Measures**: Implemented policies to ensure liquidity in financial markets.\n",
        "  - **Economic Support**: These actions helped restore confidence and supported economic recovery.\n",
        "\n",
        "**3. The 2008 Financial Crisis and Quantitative Easing (2007-2009)**\n",
        "\n",
        "- **Overview**:\n",
        "  - A collapse in the U.S. housing market led to a global financial crisis, with major financial institutions facing insolvency.\n",
        "  - The Federal Reserve, under Chairman Ben Bernanke, took unprecedented actions.\n",
        "\n",
        "- **Impact**:\n",
        "  - **Interest Rates**: Reduced the federal funds rate to near zero (0-0.25%) by December 2008.\n",
        "  - **Quantitative Easing (QE)**:\n",
        "    - **QE1 (2008-2010)**: The Fed began purchasing large amounts of mortgage-backed securities and Treasuries to inject liquidity.\n",
        "    - **Objective**: Lower long-term interest rates, support mortgage lending, and stimulate the economy.\n",
        "  - **Market Reaction**: These measures helped stabilize financial markets but also raised concerns about long-term inflation and asset bubbles.\n",
        "\n",
        "**4. Monetary Policy Response to the COVID-19 Pandemic (2020)**\n",
        "\n",
        "- **Overview**:\n",
        "  - The COVID-19 pandemic led to a sudden economic shutdown and a sharp downturn.\n",
        "\n",
        "- **Impact**:\n",
        "  - **Emergency Rate Cuts**: In March 2020, the Fed cut the federal funds rate to 0-0.25%.\n",
        "  - **Quantitative Easing**:\n",
        "    - Announced unlimited QE to purchase Treasury securities and mortgage-backed securities.\n",
        "  - **Additional Measures**:\n",
        "    - **Emergency Lending Facilities**: Established programs to support businesses, municipalities, and financial markets.\n",
        "    - **Forward Guidance**: Signaled that rates would remain low until the economy showed signs of recovery.\n",
        "  - **Market Reaction**: Stabilized financial markets and supported economic activity, but raised concerns about long-term debt and inflation.\n",
        "\n",
        "**5. Inflation Surge and Policy Shift Toward Tightening (2021-2023)**\n",
        "\n",
        "- **Overview**:\n",
        "  - Post-pandemic recovery led to supply chain disruptions, labor shortages, and significant fiscal stimulus, contributing to rising inflation.\n",
        "\n",
        "- **Impact**:\n",
        "  - **Shift in Stance**: The Fed signaled a move from a dovish to a more hawkish stance to address inflation.\n",
        "  - **Interest Rate Increases**:\n",
        "    - Began raising rates in 2022, with multiple hikes throughout the year.\n",
        "  - **Reducing Balance Sheet**:\n",
        "    - Initiated plans to reduce the Fed's balance sheet by ceasing reinvestments.\n",
        "  - **Market Reaction**:\n",
        "    - Increased market volatility, concerns over potential economic slowdown, and adjustments in asset valuations.\n",
        "\n",
        "#### **6. Federal Reserve's Half-Percentage Point Rate Cut (September 2024)**\n",
        "\n",
        "- **Overview**:\n",
        "  - On **September 18, 2024**, the Federal Reserve cut the federal funds rate by **half a percentage point**, bringing it to a range between **4.75% and 5%**.\n",
        "  - This was the **first rate cut since 2020**, marking a significant shift from the Fed's previous focus on combating inflation to supporting the labor market.\n",
        "  - The decision was more aggressive than most analysts anticipated; many expected a smaller **quarter-point** reduction.\n",
        "\n",
        "- **Impact**:\n",
        "  - **Monetary Policy Shift**:\n",
        "    - The rate cut signaled the Fed's commitment to preventing a gentle cooling in the labor market from turning into a deeper slowdown.\n",
        "    - Fed Chair **Jerome Powell** stated that the decision reflects growing confidence in maintaining economic strength with an appropriate policy recalibration.\n",
        "  - **Market Reaction**:\n",
        "    - **Immediate Relief**: The cut provided immediate relief to consumers with credit-card balances and small businesses with variable-rate debt.\n",
        "    - **Stock Market**: Stocks initially rose following the announcement but ended the day lower, indicating mixed investor sentiment.\n",
        "    - **Bond Market**: Long-term borrowing costs had been declining in anticipation of rate cuts, affecting mortgages and corporate debt.\n",
        "  - **Economic Indicators**:\n",
        "    - **Unemployment Rate**: Rose to **4.2%**, up from **3.7%** in January 2024, indicating a softening labor market.\n",
        "    - **Inflation**: Had fallen over the past year, reducing pressure on the Fed to maintain higher interest rates.\n",
        "  - **Policy Implications**:\n",
        "    - **Future Rate Cuts**: Projections indicated potential additional cuts in November and December 2024.\n",
        "    - **Risk Management**: The larger-than-expected cut was seen as a proactive measure to mitigate the risk of an economic downturn.\n",
        "    - **Fed Communications**: Emphasized maintaining the strength of the labor market and the overall economy through adjusted monetary policy.\n",
        "\n",
        "---\n"
      ]
    },
    {
      "cell_type": "markdown",
      "metadata": {
        "id": "ddBhzczI0TF6"
      },
      "source": [
        "### Importing Necessary Libraries\n",
        "\n",
        "The following libraries are imported for data manipulation, model training, and evaluation:\n",
        "\n",
        "- **pandas** and **numpy** for data handling.\n",
        "- **matplotlib** and **seaborn** for data visualization.\n",
        "- **torch** and **torch.utils.data** for building datasets.\n",
        "- **transformers** from Hugging Face for model and tokenizer.\n",
        "- **sklearn** for evaluation metrics and data splitting.\n",
        "- Set a random seed for reproducibility.\n"
      ]
    },
    {
      "cell_type": "code",
      "execution_count": 1,
      "metadata": {
        "id": "9huNwT4i0TF7"
      },
      "outputs": [],
      "source": [
        "# Importing necessary libraries\n",
        "import pandas as pd\n",
        "import numpy as np\n",
        "import matplotlib.pyplot as plt\n",
        "import seaborn as sns\n",
        "\n",
        "# PyTorch libraries\n",
        "import torch\n",
        "from torch.utils.data import Dataset\n",
        "\n",
        "# Hugging Face transformers\n",
        "from transformers import RobertaTokenizer, RobertaForSequenceClassification, Trainer, TrainingArguments\n",
        "\n",
        "# Sklearn for evaluation metrics and data splitting\n",
        "from sklearn.model_selection import train_test_split\n",
        "from sklearn.metrics import classification_report, confusion_matrix, f1_score\n",
        "from sklearn.utils.class_weight import compute_class_weight\n",
        "\n",
        "# Set random seed for reproducibility\n",
        "import random\n",
        "import os\n",
        "\n",
        "def set_seed(seed):\n",
        "    random.seed(seed)\n",
        "    np.random.seed(seed)\n",
        "    torch.manual_seed(seed)\n",
        "    torch.cuda.manual_seed_all(seed)\n",
        "\n",
        "set_seed(0)\n"
      ]
    },
    {
      "cell_type": "markdown",
      "metadata": {
        "id": "HHYn7LZg0TF7"
      },
      "source": [
        "### Loading the Data\n",
        "\n",
        "- Cloned the GitHub repository containing the data files or updated it if it already exists.\n",
        "- Loaded the training data `lab-manual-mm-train-5768.xlsx` into `train_df`.\n",
        "- Loaded the testing data `lab-manual-mm-test-5768.xlsx` into `test_df`.\n",
        "- Displayed the columns and the number of samples in each DataFrame."
      ]
    },
    {
      "cell_type": "code",
      "execution_count": 2,
      "metadata": {
        "colab": {
          "base_uri": "https://localhost:8080/",
          "height": 0
        },
        "id": "OV0f8dze0TF8",
        "outputId": "7c4ee8b2-b2ba-41f0-e053-913f414e1f76"
      },
      "outputs": [
        {
          "output_type": "stream",
          "name": "stdout",
          "text": [
            "/content/AS10\n",
            "Already up to date.\n",
            "/content\n",
            "Columns in train_df: ['sentence', 'year', 'label']\n",
            "Columns in test_df: ['sentence', 'year', 'label']\n",
            "Number of samples in train_df: 856\n",
            "Number of samples in test_df: 214\n"
          ]
        }
      ],
      "source": [
        "# Clone the repository or update it if it already exists\n",
        "import os\n",
        "if not os.path.isdir('AS10'):\n",
        "    !git clone https://github.com/isidoragajic/AS10.git\n",
        "else:\n",
        "    %cd AS10\n",
        "    !git pull\n",
        "    %cd ..\n",
        "\n",
        "# Loading the training data\n",
        "train_df = pd.read_excel('AS10/lab-manual-mm-train-5768.xlsx')\n",
        "\n",
        "# Loading the testing data\n",
        "test_df = pd.read_excel('AS10/lab-manual-mm-test-5768.xlsx')\n",
        "\n",
        "# Display the columns and number of samples\n",
        "print(\"Columns in train_df:\", train_df.columns.tolist())\n",
        "print(\"Columns in test_df:\", test_df.columns.tolist())\n",
        "\n",
        "print(\"Number of samples in train_df:\", len(train_df))\n",
        "print(\"Number of samples in test_df:\", len(test_df))\n"
      ]
    },
    {
      "cell_type": "markdown",
      "metadata": {
        "id": "SFry_9I_0TF8"
      },
      "source": [
        "### Data Preprocessing\n",
        "\n",
        "- Ensured that the 'label' column is of integer type in both `train_df` and `test_df`.\n",
        "- Checked for missing values in the 'sentence' and 'label' columns.\n",
        "- Confirmed that there are no missing values.\n",
        "- Reset the index of the DataFrames after cleaning.\n",
        "- Verified the number of samples after preprocessing."
      ]
    },
    {
      "cell_type": "code",
      "execution_count": 3,
      "metadata": {
        "id": "KNFGIIh20TF8",
        "colab": {
          "base_uri": "https://localhost:8080/",
          "height": 0
        },
        "outputId": "fe79134a-8f65-4b60-a0ce-6a4fa262800c"
      },
      "outputs": [
        {
          "output_type": "stream",
          "name": "stdout",
          "text": [
            "Training Data Missing Values:\n",
            " sentence    0\n",
            "label       0\n",
            "dtype: int64\n",
            "Testing Data Missing Values:\n",
            " sentence    0\n",
            "label       0\n",
            "dtype: int64\n",
            "Number of samples in train_df after cleaning: 856\n",
            "Number of samples in test_df after cleaning: 214\n"
          ]
        }
      ],
      "source": [
        "# Ensure that 'label' is of integer type\n",
        "train_df['label'] = train_df['label'].astype(int)\n",
        "test_df['label'] = test_df['label'].astype(int)\n",
        "\n",
        "# Check for missing values in 'sentence' and 'label' columns\n",
        "print(\"Training Data Missing Values:\\n\", train_df[['sentence', 'label']].isnull().sum())\n",
        "print(\"Testing Data Missing Values:\\n\", test_df[['sentence', 'label']].isnull().sum())\n",
        "\n",
        "# Drop rows with missing values in 'sentence' or 'label'\n",
        "train_df = train_df.dropna(subset=['sentence', 'label'])\n",
        "test_df = test_df.dropna(subset=['sentence', 'label'])\n",
        "\n",
        "# Verify the number of samples after cleaning\n",
        "print(\"Number of samples in train_df after cleaning:\", len(train_df))\n",
        "print(\"Number of samples in test_df after cleaning:\", len(test_df))\n",
        "\n",
        "# Optional: Reset index after dropping rows\n",
        "train_df = train_df.reset_index(drop=True)\n",
        "test_df = test_df.reset_index(drop=True)\n"
      ]
    },
    {
      "cell_type": "markdown",
      "metadata": {
        "id": "81tTXwh80TF8"
      },
      "source": [
        "### Exploring Label Distribution\n",
        "\n",
        "- Explored the distribution of labels in the training data to check for class imbalance.\n",
        "- Displayed the counts of each label.\n",
        "- Plotted a bar chart showing the label distribution in the training data."
      ]
    },
    {
      "cell_type": "code",
      "execution_count": 4,
      "metadata": {
        "id": "tys8owCT0TF9",
        "colab": {
          "base_uri": "https://localhost:8080/",
          "height": 514
        },
        "outputId": "8b2030bd-bc97-41ff-8a25-51faac098d00"
      },
      "outputs": [
        {
          "output_type": "stream",
          "name": "stdout",
          "text": [
            "Label distribution in training data:\n",
            " label\n",
            "2    358\n",
            "0    254\n",
            "1    244\n",
            "Name: count, dtype: int64\n"
          ]
        },
        {
          "output_type": "display_data",
          "data": {
            "text/plain": [
              "<Figure size 600x400 with 1 Axes>"
            ],
            "image/png": "[encoded data removed]"
          },
          "metadata": {}
        }
      ],
      "source": [
        "# Explore label distribution in training data\n",
        "label_counts = train_df['label'].value_counts()\n",
        "print(\"Label distribution in training data:\\n\", label_counts)\n",
        "\n",
        "# Plotting label distribution\n",
        "plt.figure(figsize=(6,4))\n",
        "sns.barplot(x=label_counts.index, y=label_counts.values)\n",
        "plt.title('Label Distribution in Training Data')\n",
        "plt.xlabel('Labels')\n",
        "plt.ylabel('Count')\n",
        "plt.show()\n"
      ]
    },
    {
      "cell_type": "markdown",
      "metadata": {
        "id": "QXmVp5CD0TF9"
      },
      "source": [
        "### Setting Up the RoBERTa Model\n",
        "\n",
        "- **Tokenizer**: Loaded `RobertaTokenizer` for tokenizing the text data.\n",
        "- **Model**: Loaded `RobertaForSequenceClassification` with 3 output labels corresponding to hawkish, dovish, and neutral classes.\n"
      ]
    },
    {
      "cell_type": "code",
      "execution_count": 5,
      "metadata": {
        "id": "53K-l6670TF9",
        "colab": {
          "base_uri": "https://localhost:8080/",
          "height": 0
        },
        "outputId": "2afbaf3c-580f-4186-a5cd-c00bb370660c"
      },
      "outputs": [
        {
          "output_type": "stream",
          "name": "stderr",
          "text": [
            "/usr/local/lib/python3.10/dist-packages/huggingface_hub/utils/_token.py:89: UserWarning: \n",
            "The secret `HF_TOKEN` does not exist in your Colab secrets.\n",
            "To authenticate with the Hugging Face Hub, create a token in your settings tab (https://huggingface.co/settings/tokens), set it as secret in your Google Colab and restart your session.\n",
            "You will be able to reuse this secret in all of your notebooks.\n",
            "Please note that authentication is recommended but still optional to access public models or datasets.\n",
            "  warnings.warn(\n",
            "/usr/local/lib/python3.10/dist-packages/transformers/tokenization_utils_base.py:1601: FutureWarning: `clean_up_tokenization_spaces` was not set. It will be set to `True` by default. This behavior will be depracted in transformers v4.45, and will be then set to `False` by default. For more details check this issue: https://github.com/huggingface/transformers/issues/31884\n",
            "  warnings.warn(\n",
            "Some weights of RobertaForSequenceClassification were not initialized from the model checkpoint at roberta-base and are newly initialized: ['classifier.dense.bias', 'classifier.dense.weight', 'classifier.out_proj.bias', 'classifier.out_proj.weight']\n",
            "You should probably TRAIN this model on a down-stream task to be able to use it for predictions and inference.\n"
          ]
        }
      ],
      "source": [
        "# Loading the tokenizer\n",
        "tokenizer = RobertaTokenizer.from_pretrained('roberta-base')\n",
        "\n",
        "# Loading the pre-trained model for sequence classification\n",
        "model = RobertaForSequenceClassification.from_pretrained('roberta-base', num_labels=3)\n"
      ]
    },
    {
      "cell_type": "markdown",
      "metadata": {
        "id": "DYJ456DV0TF9"
      },
      "source": [
        "### Tokenization\n",
        "\n",
        "The tokenizer is configured with the following parameters:\n",
        "\n",
        "- `padding='max_length'`: Pads all sequences to the maximum length specified.\n",
        "- `truncation=True`: Truncates sequences longer than the maximum length.\n",
        "- `max_length=256`: Sets the maximum sequence length.\n",
        "- `return_tensors='pt'`: Returns PyTorch tensors."
      ]
    },
    {
      "cell_type": "code",
      "execution_count": 6,
      "metadata": {
        "id": "ZevgNA1T0TF9"
      },
      "outputs": [],
      "source": [
        "# Tokenization parameters\n",
        "tokenizer_kwargs = {\n",
        "    'padding': 'max_length',  # Pad sequences to the maximum length\n",
        "    'truncation': True,       # Truncate sequences longer than the maximum length\n",
        "    'max_length': 256,        # Maximum sequence length\n",
        "    'return_tensors': 'pt'    # Return PyTorch tensors\n",
        "}\n"
      ]
    },
    {
      "cell_type": "markdown",
      "metadata": {
        "id": "YNQjAP-w0TF9"
      },
      "source": [
        "**Why is tokenization important for models like RoBERTa?**\n",
        "\n",
        "Tokenization is crucial for models like RoBERTa because it transforms raw text into numerical representations that the model can process. RoBERTa uses subword tokenization (Byte-Pair Encoding) to handle rare and out-of-vocabulary words, preserving the semantic meaning and allowing the model to understand the context.\n",
        "\n",
        "Proper tokenization ensures:\n",
        "\n",
        "- **Consistency**: Text data is consistently formatted, allowing the model to learn effectively.\n",
        "- **Context Preservation**: Subword tokenization preserves the meaning of words in context.\n",
        "- **Efficiency**: Fixed-length inputs allow for efficient batch processing.\n",
        "- **Model Compatibility**: The model expects inputs in a specific tokenized format.\n",
        "\n",
        "---\n",
        "\n",
        "### Preparing the Custom Dataset\n",
        "\n",
        "A custom `FOMCDataset` class is defined to:\n",
        "\n",
        "- **Initialize**: Store texts, labels, tokenizer, and tokenization parameters.\n",
        "- **`__len__`**: Return the total number of samples.\n",
        "- **`__getitem__`**: Retrieve an item by index, tokenize the text, and return input tensors and labels."
      ]
    },
    {
      "cell_type": "code",
      "execution_count": 7,
      "metadata": {
        "id": "ZczP5TEB0TF-"
      },
      "outputs": [],
      "source": [
        "class FOMCDataset(Dataset):\n",
        "    def __init__(self, texts, labels, tokenizer, tokenizer_kwargs):\n",
        "        self.texts = texts.reset_index(drop=True)\n",
        "        self.labels = labels.reset_index(drop=True)\n",
        "        self.tokenizer = tokenizer\n",
        "        self.tokenizer_kwargs = tokenizer_kwargs\n",
        "\n",
        "    def __len__(self):\n",
        "        return len(self.texts)\n",
        "\n",
        "    def __getitem__(self, idx):\n",
        "        text = str(self.texts[idx])\n",
        "        label = self.labels[idx]\n",
        "\n",
        "        encoding = self.tokenizer(text, **self.tokenizer_kwargs)\n",
        "\n",
        "        # Remove the extra dimension added by 'return_tensors' for input_ids and attention_mask\n",
        "        item = {key: val.squeeze(0) for key, val in encoding.items()}\n",
        "        item['labels'] = torch.tensor(label, dtype=torch.long)\n",
        "        return item\n"
      ]
    },
    {
      "cell_type": "markdown",
      "metadata": {
        "id": "t9RSewT30TF-"
      },
      "source": [
        "### Splitting the Data\n",
        "\n",
        "- Split the training data into training and validation sets using an 80/20 split.\n",
        "- Ensured that the labels in the training, validation, and test sets are of integer type."
      ]
    },
    {
      "cell_type": "code",
      "execution_count": 8,
      "metadata": {
        "id": "pIF3e2TX0TF-"
      },
      "outputs": [],
      "source": [
        "# Splitting the training data into training and validation sets (80/20 split)\n",
        "train_texts, val_texts, train_labels, val_labels = train_test_split(\n",
        "    train_df['sentence'],\n",
        "    train_df['label'],\n",
        "    test_size=0.2,\n",
        "    random_state=0\n",
        ")\n",
        "\n",
        "# Ensure labels are integers\n",
        "train_labels = train_labels.astype(int)\n",
        "val_labels = val_labels.astype(int)\n",
        "test_labels = test_df['label'].astype(int)\n"
      ]
    },
    {
      "cell_type": "markdown",
      "metadata": {
        "id": "UnTtTUKz0TF-"
      },
      "source": [
        "### Creating Dataset Instances\n",
        "\n",
        "- Created instances of `FOMCDataset` for the training, validation, and testing datasets."
      ]
    },
    {
      "cell_type": "code",
      "execution_count": 9,
      "metadata": {
        "id": "6kaFos9B0TF-"
      },
      "outputs": [],
      "source": [
        "# Creating dataset instances\n",
        "train_dataset = FOMCDataset(train_texts, train_labels, tokenizer, tokenizer_kwargs)\n",
        "val_dataset = FOMCDataset(val_texts, val_labels, tokenizer, tokenizer_kwargs)\n",
        "test_dataset = FOMCDataset(test_df['sentence'], test_labels, tokenizer, tokenizer_kwargs)\n"
      ]
    },
    {
      "cell_type": "markdown",
      "metadata": {
        "id": "nsv1ltB50TF-"
      },
      "source": [
        "### Defining Evaluation Metrics\n",
        "\n",
        "- Defined a `compute_metrics` function that calculates the weighted F1 score using `sklearn.metrics.f1_score`.\n",
        "- This function will be used during model evaluation to assess performance."
      ]
    },
    {
      "cell_type": "code",
      "execution_count": 10,
      "metadata": {
        "id": "FwFHawpK0TF-"
      },
      "outputs": [],
      "source": [
        "def compute_metrics(eval_pred):\n",
        "    logits, labels = eval_pred\n",
        "    predictions = np.argmax(logits, axis=1)\n",
        "    f1 = f1_score(labels, predictions, average='weighted')\n",
        "    return {'weighted_f1': f1}\n"
      ]
    },
    {
      "cell_type": "markdown",
      "source": [
        "### Handling Class Imbalance\n",
        "\n",
        "- Determined the device (CPU or GPU) for computation using `torch.device`.\n",
        "- Computed class weights using `sklearn.utils.class_weight.compute_class_weight` to address class imbalance in the training data.\n",
        "- Converted the class weights to a tensor and moved it to the appropriate device.\n",
        "- Printed the class weights and their device for verification."
      ],
      "metadata": {
        "id": "LHWBdvMeNqVK"
      }
    },
    {
      "cell_type": "code",
      "source": [
        "# Determine the device\n",
        "device = torch.device('cuda' if torch.cuda.is_available() else 'cpu')\n",
        "print(\"Using device:\", device)\n",
        "\n",
        "# Compute class weights\n",
        "class_weights = compute_class_weight(\n",
        "    class_weight='balanced',\n",
        "    classes=np.unique(train_labels),\n",
        "    y=train_labels\n",
        ")\n",
        "\n",
        "# Convert class weights to a tensor and move to the device\n",
        "class_weights = torch.tensor(class_weights, dtype=torch.float).to(device)\n",
        "\n",
        "# Print class weights for verification\n",
        "print(\"Class Weights:\", class_weights)\n",
        "print(\"Class Weights Device:\", class_weights.device)\n"
      ],
      "metadata": {
        "colab": {
          "base_uri": "https://localhost:8080/",
          "height": 0
        },
        "id": "258nTSOpNuEv",
        "outputId": "0c66d050-b90e-4b58-eb02-1e9919c8aad3"
      },
      "execution_count": 11,
      "outputs": [
        {
          "output_type": "stream",
          "name": "stdout",
          "text": [
            "Using device: cuda\n",
            "Class Weights: tensor([1.1068, 1.2000, 0.7917], device='cuda:0')\n",
            "Class Weights Device: cuda:0\n"
          ]
        }
      ]
    },
    {
      "cell_type": "markdown",
      "source": [
        "### Modifying the Model for Class Weights\n",
        "\n",
        "- Re-initialized the RoBERTa model for sequence classification with three labels.\n",
        "- Moved the model to the appropriate device (CPU or GPU)."
      ],
      "metadata": {
        "id": "LPDzWykhNx-X"
      }
    },
    {
      "cell_type": "code",
      "source": [
        "# Re-initialize the model and move it to the device\n",
        "model = RobertaForSequenceClassification.from_pretrained('roberta-base', num_labels=3)\n",
        "model.to(device)\n"
      ],
      "metadata": {
        "colab": {
          "base_uri": "https://localhost:8080/",
          "height": 0
        },
        "id": "rUFLD4JGNz-N",
        "outputId": "64a1297d-578f-406c-a79d-da2dd64e8e48"
      },
      "execution_count": 12,
      "outputs": [
        {
          "output_type": "stream",
          "name": "stderr",
          "text": [
            "Some weights of RobertaForSequenceClassification were not initialized from the model checkpoint at roberta-base and are newly initialized: ['classifier.dense.bias', 'classifier.dense.weight', 'classifier.out_proj.bias', 'classifier.out_proj.weight']\n",
            "You should probably TRAIN this model on a down-stream task to be able to use it for predictions and inference.\n"
          ]
        },
        {
          "output_type": "execute_result",
          "data": {
            "text/plain": [
              "RobertaForSequenceClassification(\n",
              "  (roberta): RobertaModel(\n",
              "    (embeddings): RobertaEmbeddings(\n",
              "      (word_embeddings): Embedding(50265, 768, padding_idx=1)\n",
              "      (position_embeddings): Embedding(514, 768, padding_idx=1)\n",
              "      (token_type_embeddings): Embedding(1, 768)\n",
              "      (LayerNorm): LayerNorm((768,), eps=1e-05, elementwise_affine=True)\n",
              "      (dropout): Dropout(p=0.1, inplace=False)\n",
              "    )\n",
              "    (encoder): RobertaEncoder(\n",
              "      (layer): ModuleList(\n",
              "        (0-11): 12 x RobertaLayer(\n",
              "          (attention): RobertaAttention(\n",
              "            (self): RobertaSelfAttention(\n",
              "              (query): Linear(in_features=768, out_features=768, bias=True)\n",
              "              (key): Linear(in_features=768, out_features=768, bias=True)\n",
              "              (value): Linear(in_features=768, out_features=768, bias=True)\n",
              "              (dropout): Dropout(p=0.1, inplace=False)\n",
              "            )\n",
              "            (output): RobertaSelfOutput(\n",
              "              (dense): Linear(in_features=768, out_features=768, bias=True)\n",
              "              (LayerNorm): LayerNorm((768,), eps=1e-05, elementwise_affine=True)\n",
              "              (dropout): Dropout(p=0.1, inplace=False)\n",
              "            )\n",
              "          )\n",
              "          (intermediate): RobertaIntermediate(\n",
              "            (dense): Linear(in_features=768, out_features=3072, bias=True)\n",
              "            (intermediate_act_fn): GELUActivation()\n",
              "          )\n",
              "          (output): RobertaOutput(\n",
              "            (dense): Linear(in_features=3072, out_features=768, bias=True)\n",
              "            (LayerNorm): LayerNorm((768,), eps=1e-05, elementwise_affine=True)\n",
              "            (dropout): Dropout(p=0.1, inplace=False)\n",
              "          )\n",
              "        )\n",
              "      )\n",
              "    )\n",
              "  )\n",
              "  (classifier): RobertaClassificationHead(\n",
              "    (dense): Linear(in_features=768, out_features=768, bias=True)\n",
              "    (dropout): Dropout(p=0.1, inplace=False)\n",
              "    (out_proj): Linear(in_features=768, out_features=3, bias=True)\n",
              "  )\n",
              ")"
            ]
          },
          "metadata": {},
          "execution_count": 12
        }
      ]
    },
    {
      "cell_type": "markdown",
      "source": [
        "### Defining the Custom Trainer Class\n",
        "\n",
        "- Defined a custom `CustomTrainer` class that inherits from `Trainer`.\n",
        "- Overrode the `compute_loss` method to include class weights in the loss calculation.\n",
        "- This allows the model to account for class imbalance during training."
      ],
      "metadata": {
        "id": "_Hf5z8WeS2ls"
      }
    },
    {
      "cell_type": "code",
      "source": [
        "from transformers import Trainer\n",
        "\n",
        "# Define a custom Trainer class\n",
        "class CustomTrainer(Trainer):\n",
        "    def compute_loss(self, model, inputs, return_outputs=False):\n",
        "        labels = inputs.get(\"labels\").to(device)\n",
        "        outputs = model(**inputs)\n",
        "        logits = outputs.get('logits')\n",
        "        loss_fct = torch.nn.CrossEntropyLoss(weight=class_weights)\n",
        "        loss = loss_fct(logits, labels)\n",
        "        return (loss, outputs) if return_outputs else loss\n"
      ],
      "metadata": {
        "id": "Qh5xJff4TBSc"
      },
      "execution_count": 13,
      "outputs": []
    },
    {
      "cell_type": "markdown",
      "metadata": {
        "id": "hr2TEEQZ0TF-"
      },
      "source": [
        "### Hyperparameter Optimization\n",
        "\n",
        "- Performed a grid search over the following hyperparameters:\n",
        "  - **Learning Rates**: [5e-5, 3e-5, 2e-5, 1e-5]\n",
        "  - **Batch Sizes**: [4, 8, 16]\n",
        "  - **Epochs**: [3, 5, 10]\n",
        "- Trained the model using different combinations of hyperparameters.\n",
        "- Recorded the validation weighted F1 score for each combination.\n",
        "- Used the `CustomTrainer` class to train the model with the custom loss function."
      ]
    },
    {
      "cell_type": "code",
      "execution_count": 14,
      "metadata": {
        "id": "0U_F1PUR0TF-",
        "colab": {
          "base_uri": "https://localhost:8080/",
          "height": 14139
        },
        "outputId": "b9b23463-05b6-439d-e2b3-026c272e8a74"
      },
      "outputs": [
        {
          "output_type": "stream",
          "name": "stdout",
          "text": [
            "\n",
            "Training with learning_rate=5e-05, batch_size=4, epochs=3\n"
          ]
        },
        {
          "output_type": "stream",
          "name": "stderr",
          "text": [
            "Some weights of RobertaForSequenceClassification were not initialized from the model checkpoint at roberta-base and are newly initialized: ['classifier.dense.bias', 'classifier.dense.weight', 'classifier.out_proj.bias', 'classifier.out_proj.weight']\n",
            "You should probably TRAIN this model on a down-stream task to be able to use it for predictions and inference.\n",
            "/usr/local/lib/python3.10/dist-packages/transformers/training_args.py:1525: FutureWarning: `evaluation_strategy` is deprecated and will be removed in version 4.46 of 🤗 Transformers. Use `eval_strategy` instead\n",
            "  warnings.warn(\n",
            "\u001b[34m\u001b[1mwandb\u001b[0m: \u001b[33mWARNING\u001b[0m The `run_name` is currently set to the same value as `TrainingArguments.output_dir`. If this was not intended, please specify a different run name by setting the `TrainingArguments.run_name` parameter.\n",
            "\u001b[34m\u001b[1mwandb\u001b[0m: Using wandb-core as the SDK backend. Please refer to https://wandb.me/wandb-core for more information.\n",
            "\u001b[34m\u001b[1mwandb\u001b[0m: Currently logged in as: \u001b[33misidoragajic\u001b[0m (\u001b[33misidoragajic-georgia-institute-of-technology\u001b[0m). Use \u001b[1m`wandb login --relogin`\u001b[0m to force relogin\n"
          ]
        },
        {
          "output_type": "display_data",
          "data": {
            "text/plain": [
              "<IPython.core.display.HTML object>"
            ],
            "text/html": [
              "Tracking run with wandb version 0.18.5"
            ]
          },
          "metadata": {}
        },
        {
          "output_type": "display_data",
          "data": {
            "text/plain": [
              "<IPython.core.display.HTML object>"
            ],
            "text/html": [
              "Run data is saved locally in <code>/content/wandb/run-20241025_013311-2cdklp40</code>"
            ]
          },
          "metadata": {}
        },
        {
          "output_type": "display_data",
          "data": {
            "text/plain": [
              "<IPython.core.display.HTML object>"
            ],
            "text/html": [
              "Syncing run <strong><a href='https://wandb.ai/isidoragajic-georgia-institute-of-technology/huggingface/runs/2cdklp40' target=\"_blank\">./results</a></strong> to <a href='https://wandb.ai/isidoragajic-georgia-institute-of-technology/huggingface' target=\"_blank\">Weights & Biases</a> (<a href='https://wandb.me/run' target=\"_blank\">docs</a>)<br/>"
            ]
          },
          "metadata": {}
        },
        {
          "output_type": "display_data",
          "data": {
            "text/plain": [
              "<IPython.core.display.HTML object>"
            ],
            "text/html": [
              " View project at <a href='https://wandb.ai/isidoragajic-georgia-institute-of-technology/huggingface' target=\"_blank\">https://wandb.ai/isidoragajic-georgia-institute-of-technology/huggingface</a>"
            ]
          },
          "metadata": {}
        },
        {
          "output_type": "display_data",
          "data": {
            "text/plain": [
              "<IPython.core.display.HTML object>"
            ],
            "text/html": [
              " View run at <a href='https://wandb.ai/isidoragajic-georgia-institute-of-technology/huggingface/runs/2cdklp40' target=\"_blank\">https://wandb.ai/isidoragajic-georgia-institute-of-technology/huggingface/runs/2cdklp40</a>"
            ]
          },
          "metadata": {}
        },
        {
          "output_type": "display_data",
          "data": {
            "text/plain": [
              "<IPython.core.display.HTML object>"
            ],
            "text/html": [
              "\n",
              "    <div>\n",
              "      \n",
              "      <progress value='513' max='513' style='width:300px; height:20px; vertical-align: middle;'></progress>\n",
              "      [513/513 00:33, Epoch 3/3]\n",
              "    </div>\n",
              "    <table border=\"1\" class=\"dataframe\">\n",
              "  <thead>\n",
              " <tr style=\"text-align: left;\">\n",
              "      <th>Epoch</th>\n",
              "      <th>Training Loss</th>\n",
              "      <th>Validation Loss</th>\n",
              "      <th>Weighted F1</th>\n",
              "    </tr>\n",
              "  </thead>\n",
              "  <tbody>\n",
              "    <tr>\n",
              "      <td>1</td>\n",
              "      <td>1.114500</td>\n",
              "      <td>1.097602</td>\n",
              "      <td>0.150031</td>\n",
              "    </tr>\n",
              "    <tr>\n",
              "      <td>2</td>\n",
              "      <td>1.105500</td>\n",
              "      <td>1.098453</td>\n",
              "      <td>0.235441</td>\n",
              "    </tr>\n",
              "    <tr>\n",
              "      <td>3</td>\n",
              "      <td>1.105600</td>\n",
              "      <td>1.098140</td>\n",
              "      <td>0.235441</td>\n",
              "    </tr>\n",
              "  </tbody>\n",
              "</table><p>"
            ]
          },
          "metadata": {}
        },
        {
          "output_type": "display_data",
          "data": {
            "text/plain": [
              "<IPython.core.display.HTML object>"
            ],
            "text/html": [
              "\n",
              "    <div>\n",
              "      \n",
              "      <progress value='43' max='43' style='width:300px; height:20px; vertical-align: middle;'></progress>\n",
              "      [43/43 00:00]\n",
              "    </div>\n",
              "    "
            ]
          },
          "metadata": {}
        },
        {
          "output_type": "stream",
          "name": "stdout",
          "text": [
            "Validation Weighted F1 Score: 0.2354\n",
            "\n",
            "Training with learning_rate=5e-05, batch_size=4, epochs=5\n"
          ]
        },
        {
          "output_type": "stream",
          "name": "stderr",
          "text": [
            "Some weights of RobertaForSequenceClassification were not initialized from the model checkpoint at roberta-base and are newly initialized: ['classifier.dense.bias', 'classifier.dense.weight', 'classifier.out_proj.bias', 'classifier.out_proj.weight']\n",
            "You should probably TRAIN this model on a down-stream task to be able to use it for predictions and inference.\n",
            "/usr/local/lib/python3.10/dist-packages/transformers/training_args.py:1525: FutureWarning: `evaluation_strategy` is deprecated and will be removed in version 4.46 of 🤗 Transformers. Use `eval_strategy` instead\n",
            "  warnings.warn(\n"
          ]
        },
        {
          "output_type": "display_data",
          "data": {
            "text/plain": [
              "<IPython.core.display.HTML object>"
            ],
            "text/html": [
              "\n",
              "    <div>\n",
              "      \n",
              "      <progress value='855' max='855' style='width:300px; height:20px; vertical-align: middle;'></progress>\n",
              "      [855/855 00:55, Epoch 5/5]\n",
              "    </div>\n",
              "    <table border=\"1\" class=\"dataframe\">\n",
              "  <thead>\n",
              " <tr style=\"text-align: left;\">\n",
              "      <th>Epoch</th>\n",
              "      <th>Training Loss</th>\n",
              "      <th>Validation Loss</th>\n",
              "      <th>Weighted F1</th>\n",
              "    </tr>\n",
              "  </thead>\n",
              "  <tbody>\n",
              "    <tr>\n",
              "      <td>1</td>\n",
              "      <td>1.119400</td>\n",
              "      <td>1.098241</td>\n",
              "      <td>0.150031</td>\n",
              "    </tr>\n",
              "    <tr>\n",
              "      <td>2</td>\n",
              "      <td>1.108600</td>\n",
              "      <td>1.097686</td>\n",
              "      <td>0.235441</td>\n",
              "    </tr>\n",
              "    <tr>\n",
              "      <td>3</td>\n",
              "      <td>1.106800</td>\n",
              "      <td>1.100017</td>\n",
              "      <td>0.150031</td>\n",
              "    </tr>\n",
              "    <tr>\n",
              "      <td>4</td>\n",
              "      <td>1.099400</td>\n",
              "      <td>1.095948</td>\n",
              "      <td>0.150031</td>\n",
              "    </tr>\n",
              "    <tr>\n",
              "      <td>5</td>\n",
              "      <td>1.102600</td>\n",
              "      <td>1.098231</td>\n",
              "      <td>0.235441</td>\n",
              "    </tr>\n",
              "  </tbody>\n",
              "</table><p>"
            ]
          },
          "metadata": {}
        },
        {
          "output_type": "display_data",
          "data": {
            "text/plain": [
              "<IPython.core.display.HTML object>"
            ],
            "text/html": [
              "\n",
              "    <div>\n",
              "      \n",
              "      <progress value='43' max='43' style='width:300px; height:20px; vertical-align: middle;'></progress>\n",
              "      [43/43 00:00]\n",
              "    </div>\n",
              "    "
            ]
          },
          "metadata": {}
        },
        {
          "output_type": "stream",
          "name": "stdout",
          "text": [
            "Validation Weighted F1 Score: 0.2354\n",
            "\n",
            "Training with learning_rate=5e-05, batch_size=4, epochs=10\n"
          ]
        },
        {
          "output_type": "stream",
          "name": "stderr",
          "text": [
            "Some weights of RobertaForSequenceClassification were not initialized from the model checkpoint at roberta-base and are newly initialized: ['classifier.dense.bias', 'classifier.dense.weight', 'classifier.out_proj.bias', 'classifier.out_proj.weight']\n",
            "You should probably TRAIN this model on a down-stream task to be able to use it for predictions and inference.\n",
            "/usr/local/lib/python3.10/dist-packages/transformers/training_args.py:1525: FutureWarning: `evaluation_strategy` is deprecated and will be removed in version 4.46 of 🤗 Transformers. Use `eval_strategy` instead\n",
            "  warnings.warn(\n"
          ]
        },
        {
          "output_type": "display_data",
          "data": {
            "text/plain": [
              "<IPython.core.display.HTML object>"
            ],
            "text/html": [
              "\n",
              "    <div>\n",
              "      \n",
              "      <progress value='1710' max='1710' style='width:300px; height:20px; vertical-align: middle;'></progress>\n",
              "      [1710/1710 01:51, Epoch 10/10]\n",
              "    </div>\n",
              "    <table border=\"1\" class=\"dataframe\">\n",
              "  <thead>\n",
              " <tr style=\"text-align: left;\">\n",
              "      <th>Epoch</th>\n",
              "      <th>Training Loss</th>\n",
              "      <th>Validation Loss</th>\n",
              "      <th>Weighted F1</th>\n",
              "    </tr>\n",
              "  </thead>\n",
              "  <tbody>\n",
              "    <tr>\n",
              "      <td>1</td>\n",
              "      <td>1.119900</td>\n",
              "      <td>1.098616</td>\n",
              "      <td>0.150031</td>\n",
              "    </tr>\n",
              "    <tr>\n",
              "      <td>2</td>\n",
              "      <td>1.112400</td>\n",
              "      <td>1.097134</td>\n",
              "      <td>0.150031</td>\n",
              "    </tr>\n",
              "    <tr>\n",
              "      <td>3</td>\n",
              "      <td>1.111400</td>\n",
              "      <td>1.098683</td>\n",
              "      <td>0.150031</td>\n",
              "    </tr>\n",
              "    <tr>\n",
              "      <td>4</td>\n",
              "      <td>1.104300</td>\n",
              "      <td>1.098050</td>\n",
              "      <td>0.150031</td>\n",
              "    </tr>\n",
              "    <tr>\n",
              "      <td>5</td>\n",
              "      <td>1.112100</td>\n",
              "      <td>1.100043</td>\n",
              "      <td>0.121776</td>\n",
              "    </tr>\n",
              "    <tr>\n",
              "      <td>6</td>\n",
              "      <td>1.104400</td>\n",
              "      <td>1.097508</td>\n",
              "      <td>0.150031</td>\n",
              "    </tr>\n",
              "    <tr>\n",
              "      <td>7</td>\n",
              "      <td>1.106400</td>\n",
              "      <td>1.099237</td>\n",
              "      <td>0.235441</td>\n",
              "    </tr>\n",
              "    <tr>\n",
              "      <td>8</td>\n",
              "      <td>1.100100</td>\n",
              "      <td>1.101147</td>\n",
              "      <td>0.121776</td>\n",
              "    </tr>\n",
              "    <tr>\n",
              "      <td>9</td>\n",
              "      <td>1.101500</td>\n",
              "      <td>1.098725</td>\n",
              "      <td>0.235441</td>\n",
              "    </tr>\n",
              "    <tr>\n",
              "      <td>10</td>\n",
              "      <td>1.101000</td>\n",
              "      <td>1.099377</td>\n",
              "      <td>0.121776</td>\n",
              "    </tr>\n",
              "  </tbody>\n",
              "</table><p>"
            ]
          },
          "metadata": {}
        },
        {
          "output_type": "display_data",
          "data": {
            "text/plain": [
              "<IPython.core.display.HTML object>"
            ],
            "text/html": [
              "\n",
              "    <div>\n",
              "      \n",
              "      <progress value='43' max='43' style='width:300px; height:20px; vertical-align: middle;'></progress>\n",
              "      [43/43 00:00]\n",
              "    </div>\n",
              "    "
            ]
          },
          "metadata": {}
        },
        {
          "output_type": "stream",
          "name": "stdout",
          "text": [
            "Validation Weighted F1 Score: 0.1218\n",
            "\n",
            "Training with learning_rate=5e-05, batch_size=8, epochs=3\n"
          ]
        },
        {
          "output_type": "stream",
          "name": "stderr",
          "text": [
            "Some weights of RobertaForSequenceClassification were not initialized from the model checkpoint at roberta-base and are newly initialized: ['classifier.dense.bias', 'classifier.dense.weight', 'classifier.out_proj.bias', 'classifier.out_proj.weight']\n",
            "You should probably TRAIN this model on a down-stream task to be able to use it for predictions and inference.\n",
            "/usr/local/lib/python3.10/dist-packages/transformers/training_args.py:1525: FutureWarning: `evaluation_strategy` is deprecated and will be removed in version 4.46 of 🤗 Transformers. Use `eval_strategy` instead\n",
            "  warnings.warn(\n"
          ]
        },
        {
          "output_type": "display_data",
          "data": {
            "text/plain": [
              "<IPython.core.display.HTML object>"
            ],
            "text/html": [
              "\n",
              "    <div>\n",
              "      \n",
              "      <progress value='258' max='258' style='width:300px; height:20px; vertical-align: middle;'></progress>\n",
              "      [258/258 00:28, Epoch 3/3]\n",
              "    </div>\n",
              "    <table border=\"1\" class=\"dataframe\">\n",
              "  <thead>\n",
              " <tr style=\"text-align: left;\">\n",
              "      <th>Epoch</th>\n",
              "      <th>Training Loss</th>\n",
              "      <th>Validation Loss</th>\n",
              "      <th>Weighted F1</th>\n",
              "    </tr>\n",
              "  </thead>\n",
              "  <tbody>\n",
              "    <tr>\n",
              "      <td>1</td>\n",
              "      <td>1.119700</td>\n",
              "      <td>1.099438</td>\n",
              "      <td>0.150031</td>\n",
              "    </tr>\n",
              "    <tr>\n",
              "      <td>2</td>\n",
              "      <td>1.110000</td>\n",
              "      <td>1.097014</td>\n",
              "      <td>0.150031</td>\n",
              "    </tr>\n",
              "    <tr>\n",
              "      <td>3</td>\n",
              "      <td>1.102900</td>\n",
              "      <td>1.097488</td>\n",
              "      <td>0.235441</td>\n",
              "    </tr>\n",
              "  </tbody>\n",
              "</table><p>"
            ]
          },
          "metadata": {}
        },
        {
          "output_type": "display_data",
          "data": {
            "text/plain": [
              "<IPython.core.display.HTML object>"
            ],
            "text/html": [
              "\n",
              "    <div>\n",
              "      \n",
              "      <progress value='22' max='22' style='width:300px; height:20px; vertical-align: middle;'></progress>\n",
              "      [22/22 00:00]\n",
              "    </div>\n",
              "    "
            ]
          },
          "metadata": {}
        },
        {
          "output_type": "stream",
          "name": "stdout",
          "text": [
            "Validation Weighted F1 Score: 0.2354\n",
            "\n",
            "Training with learning_rate=5e-05, batch_size=8, epochs=5\n"
          ]
        },
        {
          "output_type": "stream",
          "name": "stderr",
          "text": [
            "Some weights of RobertaForSequenceClassification were not initialized from the model checkpoint at roberta-base and are newly initialized: ['classifier.dense.bias', 'classifier.dense.weight', 'classifier.out_proj.bias', 'classifier.out_proj.weight']\n",
            "You should probably TRAIN this model on a down-stream task to be able to use it for predictions and inference.\n",
            "/usr/local/lib/python3.10/dist-packages/transformers/training_args.py:1525: FutureWarning: `evaluation_strategy` is deprecated and will be removed in version 4.46 of 🤗 Transformers. Use `eval_strategy` instead\n",
            "  warnings.warn(\n"
          ]
        },
        {
          "output_type": "display_data",
          "data": {
            "text/plain": [
              "<IPython.core.display.HTML object>"
            ],
            "text/html": [
              "\n",
              "    <div>\n",
              "      \n",
              "      <progress value='430' max='430' style='width:300px; height:20px; vertical-align: middle;'></progress>\n",
              "      [430/430 00:46, Epoch 5/5]\n",
              "    </div>\n",
              "    <table border=\"1\" class=\"dataframe\">\n",
              "  <thead>\n",
              " <tr style=\"text-align: left;\">\n",
              "      <th>Epoch</th>\n",
              "      <th>Training Loss</th>\n",
              "      <th>Validation Loss</th>\n",
              "      <th>Weighted F1</th>\n",
              "    </tr>\n",
              "  </thead>\n",
              "  <tbody>\n",
              "    <tr>\n",
              "      <td>1</td>\n",
              "      <td>1.113000</td>\n",
              "      <td>1.102226</td>\n",
              "      <td>0.150031</td>\n",
              "    </tr>\n",
              "    <tr>\n",
              "      <td>2</td>\n",
              "      <td>1.108100</td>\n",
              "      <td>1.098091</td>\n",
              "      <td>0.150031</td>\n",
              "    </tr>\n",
              "    <tr>\n",
              "      <td>3</td>\n",
              "      <td>1.106200</td>\n",
              "      <td>1.098779</td>\n",
              "      <td>0.369804</td>\n",
              "    </tr>\n",
              "    <tr>\n",
              "      <td>4</td>\n",
              "      <td>1.039800</td>\n",
              "      <td>1.007809</td>\n",
              "      <td>0.408818</td>\n",
              "    </tr>\n",
              "    <tr>\n",
              "      <td>5</td>\n",
              "      <td>0.891500</td>\n",
              "      <td>1.021212</td>\n",
              "      <td>0.461890</td>\n",
              "    </tr>\n",
              "  </tbody>\n",
              "</table><p>"
            ]
          },
          "metadata": {}
        },
        {
          "output_type": "display_data",
          "data": {
            "text/plain": [
              "<IPython.core.display.HTML object>"
            ],
            "text/html": [
              "\n",
              "    <div>\n",
              "      \n",
              "      <progress value='22' max='22' style='width:300px; height:20px; vertical-align: middle;'></progress>\n",
              "      [22/22 00:00]\n",
              "    </div>\n",
              "    "
            ]
          },
          "metadata": {}
        },
        {
          "output_type": "stream",
          "name": "stdout",
          "text": [
            "Validation Weighted F1 Score: 0.4619\n",
            "\n",
            "Training with learning_rate=5e-05, batch_size=8, epochs=10\n"
          ]
        },
        {
          "output_type": "stream",
          "name": "stderr",
          "text": [
            "Some weights of RobertaForSequenceClassification were not initialized from the model checkpoint at roberta-base and are newly initialized: ['classifier.dense.bias', 'classifier.dense.weight', 'classifier.out_proj.bias', 'classifier.out_proj.weight']\n",
            "You should probably TRAIN this model on a down-stream task to be able to use it for predictions and inference.\n",
            "/usr/local/lib/python3.10/dist-packages/transformers/training_args.py:1525: FutureWarning: `evaluation_strategy` is deprecated and will be removed in version 4.46 of 🤗 Transformers. Use `eval_strategy` instead\n",
            "  warnings.warn(\n"
          ]
        },
        {
          "output_type": "display_data",
          "data": {
            "text/plain": [
              "<IPython.core.display.HTML object>"
            ],
            "text/html": [
              "\n",
              "    <div>\n",
              "      \n",
              "      <progress value='860' max='860' style='width:300px; height:20px; vertical-align: middle;'></progress>\n",
              "      [860/860 01:33, Epoch 10/10]\n",
              "    </div>\n",
              "    <table border=\"1\" class=\"dataframe\">\n",
              "  <thead>\n",
              " <tr style=\"text-align: left;\">\n",
              "      <th>Epoch</th>\n",
              "      <th>Training Loss</th>\n",
              "      <th>Validation Loss</th>\n",
              "      <th>Weighted F1</th>\n",
              "    </tr>\n",
              "  </thead>\n",
              "  <tbody>\n",
              "    <tr>\n",
              "      <td>1</td>\n",
              "      <td>1.115500</td>\n",
              "      <td>1.102246</td>\n",
              "      <td>0.150031</td>\n",
              "    </tr>\n",
              "    <tr>\n",
              "      <td>2</td>\n",
              "      <td>1.107900</td>\n",
              "      <td>1.098351</td>\n",
              "      <td>0.150031</td>\n",
              "    </tr>\n",
              "    <tr>\n",
              "      <td>3</td>\n",
              "      <td>1.108700</td>\n",
              "      <td>1.096182</td>\n",
              "      <td>0.150031</td>\n",
              "    </tr>\n",
              "    <tr>\n",
              "      <td>4</td>\n",
              "      <td>1.101200</td>\n",
              "      <td>1.096706</td>\n",
              "      <td>0.235441</td>\n",
              "    </tr>\n",
              "    <tr>\n",
              "      <td>5</td>\n",
              "      <td>1.107700</td>\n",
              "      <td>1.096363</td>\n",
              "      <td>0.150031</td>\n",
              "    </tr>\n",
              "    <tr>\n",
              "      <td>6</td>\n",
              "      <td>1.104300</td>\n",
              "      <td>1.097924</td>\n",
              "      <td>0.150031</td>\n",
              "    </tr>\n",
              "    <tr>\n",
              "      <td>7</td>\n",
              "      <td>1.103200</td>\n",
              "      <td>1.100150</td>\n",
              "      <td>0.121776</td>\n",
              "    </tr>\n",
              "    <tr>\n",
              "      <td>8</td>\n",
              "      <td>1.104500</td>\n",
              "      <td>1.098299</td>\n",
              "      <td>0.150031</td>\n",
              "    </tr>\n",
              "    <tr>\n",
              "      <td>9</td>\n",
              "      <td>1.101500</td>\n",
              "      <td>1.097101</td>\n",
              "      <td>0.150031</td>\n",
              "    </tr>\n",
              "    <tr>\n",
              "      <td>10</td>\n",
              "      <td>1.098000</td>\n",
              "      <td>1.097315</td>\n",
              "      <td>0.150031</td>\n",
              "    </tr>\n",
              "  </tbody>\n",
              "</table><p>"
            ]
          },
          "metadata": {}
        },
        {
          "output_type": "display_data",
          "data": {
            "text/plain": [
              "<IPython.core.display.HTML object>"
            ],
            "text/html": [
              "\n",
              "    <div>\n",
              "      \n",
              "      <progress value='22' max='22' style='width:300px; height:20px; vertical-align: middle;'></progress>\n",
              "      [22/22 00:00]\n",
              "    </div>\n",
              "    "
            ]
          },
          "metadata": {}
        },
        {
          "output_type": "stream",
          "name": "stdout",
          "text": [
            "Validation Weighted F1 Score: 0.1500\n",
            "\n",
            "Training with learning_rate=5e-05, batch_size=16, epochs=3\n"
          ]
        },
        {
          "output_type": "stream",
          "name": "stderr",
          "text": [
            "Some weights of RobertaForSequenceClassification were not initialized from the model checkpoint at roberta-base and are newly initialized: ['classifier.dense.bias', 'classifier.dense.weight', 'classifier.out_proj.bias', 'classifier.out_proj.weight']\n",
            "You should probably TRAIN this model on a down-stream task to be able to use it for predictions and inference.\n",
            "/usr/local/lib/python3.10/dist-packages/transformers/training_args.py:1525: FutureWarning: `evaluation_strategy` is deprecated and will be removed in version 4.46 of 🤗 Transformers. Use `eval_strategy` instead\n",
            "  warnings.warn(\n"
          ]
        },
        {
          "output_type": "display_data",
          "data": {
            "text/plain": [
              "<IPython.core.display.HTML object>"
            ],
            "text/html": [
              "\n",
              "    <div>\n",
              "      \n",
              "      <progress value='129' max='129' style='width:300px; height:20px; vertical-align: middle;'></progress>\n",
              "      [129/129 00:25, Epoch 3/3]\n",
              "    </div>\n",
              "    <table border=\"1\" class=\"dataframe\">\n",
              "  <thead>\n",
              " <tr style=\"text-align: left;\">\n",
              "      <th>Epoch</th>\n",
              "      <th>Training Loss</th>\n",
              "      <th>Validation Loss</th>\n",
              "      <th>Weighted F1</th>\n",
              "    </tr>\n",
              "  </thead>\n",
              "  <tbody>\n",
              "    <tr>\n",
              "      <td>1</td>\n",
              "      <td>1.110700</td>\n",
              "      <td>1.097567</td>\n",
              "      <td>0.184766</td>\n",
              "    </tr>\n",
              "    <tr>\n",
              "      <td>2</td>\n",
              "      <td>1.101600</td>\n",
              "      <td>1.095152</td>\n",
              "      <td>0.248046</td>\n",
              "    </tr>\n",
              "    <tr>\n",
              "      <td>3</td>\n",
              "      <td>1.077800</td>\n",
              "      <td>1.071618</td>\n",
              "      <td>0.423650</td>\n",
              "    </tr>\n",
              "  </tbody>\n",
              "</table><p>"
            ]
          },
          "metadata": {}
        },
        {
          "output_type": "display_data",
          "data": {
            "text/plain": [
              "<IPython.core.display.HTML object>"
            ],
            "text/html": [
              "\n",
              "    <div>\n",
              "      \n",
              "      <progress value='11' max='11' style='width:300px; height:20px; vertical-align: middle;'></progress>\n",
              "      [11/11 00:00]\n",
              "    </div>\n",
              "    "
            ]
          },
          "metadata": {}
        },
        {
          "output_type": "stream",
          "name": "stdout",
          "text": [
            "Validation Weighted F1 Score: 0.4237\n",
            "\n",
            "Training with learning_rate=5e-05, batch_size=16, epochs=5\n"
          ]
        },
        {
          "output_type": "stream",
          "name": "stderr",
          "text": [
            "Some weights of RobertaForSequenceClassification were not initialized from the model checkpoint at roberta-base and are newly initialized: ['classifier.dense.bias', 'classifier.dense.weight', 'classifier.out_proj.bias', 'classifier.out_proj.weight']\n",
            "You should probably TRAIN this model on a down-stream task to be able to use it for predictions and inference.\n",
            "/usr/local/lib/python3.10/dist-packages/transformers/training_args.py:1525: FutureWarning: `evaluation_strategy` is deprecated and will be removed in version 4.46 of 🤗 Transformers. Use `eval_strategy` instead\n",
            "  warnings.warn(\n"
          ]
        },
        {
          "output_type": "display_data",
          "data": {
            "text/plain": [
              "<IPython.core.display.HTML object>"
            ],
            "text/html": [
              "\n",
              "    <div>\n",
              "      \n",
              "      <progress value='215' max='215' style='width:300px; height:20px; vertical-align: middle;'></progress>\n",
              "      [215/215 00:42, Epoch 5/5]\n",
              "    </div>\n",
              "    <table border=\"1\" class=\"dataframe\">\n",
              "  <thead>\n",
              " <tr style=\"text-align: left;\">\n",
              "      <th>Epoch</th>\n",
              "      <th>Training Loss</th>\n",
              "      <th>Validation Loss</th>\n",
              "      <th>Weighted F1</th>\n",
              "    </tr>\n",
              "  </thead>\n",
              "  <tbody>\n",
              "    <tr>\n",
              "      <td>1</td>\n",
              "      <td>1.112500</td>\n",
              "      <td>1.099032</td>\n",
              "      <td>0.121776</td>\n",
              "    </tr>\n",
              "    <tr>\n",
              "      <td>2</td>\n",
              "      <td>1.102500</td>\n",
              "      <td>1.100327</td>\n",
              "      <td>0.121776</td>\n",
              "    </tr>\n",
              "    <tr>\n",
              "      <td>3</td>\n",
              "      <td>1.101200</td>\n",
              "      <td>1.101534</td>\n",
              "      <td>0.121776</td>\n",
              "    </tr>\n",
              "    <tr>\n",
              "      <td>4</td>\n",
              "      <td>1.108100</td>\n",
              "      <td>1.100451</td>\n",
              "      <td>0.121776</td>\n",
              "    </tr>\n",
              "    <tr>\n",
              "      <td>5</td>\n",
              "      <td>1.099300</td>\n",
              "      <td>1.100065</td>\n",
              "      <td>0.235441</td>\n",
              "    </tr>\n",
              "  </tbody>\n",
              "</table><p>"
            ]
          },
          "metadata": {}
        },
        {
          "output_type": "display_data",
          "data": {
            "text/plain": [
              "<IPython.core.display.HTML object>"
            ],
            "text/html": [
              "\n",
              "    <div>\n",
              "      \n",
              "      <progress value='11' max='11' style='width:300px; height:20px; vertical-align: middle;'></progress>\n",
              "      [11/11 00:00]\n",
              "    </div>\n",
              "    "
            ]
          },
          "metadata": {}
        },
        {
          "output_type": "stream",
          "name": "stdout",
          "text": [
            "Validation Weighted F1 Score: 0.2354\n",
            "\n",
            "Training with learning_rate=5e-05, batch_size=16, epochs=10\n"
          ]
        },
        {
          "output_type": "stream",
          "name": "stderr",
          "text": [
            "Some weights of RobertaForSequenceClassification were not initialized from the model checkpoint at roberta-base and are newly initialized: ['classifier.dense.bias', 'classifier.dense.weight', 'classifier.out_proj.bias', 'classifier.out_proj.weight']\n",
            "You should probably TRAIN this model on a down-stream task to be able to use it for predictions and inference.\n",
            "/usr/local/lib/python3.10/dist-packages/transformers/training_args.py:1525: FutureWarning: `evaluation_strategy` is deprecated and will be removed in version 4.46 of 🤗 Transformers. Use `eval_strategy` instead\n",
            "  warnings.warn(\n"
          ]
        },
        {
          "output_type": "display_data",
          "data": {
            "text/plain": [
              "<IPython.core.display.HTML object>"
            ],
            "text/html": [
              "\n",
              "    <div>\n",
              "      \n",
              "      <progress value='430' max='430' style='width:300px; height:20px; vertical-align: middle;'></progress>\n",
              "      [430/430 01:25, Epoch 10/10]\n",
              "    </div>\n",
              "    <table border=\"1\" class=\"dataframe\">\n",
              "  <thead>\n",
              " <tr style=\"text-align: left;\">\n",
              "      <th>Epoch</th>\n",
              "      <th>Training Loss</th>\n",
              "      <th>Validation Loss</th>\n",
              "      <th>Weighted F1</th>\n",
              "    </tr>\n",
              "  </thead>\n",
              "  <tbody>\n",
              "    <tr>\n",
              "      <td>1</td>\n",
              "      <td>1.111300</td>\n",
              "      <td>1.096947</td>\n",
              "      <td>0.171145</td>\n",
              "    </tr>\n",
              "    <tr>\n",
              "      <td>2</td>\n",
              "      <td>1.083800</td>\n",
              "      <td>1.011780</td>\n",
              "      <td>0.354427</td>\n",
              "    </tr>\n",
              "    <tr>\n",
              "      <td>3</td>\n",
              "      <td>0.857100</td>\n",
              "      <td>0.784520</td>\n",
              "      <td>0.628286</td>\n",
              "    </tr>\n",
              "    <tr>\n",
              "      <td>4</td>\n",
              "      <td>0.548900</td>\n",
              "      <td>0.698894</td>\n",
              "      <td>0.699045</td>\n",
              "    </tr>\n",
              "    <tr>\n",
              "      <td>5</td>\n",
              "      <td>0.328300</td>\n",
              "      <td>0.996833</td>\n",
              "      <td>0.668261</td>\n",
              "    </tr>\n",
              "    <tr>\n",
              "      <td>6</td>\n",
              "      <td>0.193200</td>\n",
              "      <td>1.218801</td>\n",
              "      <td>0.687019</td>\n",
              "    </tr>\n",
              "    <tr>\n",
              "      <td>7</td>\n",
              "      <td>0.124600</td>\n",
              "      <td>1.454016</td>\n",
              "      <td>0.716403</td>\n",
              "    </tr>\n",
              "    <tr>\n",
              "      <td>8</td>\n",
              "      <td>0.047200</td>\n",
              "      <td>1.563954</td>\n",
              "      <td>0.682447</td>\n",
              "    </tr>\n",
              "    <tr>\n",
              "      <td>9</td>\n",
              "      <td>0.036000</td>\n",
              "      <td>1.527733</td>\n",
              "      <td>0.705095</td>\n",
              "    </tr>\n",
              "    <tr>\n",
              "      <td>10</td>\n",
              "      <td>0.024200</td>\n",
              "      <td>1.570841</td>\n",
              "      <td>0.717641</td>\n",
              "    </tr>\n",
              "  </tbody>\n",
              "</table><p>"
            ]
          },
          "metadata": {}
        },
        {
          "output_type": "display_data",
          "data": {
            "text/plain": [
              "<IPython.core.display.HTML object>"
            ],
            "text/html": [
              "\n",
              "    <div>\n",
              "      \n",
              "      <progress value='11' max='11' style='width:300px; height:20px; vertical-align: middle;'></progress>\n",
              "      [11/11 00:00]\n",
              "    </div>\n",
              "    "
            ]
          },
          "metadata": {}
        },
        {
          "output_type": "stream",
          "name": "stdout",
          "text": [
            "Validation Weighted F1 Score: 0.7176\n",
            "\n",
            "Training with learning_rate=3e-05, batch_size=4, epochs=3\n"
          ]
        },
        {
          "output_type": "stream",
          "name": "stderr",
          "text": [
            "Some weights of RobertaForSequenceClassification were not initialized from the model checkpoint at roberta-base and are newly initialized: ['classifier.dense.bias', 'classifier.dense.weight', 'classifier.out_proj.bias', 'classifier.out_proj.weight']\n",
            "You should probably TRAIN this model on a down-stream task to be able to use it for predictions and inference.\n",
            "/usr/local/lib/python3.10/dist-packages/transformers/training_args.py:1525: FutureWarning: `evaluation_strategy` is deprecated and will be removed in version 4.46 of 🤗 Transformers. Use `eval_strategy` instead\n",
            "  warnings.warn(\n"
          ]
        },
        {
          "output_type": "display_data",
          "data": {
            "text/plain": [
              "<IPython.core.display.HTML object>"
            ],
            "text/html": [
              "\n",
              "    <div>\n",
              "      \n",
              "      <progress value='513' max='513' style='width:300px; height:20px; vertical-align: middle;'></progress>\n",
              "      [513/513 00:33, Epoch 3/3]\n",
              "    </div>\n",
              "    <table border=\"1\" class=\"dataframe\">\n",
              "  <thead>\n",
              " <tr style=\"text-align: left;\">\n",
              "      <th>Epoch</th>\n",
              "      <th>Training Loss</th>\n",
              "      <th>Validation Loss</th>\n",
              "      <th>Weighted F1</th>\n",
              "    </tr>\n",
              "  </thead>\n",
              "  <tbody>\n",
              "    <tr>\n",
              "      <td>1</td>\n",
              "      <td>1.106800</td>\n",
              "      <td>1.099053</td>\n",
              "      <td>0.150031</td>\n",
              "    </tr>\n",
              "    <tr>\n",
              "      <td>2</td>\n",
              "      <td>1.111800</td>\n",
              "      <td>1.097990</td>\n",
              "      <td>0.235441</td>\n",
              "    </tr>\n",
              "    <tr>\n",
              "      <td>3</td>\n",
              "      <td>1.104900</td>\n",
              "      <td>1.098010</td>\n",
              "      <td>0.235441</td>\n",
              "    </tr>\n",
              "  </tbody>\n",
              "</table><p>"
            ]
          },
          "metadata": {}
        },
        {
          "output_type": "display_data",
          "data": {
            "text/plain": [
              "<IPython.core.display.HTML object>"
            ],
            "text/html": [
              "\n",
              "    <div>\n",
              "      \n",
              "      <progress value='43' max='43' style='width:300px; height:20px; vertical-align: middle;'></progress>\n",
              "      [43/43 00:00]\n",
              "    </div>\n",
              "    "
            ]
          },
          "metadata": {}
        },
        {
          "output_type": "stream",
          "name": "stdout",
          "text": [
            "Validation Weighted F1 Score: 0.2354\n",
            "\n",
            "Training with learning_rate=3e-05, batch_size=4, epochs=5\n"
          ]
        },
        {
          "output_type": "stream",
          "name": "stderr",
          "text": [
            "Some weights of RobertaForSequenceClassification were not initialized from the model checkpoint at roberta-base and are newly initialized: ['classifier.dense.bias', 'classifier.dense.weight', 'classifier.out_proj.bias', 'classifier.out_proj.weight']\n",
            "You should probably TRAIN this model on a down-stream task to be able to use it for predictions and inference.\n",
            "/usr/local/lib/python3.10/dist-packages/transformers/training_args.py:1525: FutureWarning: `evaluation_strategy` is deprecated and will be removed in version 4.46 of 🤗 Transformers. Use `eval_strategy` instead\n",
            "  warnings.warn(\n"
          ]
        },
        {
          "output_type": "display_data",
          "data": {
            "text/plain": [
              "<IPython.core.display.HTML object>"
            ],
            "text/html": [
              "\n",
              "    <div>\n",
              "      \n",
              "      <progress value='855' max='855' style='width:300px; height:20px; vertical-align: middle;'></progress>\n",
              "      [855/855 00:55, Epoch 5/5]\n",
              "    </div>\n",
              "    <table border=\"1\" class=\"dataframe\">\n",
              "  <thead>\n",
              " <tr style=\"text-align: left;\">\n",
              "      <th>Epoch</th>\n",
              "      <th>Training Loss</th>\n",
              "      <th>Validation Loss</th>\n",
              "      <th>Weighted F1</th>\n",
              "    </tr>\n",
              "  </thead>\n",
              "  <tbody>\n",
              "    <tr>\n",
              "      <td>1</td>\n",
              "      <td>1.114800</td>\n",
              "      <td>1.100593</td>\n",
              "      <td>0.150031</td>\n",
              "    </tr>\n",
              "    <tr>\n",
              "      <td>2</td>\n",
              "      <td>1.103700</td>\n",
              "      <td>1.098366</td>\n",
              "      <td>0.235441</td>\n",
              "    </tr>\n",
              "    <tr>\n",
              "      <td>3</td>\n",
              "      <td>1.103000</td>\n",
              "      <td>1.099177</td>\n",
              "      <td>0.220485</td>\n",
              "    </tr>\n",
              "    <tr>\n",
              "      <td>4</td>\n",
              "      <td>1.077900</td>\n",
              "      <td>0.969672</td>\n",
              "      <td>0.493180</td>\n",
              "    </tr>\n",
              "    <tr>\n",
              "      <td>5</td>\n",
              "      <td>0.847500</td>\n",
              "      <td>0.774369</td>\n",
              "      <td>0.630038</td>\n",
              "    </tr>\n",
              "  </tbody>\n",
              "</table><p>"
            ]
          },
          "metadata": {}
        },
        {
          "output_type": "display_data",
          "data": {
            "text/plain": [
              "<IPython.core.display.HTML object>"
            ],
            "text/html": [
              "\n",
              "    <div>\n",
              "      \n",
              "      <progress value='43' max='43' style='width:300px; height:20px; vertical-align: middle;'></progress>\n",
              "      [43/43 00:00]\n",
              "    </div>\n",
              "    "
            ]
          },
          "metadata": {}
        },
        {
          "output_type": "stream",
          "name": "stdout",
          "text": [
            "Validation Weighted F1 Score: 0.6300\n",
            "\n",
            "Training with learning_rate=3e-05, batch_size=4, epochs=10\n"
          ]
        },
        {
          "output_type": "stream",
          "name": "stderr",
          "text": [
            "Some weights of RobertaForSequenceClassification were not initialized from the model checkpoint at roberta-base and are newly initialized: ['classifier.dense.bias', 'classifier.dense.weight', 'classifier.out_proj.bias', 'classifier.out_proj.weight']\n",
            "You should probably TRAIN this model on a down-stream task to be able to use it for predictions and inference.\n",
            "/usr/local/lib/python3.10/dist-packages/transformers/training_args.py:1525: FutureWarning: `evaluation_strategy` is deprecated and will be removed in version 4.46 of 🤗 Transformers. Use `eval_strategy` instead\n",
            "  warnings.warn(\n"
          ]
        },
        {
          "output_type": "display_data",
          "data": {
            "text/plain": [
              "<IPython.core.display.HTML object>"
            ],
            "text/html": [
              "\n",
              "    <div>\n",
              "      \n",
              "      <progress value='1710' max='1710' style='width:300px; height:20px; vertical-align: middle;'></progress>\n",
              "      [1710/1710 01:51, Epoch 10/10]\n",
              "    </div>\n",
              "    <table border=\"1\" class=\"dataframe\">\n",
              "  <thead>\n",
              " <tr style=\"text-align: left;\">\n",
              "      <th>Epoch</th>\n",
              "      <th>Training Loss</th>\n",
              "      <th>Validation Loss</th>\n",
              "      <th>Weighted F1</th>\n",
              "    </tr>\n",
              "  </thead>\n",
              "  <tbody>\n",
              "    <tr>\n",
              "      <td>1</td>\n",
              "      <td>1.111600</td>\n",
              "      <td>1.097076</td>\n",
              "      <td>0.162162</td>\n",
              "    </tr>\n",
              "    <tr>\n",
              "      <td>2</td>\n",
              "      <td>1.095300</td>\n",
              "      <td>1.096670</td>\n",
              "      <td>0.150031</td>\n",
              "    </tr>\n",
              "    <tr>\n",
              "      <td>3</td>\n",
              "      <td>1.113400</td>\n",
              "      <td>1.097078</td>\n",
              "      <td>0.150031</td>\n",
              "    </tr>\n",
              "    <tr>\n",
              "      <td>4</td>\n",
              "      <td>1.101200</td>\n",
              "      <td>1.097259</td>\n",
              "      <td>0.235441</td>\n",
              "    </tr>\n",
              "    <tr>\n",
              "      <td>5</td>\n",
              "      <td>1.108900</td>\n",
              "      <td>1.098283</td>\n",
              "      <td>0.150031</td>\n",
              "    </tr>\n",
              "    <tr>\n",
              "      <td>6</td>\n",
              "      <td>1.100200</td>\n",
              "      <td>1.098094</td>\n",
              "      <td>0.150031</td>\n",
              "    </tr>\n",
              "    <tr>\n",
              "      <td>7</td>\n",
              "      <td>1.109100</td>\n",
              "      <td>1.098678</td>\n",
              "      <td>0.235441</td>\n",
              "    </tr>\n",
              "    <tr>\n",
              "      <td>8</td>\n",
              "      <td>1.066900</td>\n",
              "      <td>1.090855</td>\n",
              "      <td>0.356133</td>\n",
              "    </tr>\n",
              "    <tr>\n",
              "      <td>9</td>\n",
              "      <td>1.006600</td>\n",
              "      <td>1.090337</td>\n",
              "      <td>0.429403</td>\n",
              "    </tr>\n",
              "    <tr>\n",
              "      <td>10</td>\n",
              "      <td>0.925400</td>\n",
              "      <td>1.071003</td>\n",
              "      <td>0.457559</td>\n",
              "    </tr>\n",
              "  </tbody>\n",
              "</table><p>"
            ]
          },
          "metadata": {}
        },
        {
          "output_type": "display_data",
          "data": {
            "text/plain": [
              "<IPython.core.display.HTML object>"
            ],
            "text/html": [
              "\n",
              "    <div>\n",
              "      \n",
              "      <progress value='43' max='43' style='width:300px; height:20px; vertical-align: middle;'></progress>\n",
              "      [43/43 00:00]\n",
              "    </div>\n",
              "    "
            ]
          },
          "metadata": {}
        },
        {
          "output_type": "stream",
          "name": "stdout",
          "text": [
            "Validation Weighted F1 Score: 0.4576\n",
            "\n",
            "Training with learning_rate=3e-05, batch_size=8, epochs=3\n"
          ]
        },
        {
          "output_type": "stream",
          "name": "stderr",
          "text": [
            "Some weights of RobertaForSequenceClassification were not initialized from the model checkpoint at roberta-base and are newly initialized: ['classifier.dense.bias', 'classifier.dense.weight', 'classifier.out_proj.bias', 'classifier.out_proj.weight']\n",
            "You should probably TRAIN this model on a down-stream task to be able to use it for predictions and inference.\n",
            "/usr/local/lib/python3.10/dist-packages/transformers/training_args.py:1525: FutureWarning: `evaluation_strategy` is deprecated and will be removed in version 4.46 of 🤗 Transformers. Use `eval_strategy` instead\n",
            "  warnings.warn(\n"
          ]
        },
        {
          "output_type": "display_data",
          "data": {
            "text/plain": [
              "<IPython.core.display.HTML object>"
            ],
            "text/html": [
              "\n",
              "    <div>\n",
              "      \n",
              "      <progress value='258' max='258' style='width:300px; height:20px; vertical-align: middle;'></progress>\n",
              "      [258/258 00:28, Epoch 3/3]\n",
              "    </div>\n",
              "    <table border=\"1\" class=\"dataframe\">\n",
              "  <thead>\n",
              " <tr style=\"text-align: left;\">\n",
              "      <th>Epoch</th>\n",
              "      <th>Training Loss</th>\n",
              "      <th>Validation Loss</th>\n",
              "      <th>Weighted F1</th>\n",
              "    </tr>\n",
              "  </thead>\n",
              "  <tbody>\n",
              "    <tr>\n",
              "      <td>1</td>\n",
              "      <td>1.110300</td>\n",
              "      <td>1.097282</td>\n",
              "      <td>0.150031</td>\n",
              "    </tr>\n",
              "    <tr>\n",
              "      <td>2</td>\n",
              "      <td>1.106200</td>\n",
              "      <td>1.094823</td>\n",
              "      <td>0.150031</td>\n",
              "    </tr>\n",
              "    <tr>\n",
              "      <td>3</td>\n",
              "      <td>1.091000</td>\n",
              "      <td>1.038774</td>\n",
              "      <td>0.375901</td>\n",
              "    </tr>\n",
              "  </tbody>\n",
              "</table><p>"
            ]
          },
          "metadata": {}
        },
        {
          "output_type": "display_data",
          "data": {
            "text/plain": [
              "<IPython.core.display.HTML object>"
            ],
            "text/html": [
              "\n",
              "    <div>\n",
              "      \n",
              "      <progress value='22' max='22' style='width:300px; height:20px; vertical-align: middle;'></progress>\n",
              "      [22/22 00:00]\n",
              "    </div>\n",
              "    "
            ]
          },
          "metadata": {}
        },
        {
          "output_type": "stream",
          "name": "stdout",
          "text": [
            "Validation Weighted F1 Score: 0.3759\n",
            "\n",
            "Training with learning_rate=3e-05, batch_size=8, epochs=5\n"
          ]
        },
        {
          "output_type": "stream",
          "name": "stderr",
          "text": [
            "Some weights of RobertaForSequenceClassification were not initialized from the model checkpoint at roberta-base and are newly initialized: ['classifier.dense.bias', 'classifier.dense.weight', 'classifier.out_proj.bias', 'classifier.out_proj.weight']\n",
            "You should probably TRAIN this model on a down-stream task to be able to use it for predictions and inference.\n",
            "/usr/local/lib/python3.10/dist-packages/transformers/training_args.py:1525: FutureWarning: `evaluation_strategy` is deprecated and will be removed in version 4.46 of 🤗 Transformers. Use `eval_strategy` instead\n",
            "  warnings.warn(\n"
          ]
        },
        {
          "output_type": "display_data",
          "data": {
            "text/plain": [
              "<IPython.core.display.HTML object>"
            ],
            "text/html": [
              "\n",
              "    <div>\n",
              "      \n",
              "      <progress value='430' max='430' style='width:300px; height:20px; vertical-align: middle;'></progress>\n",
              "      [430/430 00:47, Epoch 5/5]\n",
              "    </div>\n",
              "    <table border=\"1\" class=\"dataframe\">\n",
              "  <thead>\n",
              " <tr style=\"text-align: left;\">\n",
              "      <th>Epoch</th>\n",
              "      <th>Training Loss</th>\n",
              "      <th>Validation Loss</th>\n",
              "      <th>Weighted F1</th>\n",
              "    </tr>\n",
              "  </thead>\n",
              "  <tbody>\n",
              "    <tr>\n",
              "      <td>1</td>\n",
              "      <td>1.107500</td>\n",
              "      <td>1.097581</td>\n",
              "      <td>0.150031</td>\n",
              "    </tr>\n",
              "    <tr>\n",
              "      <td>2</td>\n",
              "      <td>1.106700</td>\n",
              "      <td>1.098647</td>\n",
              "      <td>0.150031</td>\n",
              "    </tr>\n",
              "    <tr>\n",
              "      <td>3</td>\n",
              "      <td>1.103300</td>\n",
              "      <td>1.096796</td>\n",
              "      <td>0.150031</td>\n",
              "    </tr>\n",
              "    <tr>\n",
              "      <td>4</td>\n",
              "      <td>1.102100</td>\n",
              "      <td>1.098179</td>\n",
              "      <td>0.235441</td>\n",
              "    </tr>\n",
              "    <tr>\n",
              "      <td>5</td>\n",
              "      <td>1.102000</td>\n",
              "      <td>1.099438</td>\n",
              "      <td>0.235441</td>\n",
              "    </tr>\n",
              "  </tbody>\n",
              "</table><p>"
            ]
          },
          "metadata": {}
        },
        {
          "output_type": "display_data",
          "data": {
            "text/plain": [
              "<IPython.core.display.HTML object>"
            ],
            "text/html": [
              "\n",
              "    <div>\n",
              "      \n",
              "      <progress value='22' max='22' style='width:300px; height:20px; vertical-align: middle;'></progress>\n",
              "      [22/22 00:00]\n",
              "    </div>\n",
              "    "
            ]
          },
          "metadata": {}
        },
        {
          "output_type": "stream",
          "name": "stdout",
          "text": [
            "Validation Weighted F1 Score: 0.2354\n",
            "\n",
            "Training with learning_rate=3e-05, batch_size=8, epochs=10\n"
          ]
        },
        {
          "output_type": "stream",
          "name": "stderr",
          "text": [
            "Some weights of RobertaForSequenceClassification were not initialized from the model checkpoint at roberta-base and are newly initialized: ['classifier.dense.bias', 'classifier.dense.weight', 'classifier.out_proj.bias', 'classifier.out_proj.weight']\n",
            "You should probably TRAIN this model on a down-stream task to be able to use it for predictions and inference.\n",
            "/usr/local/lib/python3.10/dist-packages/transformers/training_args.py:1525: FutureWarning: `evaluation_strategy` is deprecated and will be removed in version 4.46 of 🤗 Transformers. Use `eval_strategy` instead\n",
            "  warnings.warn(\n"
          ]
        },
        {
          "output_type": "display_data",
          "data": {
            "text/plain": [
              "<IPython.core.display.HTML object>"
            ],
            "text/html": [
              "\n",
              "    <div>\n",
              "      \n",
              "      <progress value='860' max='860' style='width:300px; height:20px; vertical-align: middle;'></progress>\n",
              "      [860/860 01:34, Epoch 10/10]\n",
              "    </div>\n",
              "    <table border=\"1\" class=\"dataframe\">\n",
              "  <thead>\n",
              " <tr style=\"text-align: left;\">\n",
              "      <th>Epoch</th>\n",
              "      <th>Training Loss</th>\n",
              "      <th>Validation Loss</th>\n",
              "      <th>Weighted F1</th>\n",
              "    </tr>\n",
              "  </thead>\n",
              "  <tbody>\n",
              "    <tr>\n",
              "      <td>1</td>\n",
              "      <td>1.110300</td>\n",
              "      <td>1.093997</td>\n",
              "      <td>0.150031</td>\n",
              "    </tr>\n",
              "    <tr>\n",
              "      <td>2</td>\n",
              "      <td>1.073200</td>\n",
              "      <td>0.930324</td>\n",
              "      <td>0.543680</td>\n",
              "    </tr>\n",
              "    <tr>\n",
              "      <td>3</td>\n",
              "      <td>0.900000</td>\n",
              "      <td>0.828114</td>\n",
              "      <td>0.641553</td>\n",
              "    </tr>\n",
              "    <tr>\n",
              "      <td>4</td>\n",
              "      <td>0.608700</td>\n",
              "      <td>0.991666</td>\n",
              "      <td>0.660760</td>\n",
              "    </tr>\n",
              "    <tr>\n",
              "      <td>5</td>\n",
              "      <td>0.381500</td>\n",
              "      <td>1.011726</td>\n",
              "      <td>0.663704</td>\n",
              "    </tr>\n",
              "    <tr>\n",
              "      <td>6</td>\n",
              "      <td>0.279300</td>\n",
              "      <td>1.296776</td>\n",
              "      <td>0.691427</td>\n",
              "    </tr>\n",
              "    <tr>\n",
              "      <td>7</td>\n",
              "      <td>0.235500</td>\n",
              "      <td>1.410307</td>\n",
              "      <td>0.701877</td>\n",
              "    </tr>\n",
              "    <tr>\n",
              "      <td>8</td>\n",
              "      <td>0.129500</td>\n",
              "      <td>1.921984</td>\n",
              "      <td>0.690453</td>\n",
              "    </tr>\n",
              "    <tr>\n",
              "      <td>9</td>\n",
              "      <td>0.078700</td>\n",
              "      <td>1.653287</td>\n",
              "      <td>0.714483</td>\n",
              "    </tr>\n",
              "    <tr>\n",
              "      <td>10</td>\n",
              "      <td>0.075700</td>\n",
              "      <td>1.756060</td>\n",
              "      <td>0.726722</td>\n",
              "    </tr>\n",
              "  </tbody>\n",
              "</table><p>"
            ]
          },
          "metadata": {}
        },
        {
          "output_type": "display_data",
          "data": {
            "text/plain": [
              "<IPython.core.display.HTML object>"
            ],
            "text/html": [
              "\n",
              "    <div>\n",
              "      \n",
              "      <progress value='22' max='22' style='width:300px; height:20px; vertical-align: middle;'></progress>\n",
              "      [22/22 00:00]\n",
              "    </div>\n",
              "    "
            ]
          },
          "metadata": {}
        },
        {
          "output_type": "stream",
          "name": "stdout",
          "text": [
            "Validation Weighted F1 Score: 0.7267\n",
            "\n",
            "Training with learning_rate=3e-05, batch_size=16, epochs=3\n"
          ]
        },
        {
          "output_type": "stream",
          "name": "stderr",
          "text": [
            "Some weights of RobertaForSequenceClassification were not initialized from the model checkpoint at roberta-base and are newly initialized: ['classifier.dense.bias', 'classifier.dense.weight', 'classifier.out_proj.bias', 'classifier.out_proj.weight']\n",
            "You should probably TRAIN this model on a down-stream task to be able to use it for predictions and inference.\n",
            "/usr/local/lib/python3.10/dist-packages/transformers/training_args.py:1525: FutureWarning: `evaluation_strategy` is deprecated and will be removed in version 4.46 of 🤗 Transformers. Use `eval_strategy` instead\n",
            "  warnings.warn(\n"
          ]
        },
        {
          "output_type": "display_data",
          "data": {
            "text/plain": [
              "<IPython.core.display.HTML object>"
            ],
            "text/html": [
              "\n",
              "    <div>\n",
              "      \n",
              "      <progress value='129' max='129' style='width:300px; height:20px; vertical-align: middle;'></progress>\n",
              "      [129/129 00:25, Epoch 3/3]\n",
              "    </div>\n",
              "    <table border=\"1\" class=\"dataframe\">\n",
              "  <thead>\n",
              " <tr style=\"text-align: left;\">\n",
              "      <th>Epoch</th>\n",
              "      <th>Training Loss</th>\n",
              "      <th>Validation Loss</th>\n",
              "      <th>Weighted F1</th>\n",
              "    </tr>\n",
              "  </thead>\n",
              "  <tbody>\n",
              "    <tr>\n",
              "      <td>1</td>\n",
              "      <td>1.104600</td>\n",
              "      <td>1.095011</td>\n",
              "      <td>0.183672</td>\n",
              "    </tr>\n",
              "    <tr>\n",
              "      <td>2</td>\n",
              "      <td>1.097400</td>\n",
              "      <td>1.087248</td>\n",
              "      <td>0.197814</td>\n",
              "    </tr>\n",
              "    <tr>\n",
              "      <td>3</td>\n",
              "      <td>1.078600</td>\n",
              "      <td>1.070401</td>\n",
              "      <td>0.470909</td>\n",
              "    </tr>\n",
              "  </tbody>\n",
              "</table><p>"
            ]
          },
          "metadata": {}
        },
        {
          "output_type": "display_data",
          "data": {
            "text/plain": [
              "<IPython.core.display.HTML object>"
            ],
            "text/html": [
              "\n",
              "    <div>\n",
              "      \n",
              "      <progress value='11' max='11' style='width:300px; height:20px; vertical-align: middle;'></progress>\n",
              "      [11/11 00:00]\n",
              "    </div>\n",
              "    "
            ]
          },
          "metadata": {}
        },
        {
          "output_type": "stream",
          "name": "stdout",
          "text": [
            "Validation Weighted F1 Score: 0.4709\n",
            "\n",
            "Training with learning_rate=3e-05, batch_size=16, epochs=5\n"
          ]
        },
        {
          "output_type": "stream",
          "name": "stderr",
          "text": [
            "Some weights of RobertaForSequenceClassification were not initialized from the model checkpoint at roberta-base and are newly initialized: ['classifier.dense.bias', 'classifier.dense.weight', 'classifier.out_proj.bias', 'classifier.out_proj.weight']\n",
            "You should probably TRAIN this model on a down-stream task to be able to use it for predictions and inference.\n",
            "/usr/local/lib/python3.10/dist-packages/transformers/training_args.py:1525: FutureWarning: `evaluation_strategy` is deprecated and will be removed in version 4.46 of 🤗 Transformers. Use `eval_strategy` instead\n",
            "  warnings.warn(\n"
          ]
        },
        {
          "output_type": "display_data",
          "data": {
            "text/plain": [
              "<IPython.core.display.HTML object>"
            ],
            "text/html": [
              "\n",
              "    <div>\n",
              "      \n",
              "      <progress value='215' max='215' style='width:300px; height:20px; vertical-align: middle;'></progress>\n",
              "      [215/215 00:42, Epoch 5/5]\n",
              "    </div>\n",
              "    <table border=\"1\" class=\"dataframe\">\n",
              "  <thead>\n",
              " <tr style=\"text-align: left;\">\n",
              "      <th>Epoch</th>\n",
              "      <th>Training Loss</th>\n",
              "      <th>Validation Loss</th>\n",
              "      <th>Weighted F1</th>\n",
              "    </tr>\n",
              "  </thead>\n",
              "  <tbody>\n",
              "    <tr>\n",
              "      <td>1</td>\n",
              "      <td>1.107900</td>\n",
              "      <td>1.097239</td>\n",
              "      <td>0.145774</td>\n",
              "    </tr>\n",
              "    <tr>\n",
              "      <td>2</td>\n",
              "      <td>1.074400</td>\n",
              "      <td>1.005699</td>\n",
              "      <td>0.450787</td>\n",
              "    </tr>\n",
              "    <tr>\n",
              "      <td>3</td>\n",
              "      <td>0.804800</td>\n",
              "      <td>0.802090</td>\n",
              "      <td>0.626498</td>\n",
              "    </tr>\n",
              "    <tr>\n",
              "      <td>4</td>\n",
              "      <td>0.536300</td>\n",
              "      <td>0.787193</td>\n",
              "      <td>0.669117</td>\n",
              "    </tr>\n",
              "    <tr>\n",
              "      <td>5</td>\n",
              "      <td>0.365300</td>\n",
              "      <td>0.810497</td>\n",
              "      <td>0.691424</td>\n",
              "    </tr>\n",
              "  </tbody>\n",
              "</table><p>"
            ]
          },
          "metadata": {}
        },
        {
          "output_type": "display_data",
          "data": {
            "text/plain": [
              "<IPython.core.display.HTML object>"
            ],
            "text/html": [
              "\n",
              "    <div>\n",
              "      \n",
              "      <progress value='11' max='11' style='width:300px; height:20px; vertical-align: middle;'></progress>\n",
              "      [11/11 00:00]\n",
              "    </div>\n",
              "    "
            ]
          },
          "metadata": {}
        },
        {
          "output_type": "stream",
          "name": "stdout",
          "text": [
            "Validation Weighted F1 Score: 0.6914\n",
            "\n",
            "Training with learning_rate=3e-05, batch_size=16, epochs=10\n"
          ]
        },
        {
          "output_type": "stream",
          "name": "stderr",
          "text": [
            "Some weights of RobertaForSequenceClassification were not initialized from the model checkpoint at roberta-base and are newly initialized: ['classifier.dense.bias', 'classifier.dense.weight', 'classifier.out_proj.bias', 'classifier.out_proj.weight']\n",
            "You should probably TRAIN this model on a down-stream task to be able to use it for predictions and inference.\n",
            "/usr/local/lib/python3.10/dist-packages/transformers/training_args.py:1525: FutureWarning: `evaluation_strategy` is deprecated and will be removed in version 4.46 of 🤗 Transformers. Use `eval_strategy` instead\n",
            "  warnings.warn(\n"
          ]
        },
        {
          "output_type": "display_data",
          "data": {
            "text/plain": [
              "<IPython.core.display.HTML object>"
            ],
            "text/html": [
              "\n",
              "    <div>\n",
              "      \n",
              "      <progress value='430' max='430' style='width:300px; height:20px; vertical-align: middle;'></progress>\n",
              "      [430/430 01:24, Epoch 10/10]\n",
              "    </div>\n",
              "    <table border=\"1\" class=\"dataframe\">\n",
              "  <thead>\n",
              " <tr style=\"text-align: left;\">\n",
              "      <th>Epoch</th>\n",
              "      <th>Training Loss</th>\n",
              "      <th>Validation Loss</th>\n",
              "      <th>Weighted F1</th>\n",
              "    </tr>\n",
              "  </thead>\n",
              "  <tbody>\n",
              "    <tr>\n",
              "      <td>1</td>\n",
              "      <td>1.107000</td>\n",
              "      <td>1.098630</td>\n",
              "      <td>0.121776</td>\n",
              "    </tr>\n",
              "    <tr>\n",
              "      <td>2</td>\n",
              "      <td>1.094600</td>\n",
              "      <td>1.089377</td>\n",
              "      <td>0.198799</td>\n",
              "    </tr>\n",
              "    <tr>\n",
              "      <td>3</td>\n",
              "      <td>0.955000</td>\n",
              "      <td>0.744814</td>\n",
              "      <td>0.686873</td>\n",
              "    </tr>\n",
              "    <tr>\n",
              "      <td>4</td>\n",
              "      <td>0.630400</td>\n",
              "      <td>0.692020</td>\n",
              "      <td>0.698423</td>\n",
              "    </tr>\n",
              "    <tr>\n",
              "      <td>5</td>\n",
              "      <td>0.340600</td>\n",
              "      <td>0.841647</td>\n",
              "      <td>0.702173</td>\n",
              "    </tr>\n",
              "    <tr>\n",
              "      <td>6</td>\n",
              "      <td>0.244900</td>\n",
              "      <td>0.886868</td>\n",
              "      <td>0.720499</td>\n",
              "    </tr>\n",
              "    <tr>\n",
              "      <td>7</td>\n",
              "      <td>0.156900</td>\n",
              "      <td>1.078414</td>\n",
              "      <td>0.697878</td>\n",
              "    </tr>\n",
              "    <tr>\n",
              "      <td>8</td>\n",
              "      <td>0.057400</td>\n",
              "      <td>1.280603</td>\n",
              "      <td>0.721294</td>\n",
              "    </tr>\n",
              "    <tr>\n",
              "      <td>9</td>\n",
              "      <td>0.036900</td>\n",
              "      <td>1.278946</td>\n",
              "      <td>0.726772</td>\n",
              "    </tr>\n",
              "    <tr>\n",
              "      <td>10</td>\n",
              "      <td>0.023400</td>\n",
              "      <td>1.317975</td>\n",
              "      <td>0.709432</td>\n",
              "    </tr>\n",
              "  </tbody>\n",
              "</table><p>"
            ]
          },
          "metadata": {}
        },
        {
          "output_type": "display_data",
          "data": {
            "text/plain": [
              "<IPython.core.display.HTML object>"
            ],
            "text/html": [
              "\n",
              "    <div>\n",
              "      \n",
              "      <progress value='11' max='11' style='width:300px; height:20px; vertical-align: middle;'></progress>\n",
              "      [11/11 00:00]\n",
              "    </div>\n",
              "    "
            ]
          },
          "metadata": {}
        },
        {
          "output_type": "stream",
          "name": "stdout",
          "text": [
            "Validation Weighted F1 Score: 0.7094\n",
            "\n",
            "Training with learning_rate=2e-05, batch_size=4, epochs=3\n"
          ]
        },
        {
          "output_type": "stream",
          "name": "stderr",
          "text": [
            "Some weights of RobertaForSequenceClassification were not initialized from the model checkpoint at roberta-base and are newly initialized: ['classifier.dense.bias', 'classifier.dense.weight', 'classifier.out_proj.bias', 'classifier.out_proj.weight']\n",
            "You should probably TRAIN this model on a down-stream task to be able to use it for predictions and inference.\n",
            "/usr/local/lib/python3.10/dist-packages/transformers/training_args.py:1525: FutureWarning: `evaluation_strategy` is deprecated and will be removed in version 4.46 of 🤗 Transformers. Use `eval_strategy` instead\n",
            "  warnings.warn(\n"
          ]
        },
        {
          "output_type": "display_data",
          "data": {
            "text/plain": [
              "<IPython.core.display.HTML object>"
            ],
            "text/html": [
              "\n",
              "    <div>\n",
              "      \n",
              "      <progress value='513' max='513' style='width:300px; height:20px; vertical-align: middle;'></progress>\n",
              "      [513/513 00:33, Epoch 3/3]\n",
              "    </div>\n",
              "    <table border=\"1\" class=\"dataframe\">\n",
              "  <thead>\n",
              " <tr style=\"text-align: left;\">\n",
              "      <th>Epoch</th>\n",
              "      <th>Training Loss</th>\n",
              "      <th>Validation Loss</th>\n",
              "      <th>Weighted F1</th>\n",
              "    </tr>\n",
              "  </thead>\n",
              "  <tbody>\n",
              "    <tr>\n",
              "      <td>1</td>\n",
              "      <td>1.105200</td>\n",
              "      <td>1.096420</td>\n",
              "      <td>0.150031</td>\n",
              "    </tr>\n",
              "    <tr>\n",
              "      <td>2</td>\n",
              "      <td>1.097400</td>\n",
              "      <td>1.046865</td>\n",
              "      <td>0.492522</td>\n",
              "    </tr>\n",
              "    <tr>\n",
              "      <td>3</td>\n",
              "      <td>0.894100</td>\n",
              "      <td>0.789913</td>\n",
              "      <td>0.594288</td>\n",
              "    </tr>\n",
              "  </tbody>\n",
              "</table><p>"
            ]
          },
          "metadata": {}
        },
        {
          "output_type": "display_data",
          "data": {
            "text/plain": [
              "<IPython.core.display.HTML object>"
            ],
            "text/html": [
              "\n",
              "    <div>\n",
              "      \n",
              "      <progress value='43' max='43' style='width:300px; height:20px; vertical-align: middle;'></progress>\n",
              "      [43/43 00:00]\n",
              "    </div>\n",
              "    "
            ]
          },
          "metadata": {}
        },
        {
          "output_type": "stream",
          "name": "stdout",
          "text": [
            "Validation Weighted F1 Score: 0.5943\n",
            "\n",
            "Training with learning_rate=2e-05, batch_size=4, epochs=5\n"
          ]
        },
        {
          "output_type": "stream",
          "name": "stderr",
          "text": [
            "Some weights of RobertaForSequenceClassification were not initialized from the model checkpoint at roberta-base and are newly initialized: ['classifier.dense.bias', 'classifier.dense.weight', 'classifier.out_proj.bias', 'classifier.out_proj.weight']\n",
            "You should probably TRAIN this model on a down-stream task to be able to use it for predictions and inference.\n",
            "/usr/local/lib/python3.10/dist-packages/transformers/training_args.py:1525: FutureWarning: `evaluation_strategy` is deprecated and will be removed in version 4.46 of 🤗 Transformers. Use `eval_strategy` instead\n",
            "  warnings.warn(\n"
          ]
        },
        {
          "output_type": "display_data",
          "data": {
            "text/plain": [
              "<IPython.core.display.HTML object>"
            ],
            "text/html": [
              "\n",
              "    <div>\n",
              "      \n",
              "      <progress value='855' max='855' style='width:300px; height:20px; vertical-align: middle;'></progress>\n",
              "      [855/855 00:55, Epoch 5/5]\n",
              "    </div>\n",
              "    <table border=\"1\" class=\"dataframe\">\n",
              "  <thead>\n",
              " <tr style=\"text-align: left;\">\n",
              "      <th>Epoch</th>\n",
              "      <th>Training Loss</th>\n",
              "      <th>Validation Loss</th>\n",
              "      <th>Weighted F1</th>\n",
              "    </tr>\n",
              "  </thead>\n",
              "  <tbody>\n",
              "    <tr>\n",
              "      <td>1</td>\n",
              "      <td>1.107400</td>\n",
              "      <td>1.020898</td>\n",
              "      <td>0.434061</td>\n",
              "    </tr>\n",
              "    <tr>\n",
              "      <td>2</td>\n",
              "      <td>0.917700</td>\n",
              "      <td>0.776359</td>\n",
              "      <td>0.643486</td>\n",
              "    </tr>\n",
              "    <tr>\n",
              "      <td>3</td>\n",
              "      <td>0.638100</td>\n",
              "      <td>0.864936</td>\n",
              "      <td>0.698395</td>\n",
              "    </tr>\n",
              "    <tr>\n",
              "      <td>4</td>\n",
              "      <td>0.401900</td>\n",
              "      <td>1.207220</td>\n",
              "      <td>0.698762</td>\n",
              "    </tr>\n",
              "    <tr>\n",
              "      <td>5</td>\n",
              "      <td>0.261000</td>\n",
              "      <td>1.327091</td>\n",
              "      <td>0.703987</td>\n",
              "    </tr>\n",
              "  </tbody>\n",
              "</table><p>"
            ]
          },
          "metadata": {}
        },
        {
          "output_type": "display_data",
          "data": {
            "text/plain": [
              "<IPython.core.display.HTML object>"
            ],
            "text/html": [
              "\n",
              "    <div>\n",
              "      \n",
              "      <progress value='43' max='43' style='width:300px; height:20px; vertical-align: middle;'></progress>\n",
              "      [43/43 00:00]\n",
              "    </div>\n",
              "    "
            ]
          },
          "metadata": {}
        },
        {
          "output_type": "stream",
          "name": "stdout",
          "text": [
            "Validation Weighted F1 Score: 0.7040\n",
            "\n",
            "Training with learning_rate=2e-05, batch_size=4, epochs=10\n"
          ]
        },
        {
          "output_type": "stream",
          "name": "stderr",
          "text": [
            "Some weights of RobertaForSequenceClassification were not initialized from the model checkpoint at roberta-base and are newly initialized: ['classifier.dense.bias', 'classifier.dense.weight', 'classifier.out_proj.bias', 'classifier.out_proj.weight']\n",
            "You should probably TRAIN this model on a down-stream task to be able to use it for predictions and inference.\n",
            "/usr/local/lib/python3.10/dist-packages/transformers/training_args.py:1525: FutureWarning: `evaluation_strategy` is deprecated and will be removed in version 4.46 of 🤗 Transformers. Use `eval_strategy` instead\n",
            "  warnings.warn(\n"
          ]
        },
        {
          "output_type": "display_data",
          "data": {
            "text/plain": [
              "<IPython.core.display.HTML object>"
            ],
            "text/html": [
              "\n",
              "    <div>\n",
              "      \n",
              "      <progress value='1710' max='1710' style='width:300px; height:20px; vertical-align: middle;'></progress>\n",
              "      [1710/1710 01:51, Epoch 10/10]\n",
              "    </div>\n",
              "    <table border=\"1\" class=\"dataframe\">\n",
              "  <thead>\n",
              " <tr style=\"text-align: left;\">\n",
              "      <th>Epoch</th>\n",
              "      <th>Training Loss</th>\n",
              "      <th>Validation Loss</th>\n",
              "      <th>Weighted F1</th>\n",
              "    </tr>\n",
              "  </thead>\n",
              "  <tbody>\n",
              "    <tr>\n",
              "      <td>1</td>\n",
              "      <td>1.101200</td>\n",
              "      <td>1.066359</td>\n",
              "      <td>0.422765</td>\n",
              "    </tr>\n",
              "    <tr>\n",
              "      <td>2</td>\n",
              "      <td>0.923200</td>\n",
              "      <td>0.790686</td>\n",
              "      <td>0.637775</td>\n",
              "    </tr>\n",
              "    <tr>\n",
              "      <td>3</td>\n",
              "      <td>0.643400</td>\n",
              "      <td>1.087305</td>\n",
              "      <td>0.645442</td>\n",
              "    </tr>\n",
              "    <tr>\n",
              "      <td>4</td>\n",
              "      <td>0.458300</td>\n",
              "      <td>1.496579</td>\n",
              "      <td>0.668093</td>\n",
              "    </tr>\n",
              "    <tr>\n",
              "      <td>5</td>\n",
              "      <td>0.287200</td>\n",
              "      <td>1.789798</td>\n",
              "      <td>0.709154</td>\n",
              "    </tr>\n",
              "    <tr>\n",
              "      <td>6</td>\n",
              "      <td>0.194700</td>\n",
              "      <td>2.035835</td>\n",
              "      <td>0.682686</td>\n",
              "    </tr>\n",
              "    <tr>\n",
              "      <td>7</td>\n",
              "      <td>0.122800</td>\n",
              "      <td>2.097957</td>\n",
              "      <td>0.711187</td>\n",
              "    </tr>\n",
              "    <tr>\n",
              "      <td>8</td>\n",
              "      <td>0.094400</td>\n",
              "      <td>2.128000</td>\n",
              "      <td>0.697764</td>\n",
              "    </tr>\n",
              "    <tr>\n",
              "      <td>9</td>\n",
              "      <td>0.036100</td>\n",
              "      <td>2.094172</td>\n",
              "      <td>0.703222</td>\n",
              "    </tr>\n",
              "    <tr>\n",
              "      <td>10</td>\n",
              "      <td>0.026400</td>\n",
              "      <td>2.118124</td>\n",
              "      <td>0.697393</td>\n",
              "    </tr>\n",
              "  </tbody>\n",
              "</table><p>"
            ]
          },
          "metadata": {}
        },
        {
          "output_type": "display_data",
          "data": {
            "text/plain": [
              "<IPython.core.display.HTML object>"
            ],
            "text/html": [
              "\n",
              "    <div>\n",
              "      \n",
              "      <progress value='43' max='43' style='width:300px; height:20px; vertical-align: middle;'></progress>\n",
              "      [43/43 00:00]\n",
              "    </div>\n",
              "    "
            ]
          },
          "metadata": {}
        },
        {
          "output_type": "stream",
          "name": "stdout",
          "text": [
            "Validation Weighted F1 Score: 0.6974\n",
            "\n",
            "Training with learning_rate=2e-05, batch_size=8, epochs=3\n"
          ]
        },
        {
          "output_type": "stream",
          "name": "stderr",
          "text": [
            "Some weights of RobertaForSequenceClassification were not initialized from the model checkpoint at roberta-base and are newly initialized: ['classifier.dense.bias', 'classifier.dense.weight', 'classifier.out_proj.bias', 'classifier.out_proj.weight']\n",
            "You should probably TRAIN this model on a down-stream task to be able to use it for predictions and inference.\n",
            "/usr/local/lib/python3.10/dist-packages/transformers/training_args.py:1525: FutureWarning: `evaluation_strategy` is deprecated and will be removed in version 4.46 of 🤗 Transformers. Use `eval_strategy` instead\n",
            "  warnings.warn(\n"
          ]
        },
        {
          "output_type": "display_data",
          "data": {
            "text/plain": [
              "<IPython.core.display.HTML object>"
            ],
            "text/html": [
              "\n",
              "    <div>\n",
              "      \n",
              "      <progress value='258' max='258' style='width:300px; height:20px; vertical-align: middle;'></progress>\n",
              "      [258/258 00:28, Epoch 3/3]\n",
              "    </div>\n",
              "    <table border=\"1\" class=\"dataframe\">\n",
              "  <thead>\n",
              " <tr style=\"text-align: left;\">\n",
              "      <th>Epoch</th>\n",
              "      <th>Training Loss</th>\n",
              "      <th>Validation Loss</th>\n",
              "      <th>Weighted F1</th>\n",
              "    </tr>\n",
              "  </thead>\n",
              "  <tbody>\n",
              "    <tr>\n",
              "      <td>1</td>\n",
              "      <td>1.106600</td>\n",
              "      <td>1.093129</td>\n",
              "      <td>0.150031</td>\n",
              "    </tr>\n",
              "    <tr>\n",
              "      <td>2</td>\n",
              "      <td>1.081300</td>\n",
              "      <td>0.996935</td>\n",
              "      <td>0.535778</td>\n",
              "    </tr>\n",
              "    <tr>\n",
              "      <td>3</td>\n",
              "      <td>0.920700</td>\n",
              "      <td>0.883286</td>\n",
              "      <td>0.580536</td>\n",
              "    </tr>\n",
              "  </tbody>\n",
              "</table><p>"
            ]
          },
          "metadata": {}
        },
        {
          "output_type": "display_data",
          "data": {
            "text/plain": [
              "<IPython.core.display.HTML object>"
            ],
            "text/html": [
              "\n",
              "    <div>\n",
              "      \n",
              "      <progress value='22' max='22' style='width:300px; height:20px; vertical-align: middle;'></progress>\n",
              "      [22/22 00:00]\n",
              "    </div>\n",
              "    "
            ]
          },
          "metadata": {}
        },
        {
          "output_type": "stream",
          "name": "stdout",
          "text": [
            "Validation Weighted F1 Score: 0.5805\n",
            "\n",
            "Training with learning_rate=2e-05, batch_size=8, epochs=5\n"
          ]
        },
        {
          "output_type": "stream",
          "name": "stderr",
          "text": [
            "Some weights of RobertaForSequenceClassification were not initialized from the model checkpoint at roberta-base and are newly initialized: ['classifier.dense.bias', 'classifier.dense.weight', 'classifier.out_proj.bias', 'classifier.out_proj.weight']\n",
            "You should probably TRAIN this model on a down-stream task to be able to use it for predictions and inference.\n",
            "/usr/local/lib/python3.10/dist-packages/transformers/training_args.py:1525: FutureWarning: `evaluation_strategy` is deprecated and will be removed in version 4.46 of 🤗 Transformers. Use `eval_strategy` instead\n",
            "  warnings.warn(\n"
          ]
        },
        {
          "output_type": "display_data",
          "data": {
            "text/plain": [
              "<IPython.core.display.HTML object>"
            ],
            "text/html": [
              "\n",
              "    <div>\n",
              "      \n",
              "      <progress value='430' max='430' style='width:300px; height:20px; vertical-align: middle;'></progress>\n",
              "      [430/430 00:47, Epoch 5/5]\n",
              "    </div>\n",
              "    <table border=\"1\" class=\"dataframe\">\n",
              "  <thead>\n",
              " <tr style=\"text-align: left;\">\n",
              "      <th>Epoch</th>\n",
              "      <th>Training Loss</th>\n",
              "      <th>Validation Loss</th>\n",
              "      <th>Weighted F1</th>\n",
              "    </tr>\n",
              "  </thead>\n",
              "  <tbody>\n",
              "    <tr>\n",
              "      <td>1</td>\n",
              "      <td>1.106000</td>\n",
              "      <td>1.095940</td>\n",
              "      <td>0.160177</td>\n",
              "    </tr>\n",
              "    <tr>\n",
              "      <td>2</td>\n",
              "      <td>1.034200</td>\n",
              "      <td>0.931794</td>\n",
              "      <td>0.523089</td>\n",
              "    </tr>\n",
              "    <tr>\n",
              "      <td>3</td>\n",
              "      <td>0.729400</td>\n",
              "      <td>0.765737</td>\n",
              "      <td>0.679772</td>\n",
              "    </tr>\n",
              "    <tr>\n",
              "      <td>4</td>\n",
              "      <td>0.503800</td>\n",
              "      <td>0.816041</td>\n",
              "      <td>0.656875</td>\n",
              "    </tr>\n",
              "    <tr>\n",
              "      <td>5</td>\n",
              "      <td>0.343700</td>\n",
              "      <td>0.852987</td>\n",
              "      <td>0.669507</td>\n",
              "    </tr>\n",
              "  </tbody>\n",
              "</table><p>"
            ]
          },
          "metadata": {}
        },
        {
          "output_type": "display_data",
          "data": {
            "text/plain": [
              "<IPython.core.display.HTML object>"
            ],
            "text/html": [
              "\n",
              "    <div>\n",
              "      \n",
              "      <progress value='22' max='22' style='width:300px; height:20px; vertical-align: middle;'></progress>\n",
              "      [22/22 00:00]\n",
              "    </div>\n",
              "    "
            ]
          },
          "metadata": {}
        },
        {
          "output_type": "stream",
          "name": "stdout",
          "text": [
            "Validation Weighted F1 Score: 0.6695\n",
            "\n",
            "Training with learning_rate=2e-05, batch_size=8, epochs=10\n"
          ]
        },
        {
          "output_type": "stream",
          "name": "stderr",
          "text": [
            "Some weights of RobertaForSequenceClassification were not initialized from the model checkpoint at roberta-base and are newly initialized: ['classifier.dense.bias', 'classifier.dense.weight', 'classifier.out_proj.bias', 'classifier.out_proj.weight']\n",
            "You should probably TRAIN this model on a down-stream task to be able to use it for predictions and inference.\n",
            "/usr/local/lib/python3.10/dist-packages/transformers/training_args.py:1525: FutureWarning: `evaluation_strategy` is deprecated and will be removed in version 4.46 of 🤗 Transformers. Use `eval_strategy` instead\n",
            "  warnings.warn(\n"
          ]
        },
        {
          "output_type": "display_data",
          "data": {
            "text/plain": [
              "<IPython.core.display.HTML object>"
            ],
            "text/html": [
              "\n",
              "    <div>\n",
              "      \n",
              "      <progress value='860' max='860' style='width:300px; height:20px; vertical-align: middle;'></progress>\n",
              "      [860/860 01:33, Epoch 10/10]\n",
              "    </div>\n",
              "    <table border=\"1\" class=\"dataframe\">\n",
              "  <thead>\n",
              " <tr style=\"text-align: left;\">\n",
              "      <th>Epoch</th>\n",
              "      <th>Training Loss</th>\n",
              "      <th>Validation Loss</th>\n",
              "      <th>Weighted F1</th>\n",
              "    </tr>\n",
              "  </thead>\n",
              "  <tbody>\n",
              "    <tr>\n",
              "      <td>1</td>\n",
              "      <td>1.106400</td>\n",
              "      <td>1.090026</td>\n",
              "      <td>0.150031</td>\n",
              "    </tr>\n",
              "    <tr>\n",
              "      <td>2</td>\n",
              "      <td>1.029100</td>\n",
              "      <td>0.902348</td>\n",
              "      <td>0.611979</td>\n",
              "    </tr>\n",
              "    <tr>\n",
              "      <td>3</td>\n",
              "      <td>0.805300</td>\n",
              "      <td>0.806460</td>\n",
              "      <td>0.675372</td>\n",
              "    </tr>\n",
              "    <tr>\n",
              "      <td>4</td>\n",
              "      <td>0.539100</td>\n",
              "      <td>0.894345</td>\n",
              "      <td>0.691623</td>\n",
              "    </tr>\n",
              "    <tr>\n",
              "      <td>5</td>\n",
              "      <td>0.372500</td>\n",
              "      <td>1.022091</td>\n",
              "      <td>0.696526</td>\n",
              "    </tr>\n",
              "    <tr>\n",
              "      <td>6</td>\n",
              "      <td>0.241000</td>\n",
              "      <td>1.324287</td>\n",
              "      <td>0.709703</td>\n",
              "    </tr>\n",
              "    <tr>\n",
              "      <td>7</td>\n",
              "      <td>0.177800</td>\n",
              "      <td>1.493145</td>\n",
              "      <td>0.716005</td>\n",
              "    </tr>\n",
              "    <tr>\n",
              "      <td>8</td>\n",
              "      <td>0.105500</td>\n",
              "      <td>1.461641</td>\n",
              "      <td>0.749773</td>\n",
              "    </tr>\n",
              "    <tr>\n",
              "      <td>9</td>\n",
              "      <td>0.055000</td>\n",
              "      <td>1.609884</td>\n",
              "      <td>0.745500</td>\n",
              "    </tr>\n",
              "    <tr>\n",
              "      <td>10</td>\n",
              "      <td>0.039200</td>\n",
              "      <td>1.606622</td>\n",
              "      <td>0.727949</td>\n",
              "    </tr>\n",
              "  </tbody>\n",
              "</table><p>"
            ]
          },
          "metadata": {}
        },
        {
          "output_type": "display_data",
          "data": {
            "text/plain": [
              "<IPython.core.display.HTML object>"
            ],
            "text/html": [
              "\n",
              "    <div>\n",
              "      \n",
              "      <progress value='22' max='22' style='width:300px; height:20px; vertical-align: middle;'></progress>\n",
              "      [22/22 00:00]\n",
              "    </div>\n",
              "    "
            ]
          },
          "metadata": {}
        },
        {
          "output_type": "stream",
          "name": "stdout",
          "text": [
            "Validation Weighted F1 Score: 0.7279\n",
            "\n",
            "Training with learning_rate=2e-05, batch_size=16, epochs=3\n"
          ]
        },
        {
          "output_type": "stream",
          "name": "stderr",
          "text": [
            "Some weights of RobertaForSequenceClassification were not initialized from the model checkpoint at roberta-base and are newly initialized: ['classifier.dense.bias', 'classifier.dense.weight', 'classifier.out_proj.bias', 'classifier.out_proj.weight']\n",
            "You should probably TRAIN this model on a down-stream task to be able to use it for predictions and inference.\n",
            "/usr/local/lib/python3.10/dist-packages/transformers/training_args.py:1525: FutureWarning: `evaluation_strategy` is deprecated and will be removed in version 4.46 of 🤗 Transformers. Use `eval_strategy` instead\n",
            "  warnings.warn(\n"
          ]
        },
        {
          "output_type": "display_data",
          "data": {
            "text/plain": [
              "<IPython.core.display.HTML object>"
            ],
            "text/html": [
              "\n",
              "    <div>\n",
              "      \n",
              "      <progress value='129' max='129' style='width:300px; height:20px; vertical-align: middle;'></progress>\n",
              "      [129/129 00:25, Epoch 3/3]\n",
              "    </div>\n",
              "    <table border=\"1\" class=\"dataframe\">\n",
              "  <thead>\n",
              " <tr style=\"text-align: left;\">\n",
              "      <th>Epoch</th>\n",
              "      <th>Training Loss</th>\n",
              "      <th>Validation Loss</th>\n",
              "      <th>Weighted F1</th>\n",
              "    </tr>\n",
              "  </thead>\n",
              "  <tbody>\n",
              "    <tr>\n",
              "      <td>1</td>\n",
              "      <td>1.102700</td>\n",
              "      <td>1.095796</td>\n",
              "      <td>0.333594</td>\n",
              "    </tr>\n",
              "    <tr>\n",
              "      <td>2</td>\n",
              "      <td>1.098400</td>\n",
              "      <td>1.085438</td>\n",
              "      <td>0.248146</td>\n",
              "    </tr>\n",
              "    <tr>\n",
              "      <td>3</td>\n",
              "      <td>1.069300</td>\n",
              "      <td>1.057327</td>\n",
              "      <td>0.536915</td>\n",
              "    </tr>\n",
              "  </tbody>\n",
              "</table><p>"
            ]
          },
          "metadata": {}
        },
        {
          "output_type": "display_data",
          "data": {
            "text/plain": [
              "<IPython.core.display.HTML object>"
            ],
            "text/html": [
              "\n",
              "    <div>\n",
              "      \n",
              "      <progress value='11' max='11' style='width:300px; height:20px; vertical-align: middle;'></progress>\n",
              "      [11/11 00:00]\n",
              "    </div>\n",
              "    "
            ]
          },
          "metadata": {}
        },
        {
          "output_type": "stream",
          "name": "stdout",
          "text": [
            "Validation Weighted F1 Score: 0.5369\n",
            "\n",
            "Training with learning_rate=2e-05, batch_size=16, epochs=5\n"
          ]
        },
        {
          "output_type": "stream",
          "name": "stderr",
          "text": [
            "Some weights of RobertaForSequenceClassification were not initialized from the model checkpoint at roberta-base and are newly initialized: ['classifier.dense.bias', 'classifier.dense.weight', 'classifier.out_proj.bias', 'classifier.out_proj.weight']\n",
            "You should probably TRAIN this model on a down-stream task to be able to use it for predictions and inference.\n",
            "/usr/local/lib/python3.10/dist-packages/transformers/training_args.py:1525: FutureWarning: `evaluation_strategy` is deprecated and will be removed in version 4.46 of 🤗 Transformers. Use `eval_strategy` instead\n",
            "  warnings.warn(\n"
          ]
        },
        {
          "output_type": "display_data",
          "data": {
            "text/plain": [
              "<IPython.core.display.HTML object>"
            ],
            "text/html": [
              "\n",
              "    <div>\n",
              "      \n",
              "      <progress value='215' max='215' style='width:300px; height:20px; vertical-align: middle;'></progress>\n",
              "      [215/215 00:42, Epoch 5/5]\n",
              "    </div>\n",
              "    <table border=\"1\" class=\"dataframe\">\n",
              "  <thead>\n",
              " <tr style=\"text-align: left;\">\n",
              "      <th>Epoch</th>\n",
              "      <th>Training Loss</th>\n",
              "      <th>Validation Loss</th>\n",
              "      <th>Weighted F1</th>\n",
              "    </tr>\n",
              "  </thead>\n",
              "  <tbody>\n",
              "    <tr>\n",
              "      <td>1</td>\n",
              "      <td>1.105900</td>\n",
              "      <td>1.097071</td>\n",
              "      <td>0.134198</td>\n",
              "    </tr>\n",
              "    <tr>\n",
              "      <td>2</td>\n",
              "      <td>1.061700</td>\n",
              "      <td>0.954584</td>\n",
              "      <td>0.520333</td>\n",
              "    </tr>\n",
              "    <tr>\n",
              "      <td>3</td>\n",
              "      <td>0.781400</td>\n",
              "      <td>0.765642</td>\n",
              "      <td>0.611348</td>\n",
              "    </tr>\n",
              "    <tr>\n",
              "      <td>4</td>\n",
              "      <td>0.552100</td>\n",
              "      <td>0.726619</td>\n",
              "      <td>0.689682</td>\n",
              "    </tr>\n",
              "    <tr>\n",
              "      <td>5</td>\n",
              "      <td>0.419200</td>\n",
              "      <td>0.731399</td>\n",
              "      <td>0.675618</td>\n",
              "    </tr>\n",
              "  </tbody>\n",
              "</table><p>"
            ]
          },
          "metadata": {}
        },
        {
          "output_type": "display_data",
          "data": {
            "text/plain": [
              "<IPython.core.display.HTML object>"
            ],
            "text/html": [
              "\n",
              "    <div>\n",
              "      \n",
              "      <progress value='11' max='11' style='width:300px; height:20px; vertical-align: middle;'></progress>\n",
              "      [11/11 00:00]\n",
              "    </div>\n",
              "    "
            ]
          },
          "metadata": {}
        },
        {
          "output_type": "stream",
          "name": "stdout",
          "text": [
            "Validation Weighted F1 Score: 0.6756\n",
            "\n",
            "Training with learning_rate=2e-05, batch_size=16, epochs=10\n"
          ]
        },
        {
          "output_type": "stream",
          "name": "stderr",
          "text": [
            "Some weights of RobertaForSequenceClassification were not initialized from the model checkpoint at roberta-base and are newly initialized: ['classifier.dense.bias', 'classifier.dense.weight', 'classifier.out_proj.bias', 'classifier.out_proj.weight']\n",
            "You should probably TRAIN this model on a down-stream task to be able to use it for predictions and inference.\n",
            "/usr/local/lib/python3.10/dist-packages/transformers/training_args.py:1525: FutureWarning: `evaluation_strategy` is deprecated and will be removed in version 4.46 of 🤗 Transformers. Use `eval_strategy` instead\n",
            "  warnings.warn(\n"
          ]
        },
        {
          "output_type": "display_data",
          "data": {
            "text/plain": [
              "<IPython.core.display.HTML object>"
            ],
            "text/html": [
              "\n",
              "    <div>\n",
              "      \n",
              "      <progress value='430' max='430' style='width:300px; height:20px; vertical-align: middle;'></progress>\n",
              "      [430/430 01:25, Epoch 10/10]\n",
              "    </div>\n",
              "    <table border=\"1\" class=\"dataframe\">\n",
              "  <thead>\n",
              " <tr style=\"text-align: left;\">\n",
              "      <th>Epoch</th>\n",
              "      <th>Training Loss</th>\n",
              "      <th>Validation Loss</th>\n",
              "      <th>Weighted F1</th>\n",
              "    </tr>\n",
              "  </thead>\n",
              "  <tbody>\n",
              "    <tr>\n",
              "      <td>1</td>\n",
              "      <td>1.104900</td>\n",
              "      <td>1.096033</td>\n",
              "      <td>0.332507</td>\n",
              "    </tr>\n",
              "    <tr>\n",
              "      <td>2</td>\n",
              "      <td>1.090200</td>\n",
              "      <td>1.058340</td>\n",
              "      <td>0.449266</td>\n",
              "    </tr>\n",
              "    <tr>\n",
              "      <td>3</td>\n",
              "      <td>0.904200</td>\n",
              "      <td>0.809227</td>\n",
              "      <td>0.604488</td>\n",
              "    </tr>\n",
              "    <tr>\n",
              "      <td>4</td>\n",
              "      <td>0.603100</td>\n",
              "      <td>0.708227</td>\n",
              "      <td>0.717086</td>\n",
              "    </tr>\n",
              "    <tr>\n",
              "      <td>5</td>\n",
              "      <td>0.372400</td>\n",
              "      <td>0.725336</td>\n",
              "      <td>0.713000</td>\n",
              "    </tr>\n",
              "    <tr>\n",
              "      <td>6</td>\n",
              "      <td>0.230100</td>\n",
              "      <td>0.789094</td>\n",
              "      <td>0.744632</td>\n",
              "    </tr>\n",
              "    <tr>\n",
              "      <td>7</td>\n",
              "      <td>0.154500</td>\n",
              "      <td>0.892554</td>\n",
              "      <td>0.732151</td>\n",
              "    </tr>\n",
              "    <tr>\n",
              "      <td>8</td>\n",
              "      <td>0.092800</td>\n",
              "      <td>0.999852</td>\n",
              "      <td>0.740134</td>\n",
              "    </tr>\n",
              "    <tr>\n",
              "      <td>9</td>\n",
              "      <td>0.062900</td>\n",
              "      <td>1.039383</td>\n",
              "      <td>0.714465</td>\n",
              "    </tr>\n",
              "    <tr>\n",
              "      <td>10</td>\n",
              "      <td>0.037100</td>\n",
              "      <td>1.047838</td>\n",
              "      <td>0.744287</td>\n",
              "    </tr>\n",
              "  </tbody>\n",
              "</table><p>"
            ]
          },
          "metadata": {}
        },
        {
          "output_type": "display_data",
          "data": {
            "text/plain": [
              "<IPython.core.display.HTML object>"
            ],
            "text/html": [
              "\n",
              "    <div>\n",
              "      \n",
              "      <progress value='11' max='11' style='width:300px; height:20px; vertical-align: middle;'></progress>\n",
              "      [11/11 00:00]\n",
              "    </div>\n",
              "    "
            ]
          },
          "metadata": {}
        },
        {
          "output_type": "stream",
          "name": "stdout",
          "text": [
            "Validation Weighted F1 Score: 0.7443\n",
            "\n",
            "Training with learning_rate=1e-05, batch_size=4, epochs=3\n"
          ]
        },
        {
          "output_type": "stream",
          "name": "stderr",
          "text": [
            "Some weights of RobertaForSequenceClassification were not initialized from the model checkpoint at roberta-base and are newly initialized: ['classifier.dense.bias', 'classifier.dense.weight', 'classifier.out_proj.bias', 'classifier.out_proj.weight']\n",
            "You should probably TRAIN this model on a down-stream task to be able to use it for predictions and inference.\n",
            "/usr/local/lib/python3.10/dist-packages/transformers/training_args.py:1525: FutureWarning: `evaluation_strategy` is deprecated and will be removed in version 4.46 of 🤗 Transformers. Use `eval_strategy` instead\n",
            "  warnings.warn(\n"
          ]
        },
        {
          "output_type": "display_data",
          "data": {
            "text/plain": [
              "<IPython.core.display.HTML object>"
            ],
            "text/html": [
              "\n",
              "    <div>\n",
              "      \n",
              "      <progress value='513' max='513' style='width:300px; height:20px; vertical-align: middle;'></progress>\n",
              "      [513/513 00:33, Epoch 3/3]\n",
              "    </div>\n",
              "    <table border=\"1\" class=\"dataframe\">\n",
              "  <thead>\n",
              " <tr style=\"text-align: left;\">\n",
              "      <th>Epoch</th>\n",
              "      <th>Training Loss</th>\n",
              "      <th>Validation Loss</th>\n",
              "      <th>Weighted F1</th>\n",
              "    </tr>\n",
              "  </thead>\n",
              "  <tbody>\n",
              "    <tr>\n",
              "      <td>1</td>\n",
              "      <td>1.099500</td>\n",
              "      <td>1.096359</td>\n",
              "      <td>0.133796</td>\n",
              "    </tr>\n",
              "    <tr>\n",
              "      <td>2</td>\n",
              "      <td>1.085800</td>\n",
              "      <td>1.048985</td>\n",
              "      <td>0.485651</td>\n",
              "    </tr>\n",
              "    <tr>\n",
              "      <td>3</td>\n",
              "      <td>0.964000</td>\n",
              "      <td>0.989127</td>\n",
              "      <td>0.520622</td>\n",
              "    </tr>\n",
              "  </tbody>\n",
              "</table><p>"
            ]
          },
          "metadata": {}
        },
        {
          "output_type": "display_data",
          "data": {
            "text/plain": [
              "<IPython.core.display.HTML object>"
            ],
            "text/html": [
              "\n",
              "    <div>\n",
              "      \n",
              "      <progress value='43' max='43' style='width:300px; height:20px; vertical-align: middle;'></progress>\n",
              "      [43/43 00:00]\n",
              "    </div>\n",
              "    "
            ]
          },
          "metadata": {}
        },
        {
          "output_type": "stream",
          "name": "stdout",
          "text": [
            "Validation Weighted F1 Score: 0.5206\n",
            "\n",
            "Training with learning_rate=1e-05, batch_size=4, epochs=5\n"
          ]
        },
        {
          "output_type": "stream",
          "name": "stderr",
          "text": [
            "Some weights of RobertaForSequenceClassification were not initialized from the model checkpoint at roberta-base and are newly initialized: ['classifier.dense.bias', 'classifier.dense.weight', 'classifier.out_proj.bias', 'classifier.out_proj.weight']\n",
            "You should probably TRAIN this model on a down-stream task to be able to use it for predictions and inference.\n",
            "/usr/local/lib/python3.10/dist-packages/transformers/training_args.py:1525: FutureWarning: `evaluation_strategy` is deprecated and will be removed in version 4.46 of 🤗 Transformers. Use `eval_strategy` instead\n",
            "  warnings.warn(\n"
          ]
        },
        {
          "output_type": "display_data",
          "data": {
            "text/plain": [
              "<IPython.core.display.HTML object>"
            ],
            "text/html": [
              "\n",
              "    <div>\n",
              "      \n",
              "      <progress value='855' max='855' style='width:300px; height:20px; vertical-align: middle;'></progress>\n",
              "      [855/855 00:55, Epoch 5/5]\n",
              "    </div>\n",
              "    <table border=\"1\" class=\"dataframe\">\n",
              "  <thead>\n",
              " <tr style=\"text-align: left;\">\n",
              "      <th>Epoch</th>\n",
              "      <th>Training Loss</th>\n",
              "      <th>Validation Loss</th>\n",
              "      <th>Weighted F1</th>\n",
              "    </tr>\n",
              "  </thead>\n",
              "  <tbody>\n",
              "    <tr>\n",
              "      <td>1</td>\n",
              "      <td>1.109800</td>\n",
              "      <td>1.092219</td>\n",
              "      <td>0.307572</td>\n",
              "    </tr>\n",
              "    <tr>\n",
              "      <td>2</td>\n",
              "      <td>1.007900</td>\n",
              "      <td>0.837476</td>\n",
              "      <td>0.624534</td>\n",
              "    </tr>\n",
              "    <tr>\n",
              "      <td>3</td>\n",
              "      <td>0.678000</td>\n",
              "      <td>0.850765</td>\n",
              "      <td>0.613610</td>\n",
              "    </tr>\n",
              "    <tr>\n",
              "      <td>4</td>\n",
              "      <td>0.472300</td>\n",
              "      <td>0.856128</td>\n",
              "      <td>0.716625</td>\n",
              "    </tr>\n",
              "    <tr>\n",
              "      <td>5</td>\n",
              "      <td>0.329700</td>\n",
              "      <td>0.957598</td>\n",
              "      <td>0.674554</td>\n",
              "    </tr>\n",
              "  </tbody>\n",
              "</table><p>"
            ]
          },
          "metadata": {}
        },
        {
          "output_type": "display_data",
          "data": {
            "text/plain": [
              "<IPython.core.display.HTML object>"
            ],
            "text/html": [
              "\n",
              "    <div>\n",
              "      \n",
              "      <progress value='43' max='43' style='width:300px; height:20px; vertical-align: middle;'></progress>\n",
              "      [43/43 00:00]\n",
              "    </div>\n",
              "    "
            ]
          },
          "metadata": {}
        },
        {
          "output_type": "stream",
          "name": "stdout",
          "text": [
            "Validation Weighted F1 Score: 0.6746\n",
            "\n",
            "Training with learning_rate=1e-05, batch_size=4, epochs=10\n"
          ]
        },
        {
          "output_type": "stream",
          "name": "stderr",
          "text": [
            "Some weights of RobertaForSequenceClassification were not initialized from the model checkpoint at roberta-base and are newly initialized: ['classifier.dense.bias', 'classifier.dense.weight', 'classifier.out_proj.bias', 'classifier.out_proj.weight']\n",
            "You should probably TRAIN this model on a down-stream task to be able to use it for predictions and inference.\n",
            "/usr/local/lib/python3.10/dist-packages/transformers/training_args.py:1525: FutureWarning: `evaluation_strategy` is deprecated and will be removed in version 4.46 of 🤗 Transformers. Use `eval_strategy` instead\n",
            "  warnings.warn(\n"
          ]
        },
        {
          "output_type": "display_data",
          "data": {
            "text/plain": [
              "<IPython.core.display.HTML object>"
            ],
            "text/html": [
              "\n",
              "    <div>\n",
              "      \n",
              "      <progress value='1710' max='1710' style='width:300px; height:20px; vertical-align: middle;'></progress>\n",
              "      [1710/1710 01:51, Epoch 10/10]\n",
              "    </div>\n",
              "    <table border=\"1\" class=\"dataframe\">\n",
              "  <thead>\n",
              " <tr style=\"text-align: left;\">\n",
              "      <th>Epoch</th>\n",
              "      <th>Training Loss</th>\n",
              "      <th>Validation Loss</th>\n",
              "      <th>Weighted F1</th>\n",
              "    </tr>\n",
              "  </thead>\n",
              "  <tbody>\n",
              "    <tr>\n",
              "      <td>1</td>\n",
              "      <td>1.102700</td>\n",
              "      <td>1.087016</td>\n",
              "      <td>0.356390</td>\n",
              "    </tr>\n",
              "    <tr>\n",
              "      <td>2</td>\n",
              "      <td>1.006600</td>\n",
              "      <td>0.809800</td>\n",
              "      <td>0.650122</td>\n",
              "    </tr>\n",
              "    <tr>\n",
              "      <td>3</td>\n",
              "      <td>0.675800</td>\n",
              "      <td>0.806113</td>\n",
              "      <td>0.660590</td>\n",
              "    </tr>\n",
              "    <tr>\n",
              "      <td>4</td>\n",
              "      <td>0.447800</td>\n",
              "      <td>0.940770</td>\n",
              "      <td>0.696748</td>\n",
              "    </tr>\n",
              "    <tr>\n",
              "      <td>5</td>\n",
              "      <td>0.301300</td>\n",
              "      <td>1.177779</td>\n",
              "      <td>0.735553</td>\n",
              "    </tr>\n",
              "    <tr>\n",
              "      <td>6</td>\n",
              "      <td>0.246100</td>\n",
              "      <td>1.382341</td>\n",
              "      <td>0.731428</td>\n",
              "    </tr>\n",
              "    <tr>\n",
              "      <td>7</td>\n",
              "      <td>0.143900</td>\n",
              "      <td>1.475426</td>\n",
              "      <td>0.749676</td>\n",
              "    </tr>\n",
              "    <tr>\n",
              "      <td>8</td>\n",
              "      <td>0.079400</td>\n",
              "      <td>1.565835</td>\n",
              "      <td>0.733422</td>\n",
              "    </tr>\n",
              "    <tr>\n",
              "      <td>9</td>\n",
              "      <td>0.054500</td>\n",
              "      <td>1.596333</td>\n",
              "      <td>0.736083</td>\n",
              "    </tr>\n",
              "    <tr>\n",
              "      <td>10</td>\n",
              "      <td>0.063700</td>\n",
              "      <td>1.623578</td>\n",
              "      <td>0.738268</td>\n",
              "    </tr>\n",
              "  </tbody>\n",
              "</table><p>"
            ]
          },
          "metadata": {}
        },
        {
          "output_type": "display_data",
          "data": {
            "text/plain": [
              "<IPython.core.display.HTML object>"
            ],
            "text/html": [
              "\n",
              "    <div>\n",
              "      \n",
              "      <progress value='43' max='43' style='width:300px; height:20px; vertical-align: middle;'></progress>\n",
              "      [43/43 00:00]\n",
              "    </div>\n",
              "    "
            ]
          },
          "metadata": {}
        },
        {
          "output_type": "stream",
          "name": "stdout",
          "text": [
            "Validation Weighted F1 Score: 0.7383\n",
            "\n",
            "Training with learning_rate=1e-05, batch_size=8, epochs=3\n"
          ]
        },
        {
          "output_type": "stream",
          "name": "stderr",
          "text": [
            "Some weights of RobertaForSequenceClassification were not initialized from the model checkpoint at roberta-base and are newly initialized: ['classifier.dense.bias', 'classifier.dense.weight', 'classifier.out_proj.bias', 'classifier.out_proj.weight']\n",
            "You should probably TRAIN this model on a down-stream task to be able to use it for predictions and inference.\n",
            "/usr/local/lib/python3.10/dist-packages/transformers/training_args.py:1525: FutureWarning: `evaluation_strategy` is deprecated and will be removed in version 4.46 of 🤗 Transformers. Use `eval_strategy` instead\n",
            "  warnings.warn(\n"
          ]
        },
        {
          "output_type": "display_data",
          "data": {
            "text/plain": [
              "<IPython.core.display.HTML object>"
            ],
            "text/html": [
              "\n",
              "    <div>\n",
              "      \n",
              "      <progress value='258' max='258' style='width:300px; height:20px; vertical-align: middle;'></progress>\n",
              "      [258/258 00:28, Epoch 3/3]\n",
              "    </div>\n",
              "    <table border=\"1\" class=\"dataframe\">\n",
              "  <thead>\n",
              " <tr style=\"text-align: left;\">\n",
              "      <th>Epoch</th>\n",
              "      <th>Training Loss</th>\n",
              "      <th>Validation Loss</th>\n",
              "      <th>Weighted F1</th>\n",
              "    </tr>\n",
              "  </thead>\n",
              "  <tbody>\n",
              "    <tr>\n",
              "      <td>1</td>\n",
              "      <td>1.104200</td>\n",
              "      <td>1.094344</td>\n",
              "      <td>0.249784</td>\n",
              "    </tr>\n",
              "    <tr>\n",
              "      <td>2</td>\n",
              "      <td>1.098700</td>\n",
              "      <td>1.086882</td>\n",
              "      <td>0.228822</td>\n",
              "    </tr>\n",
              "    <tr>\n",
              "      <td>3</td>\n",
              "      <td>1.073100</td>\n",
              "      <td>1.072567</td>\n",
              "      <td>0.455020</td>\n",
              "    </tr>\n",
              "  </tbody>\n",
              "</table><p>"
            ]
          },
          "metadata": {}
        },
        {
          "output_type": "display_data",
          "data": {
            "text/plain": [
              "<IPython.core.display.HTML object>"
            ],
            "text/html": [
              "\n",
              "    <div>\n",
              "      \n",
              "      <progress value='22' max='22' style='width:300px; height:20px; vertical-align: middle;'></progress>\n",
              "      [22/22 00:00]\n",
              "    </div>\n",
              "    "
            ]
          },
          "metadata": {}
        },
        {
          "output_type": "stream",
          "name": "stdout",
          "text": [
            "Validation Weighted F1 Score: 0.4550\n",
            "\n",
            "Training with learning_rate=1e-05, batch_size=8, epochs=5\n"
          ]
        },
        {
          "output_type": "stream",
          "name": "stderr",
          "text": [
            "Some weights of RobertaForSequenceClassification were not initialized from the model checkpoint at roberta-base and are newly initialized: ['classifier.dense.bias', 'classifier.dense.weight', 'classifier.out_proj.bias', 'classifier.out_proj.weight']\n",
            "You should probably TRAIN this model on a down-stream task to be able to use it for predictions and inference.\n",
            "/usr/local/lib/python3.10/dist-packages/transformers/training_args.py:1525: FutureWarning: `evaluation_strategy` is deprecated and will be removed in version 4.46 of 🤗 Transformers. Use `eval_strategy` instead\n",
            "  warnings.warn(\n"
          ]
        },
        {
          "output_type": "display_data",
          "data": {
            "text/plain": [
              "<IPython.core.display.HTML object>"
            ],
            "text/html": [
              "\n",
              "    <div>\n",
              "      \n",
              "      <progress value='430' max='430' style='width:300px; height:20px; vertical-align: middle;'></progress>\n",
              "      [430/430 00:47, Epoch 5/5]\n",
              "    </div>\n",
              "    <table border=\"1\" class=\"dataframe\">\n",
              "  <thead>\n",
              " <tr style=\"text-align: left;\">\n",
              "      <th>Epoch</th>\n",
              "      <th>Training Loss</th>\n",
              "      <th>Validation Loss</th>\n",
              "      <th>Weighted F1</th>\n",
              "    </tr>\n",
              "  </thead>\n",
              "  <tbody>\n",
              "    <tr>\n",
              "      <td>1</td>\n",
              "      <td>1.103800</td>\n",
              "      <td>1.095113</td>\n",
              "      <td>0.150031</td>\n",
              "    </tr>\n",
              "    <tr>\n",
              "      <td>2</td>\n",
              "      <td>1.084100</td>\n",
              "      <td>1.052117</td>\n",
              "      <td>0.393382</td>\n",
              "    </tr>\n",
              "    <tr>\n",
              "      <td>3</td>\n",
              "      <td>0.909800</td>\n",
              "      <td>0.814920</td>\n",
              "      <td>0.615363</td>\n",
              "    </tr>\n",
              "    <tr>\n",
              "      <td>4</td>\n",
              "      <td>0.718800</td>\n",
              "      <td>0.727695</td>\n",
              "      <td>0.669003</td>\n",
              "    </tr>\n",
              "    <tr>\n",
              "      <td>5</td>\n",
              "      <td>0.586300</td>\n",
              "      <td>0.707134</td>\n",
              "      <td>0.668462</td>\n",
              "    </tr>\n",
              "  </tbody>\n",
              "</table><p>"
            ]
          },
          "metadata": {}
        },
        {
          "output_type": "display_data",
          "data": {
            "text/plain": [
              "<IPython.core.display.HTML object>"
            ],
            "text/html": [
              "\n",
              "    <div>\n",
              "      \n",
              "      <progress value='22' max='22' style='width:300px; height:20px; vertical-align: middle;'></progress>\n",
              "      [22/22 00:00]\n",
              "    </div>\n",
              "    "
            ]
          },
          "metadata": {}
        },
        {
          "output_type": "stream",
          "name": "stdout",
          "text": [
            "Validation Weighted F1 Score: 0.6685\n",
            "\n",
            "Training with learning_rate=1e-05, batch_size=8, epochs=10\n"
          ]
        },
        {
          "output_type": "stream",
          "name": "stderr",
          "text": [
            "Some weights of RobertaForSequenceClassification were not initialized from the model checkpoint at roberta-base and are newly initialized: ['classifier.dense.bias', 'classifier.dense.weight', 'classifier.out_proj.bias', 'classifier.out_proj.weight']\n",
            "You should probably TRAIN this model on a down-stream task to be able to use it for predictions and inference.\n",
            "/usr/local/lib/python3.10/dist-packages/transformers/training_args.py:1525: FutureWarning: `evaluation_strategy` is deprecated and will be removed in version 4.46 of 🤗 Transformers. Use `eval_strategy` instead\n",
            "  warnings.warn(\n"
          ]
        },
        {
          "output_type": "display_data",
          "data": {
            "text/plain": [
              "<IPython.core.display.HTML object>"
            ],
            "text/html": [
              "\n",
              "    <div>\n",
              "      \n",
              "      <progress value='860' max='860' style='width:300px; height:20px; vertical-align: middle;'></progress>\n",
              "      [860/860 01:34, Epoch 10/10]\n",
              "    </div>\n",
              "    <table border=\"1\" class=\"dataframe\">\n",
              "  <thead>\n",
              " <tr style=\"text-align: left;\">\n",
              "      <th>Epoch</th>\n",
              "      <th>Training Loss</th>\n",
              "      <th>Validation Loss</th>\n",
              "      <th>Weighted F1</th>\n",
              "    </tr>\n",
              "  </thead>\n",
              "  <tbody>\n",
              "    <tr>\n",
              "      <td>1</td>\n",
              "      <td>1.105900</td>\n",
              "      <td>1.092735</td>\n",
              "      <td>0.150031</td>\n",
              "    </tr>\n",
              "    <tr>\n",
              "      <td>2</td>\n",
              "      <td>1.087000</td>\n",
              "      <td>1.026403</td>\n",
              "      <td>0.356261</td>\n",
              "    </tr>\n",
              "    <tr>\n",
              "      <td>3</td>\n",
              "      <td>0.880000</td>\n",
              "      <td>0.756787</td>\n",
              "      <td>0.635775</td>\n",
              "    </tr>\n",
              "    <tr>\n",
              "      <td>4</td>\n",
              "      <td>0.621200</td>\n",
              "      <td>0.687138</td>\n",
              "      <td>0.708214</td>\n",
              "    </tr>\n",
              "    <tr>\n",
              "      <td>5</td>\n",
              "      <td>0.430100</td>\n",
              "      <td>0.715287</td>\n",
              "      <td>0.729676</td>\n",
              "    </tr>\n",
              "    <tr>\n",
              "      <td>6</td>\n",
              "      <td>0.292000</td>\n",
              "      <td>0.760018</td>\n",
              "      <td>0.732452</td>\n",
              "    </tr>\n",
              "    <tr>\n",
              "      <td>7</td>\n",
              "      <td>0.202300</td>\n",
              "      <td>0.850808</td>\n",
              "      <td>0.750852</td>\n",
              "    </tr>\n",
              "    <tr>\n",
              "      <td>8</td>\n",
              "      <td>0.142700</td>\n",
              "      <td>0.894360</td>\n",
              "      <td>0.727425</td>\n",
              "    </tr>\n",
              "    <tr>\n",
              "      <td>9</td>\n",
              "      <td>0.101100</td>\n",
              "      <td>0.968569</td>\n",
              "      <td>0.713410</td>\n",
              "    </tr>\n",
              "    <tr>\n",
              "      <td>10</td>\n",
              "      <td>0.077900</td>\n",
              "      <td>0.983316</td>\n",
              "      <td>0.737932</td>\n",
              "    </tr>\n",
              "  </tbody>\n",
              "</table><p>"
            ]
          },
          "metadata": {}
        },
        {
          "output_type": "display_data",
          "data": {
            "text/plain": [
              "<IPython.core.display.HTML object>"
            ],
            "text/html": [
              "\n",
              "    <div>\n",
              "      \n",
              "      <progress value='22' max='22' style='width:300px; height:20px; vertical-align: middle;'></progress>\n",
              "      [22/22 00:00]\n",
              "    </div>\n",
              "    "
            ]
          },
          "metadata": {}
        },
        {
          "output_type": "stream",
          "name": "stdout",
          "text": [
            "Validation Weighted F1 Score: 0.7379\n",
            "\n",
            "Training with learning_rate=1e-05, batch_size=16, epochs=3\n"
          ]
        },
        {
          "output_type": "stream",
          "name": "stderr",
          "text": [
            "Some weights of RobertaForSequenceClassification were not initialized from the model checkpoint at roberta-base and are newly initialized: ['classifier.dense.bias', 'classifier.dense.weight', 'classifier.out_proj.bias', 'classifier.out_proj.weight']\n",
            "You should probably TRAIN this model on a down-stream task to be able to use it for predictions and inference.\n",
            "/usr/local/lib/python3.10/dist-packages/transformers/training_args.py:1525: FutureWarning: `evaluation_strategy` is deprecated and will be removed in version 4.46 of 🤗 Transformers. Use `eval_strategy` instead\n",
            "  warnings.warn(\n"
          ]
        },
        {
          "output_type": "display_data",
          "data": {
            "text/plain": [
              "<IPython.core.display.HTML object>"
            ],
            "text/html": [
              "\n",
              "    <div>\n",
              "      \n",
              "      <progress value='129' max='129' style='width:300px; height:20px; vertical-align: middle;'></progress>\n",
              "      [129/129 00:25, Epoch 3/3]\n",
              "    </div>\n",
              "    <table border=\"1\" class=\"dataframe\">\n",
              "  <thead>\n",
              " <tr style=\"text-align: left;\">\n",
              "      <th>Epoch</th>\n",
              "      <th>Training Loss</th>\n",
              "      <th>Validation Loss</th>\n",
              "      <th>Weighted F1</th>\n",
              "    </tr>\n",
              "  </thead>\n",
              "  <tbody>\n",
              "    <tr>\n",
              "      <td>1</td>\n",
              "      <td>1.102300</td>\n",
              "      <td>1.099186</td>\n",
              "      <td>0.235441</td>\n",
              "    </tr>\n",
              "    <tr>\n",
              "      <td>2</td>\n",
              "      <td>1.101100</td>\n",
              "      <td>1.096000</td>\n",
              "      <td>0.370453</td>\n",
              "    </tr>\n",
              "    <tr>\n",
              "      <td>3</td>\n",
              "      <td>1.096100</td>\n",
              "      <td>1.094445</td>\n",
              "      <td>0.205471</td>\n",
              "    </tr>\n",
              "  </tbody>\n",
              "</table><p>"
            ]
          },
          "metadata": {}
        },
        {
          "output_type": "display_data",
          "data": {
            "text/plain": [
              "<IPython.core.display.HTML object>"
            ],
            "text/html": [
              "\n",
              "    <div>\n",
              "      \n",
              "      <progress value='11' max='11' style='width:300px; height:20px; vertical-align: middle;'></progress>\n",
              "      [11/11 00:00]\n",
              "    </div>\n",
              "    "
            ]
          },
          "metadata": {}
        },
        {
          "output_type": "stream",
          "name": "stdout",
          "text": [
            "Validation Weighted F1 Score: 0.2055\n",
            "\n",
            "Training with learning_rate=1e-05, batch_size=16, epochs=5\n"
          ]
        },
        {
          "output_type": "stream",
          "name": "stderr",
          "text": [
            "Some weights of RobertaForSequenceClassification were not initialized from the model checkpoint at roberta-base and are newly initialized: ['classifier.dense.bias', 'classifier.dense.weight', 'classifier.out_proj.bias', 'classifier.out_proj.weight']\n",
            "You should probably TRAIN this model on a down-stream task to be able to use it for predictions and inference.\n",
            "/usr/local/lib/python3.10/dist-packages/transformers/training_args.py:1525: FutureWarning: `evaluation_strategy` is deprecated and will be removed in version 4.46 of 🤗 Transformers. Use `eval_strategy` instead\n",
            "  warnings.warn(\n"
          ]
        },
        {
          "output_type": "display_data",
          "data": {
            "text/plain": [
              "<IPython.core.display.HTML object>"
            ],
            "text/html": [
              "\n",
              "    <div>\n",
              "      \n",
              "      <progress value='215' max='215' style='width:300px; height:20px; vertical-align: middle;'></progress>\n",
              "      [215/215 00:42, Epoch 5/5]\n",
              "    </div>\n",
              "    <table border=\"1\" class=\"dataframe\">\n",
              "  <thead>\n",
              " <tr style=\"text-align: left;\">\n",
              "      <th>Epoch</th>\n",
              "      <th>Training Loss</th>\n",
              "      <th>Validation Loss</th>\n",
              "      <th>Weighted F1</th>\n",
              "    </tr>\n",
              "  </thead>\n",
              "  <tbody>\n",
              "    <tr>\n",
              "      <td>1</td>\n",
              "      <td>1.105600</td>\n",
              "      <td>1.098304</td>\n",
              "      <td>0.133796</td>\n",
              "    </tr>\n",
              "    <tr>\n",
              "      <td>2</td>\n",
              "      <td>1.095300</td>\n",
              "      <td>1.089791</td>\n",
              "      <td>0.377350</td>\n",
              "    </tr>\n",
              "    <tr>\n",
              "      <td>3</td>\n",
              "      <td>1.056700</td>\n",
              "      <td>1.024230</td>\n",
              "      <td>0.452646</td>\n",
              "    </tr>\n",
              "    <tr>\n",
              "      <td>4</td>\n",
              "      <td>0.919800</td>\n",
              "      <td>0.916725</td>\n",
              "      <td>0.573663</td>\n",
              "    </tr>\n",
              "    <tr>\n",
              "      <td>5</td>\n",
              "      <td>0.808200</td>\n",
              "      <td>0.883135</td>\n",
              "      <td>0.615079</td>\n",
              "    </tr>\n",
              "  </tbody>\n",
              "</table><p>"
            ]
          },
          "metadata": {}
        },
        {
          "output_type": "display_data",
          "data": {
            "text/plain": [
              "<IPython.core.display.HTML object>"
            ],
            "text/html": [
              "\n",
              "    <div>\n",
              "      \n",
              "      <progress value='11' max='11' style='width:300px; height:20px; vertical-align: middle;'></progress>\n",
              "      [11/11 00:00]\n",
              "    </div>\n",
              "    "
            ]
          },
          "metadata": {}
        },
        {
          "output_type": "stream",
          "name": "stdout",
          "text": [
            "Validation Weighted F1 Score: 0.6151\n",
            "\n",
            "Training with learning_rate=1e-05, batch_size=16, epochs=10\n"
          ]
        },
        {
          "output_type": "stream",
          "name": "stderr",
          "text": [
            "Some weights of RobertaForSequenceClassification were not initialized from the model checkpoint at roberta-base and are newly initialized: ['classifier.dense.bias', 'classifier.dense.weight', 'classifier.out_proj.bias', 'classifier.out_proj.weight']\n",
            "You should probably TRAIN this model on a down-stream task to be able to use it for predictions and inference.\n",
            "/usr/local/lib/python3.10/dist-packages/transformers/training_args.py:1525: FutureWarning: `evaluation_strategy` is deprecated and will be removed in version 4.46 of 🤗 Transformers. Use `eval_strategy` instead\n",
            "  warnings.warn(\n"
          ]
        },
        {
          "output_type": "display_data",
          "data": {
            "text/plain": [
              "<IPython.core.display.HTML object>"
            ],
            "text/html": [
              "\n",
              "    <div>\n",
              "      \n",
              "      <progress value='430' max='430' style='width:300px; height:20px; vertical-align: middle;'></progress>\n",
              "      [430/430 01:25, Epoch 10/10]\n",
              "    </div>\n",
              "    <table border=\"1\" class=\"dataframe\">\n",
              "  <thead>\n",
              " <tr style=\"text-align: left;\">\n",
              "      <th>Epoch</th>\n",
              "      <th>Training Loss</th>\n",
              "      <th>Validation Loss</th>\n",
              "      <th>Weighted F1</th>\n",
              "    </tr>\n",
              "  </thead>\n",
              "  <tbody>\n",
              "    <tr>\n",
              "      <td>1</td>\n",
              "      <td>1.100500</td>\n",
              "      <td>1.097110</td>\n",
              "      <td>0.235441</td>\n",
              "    </tr>\n",
              "    <tr>\n",
              "      <td>2</td>\n",
              "      <td>1.096800</td>\n",
              "      <td>1.089657</td>\n",
              "      <td>0.350467</td>\n",
              "    </tr>\n",
              "    <tr>\n",
              "      <td>3</td>\n",
              "      <td>1.074500</td>\n",
              "      <td>1.019642</td>\n",
              "      <td>0.483681</td>\n",
              "    </tr>\n",
              "    <tr>\n",
              "      <td>4</td>\n",
              "      <td>0.903900</td>\n",
              "      <td>0.843826</td>\n",
              "      <td>0.618463</td>\n",
              "    </tr>\n",
              "    <tr>\n",
              "      <td>5</td>\n",
              "      <td>0.694000</td>\n",
              "      <td>0.763460</td>\n",
              "      <td>0.631810</td>\n",
              "    </tr>\n",
              "    <tr>\n",
              "      <td>6</td>\n",
              "      <td>0.536000</td>\n",
              "      <td>0.791109</td>\n",
              "      <td>0.637046</td>\n",
              "    </tr>\n",
              "    <tr>\n",
              "      <td>7</td>\n",
              "      <td>0.448700</td>\n",
              "      <td>0.762511</td>\n",
              "      <td>0.664226</td>\n",
              "    </tr>\n",
              "    <tr>\n",
              "      <td>8</td>\n",
              "      <td>0.356100</td>\n",
              "      <td>0.784452</td>\n",
              "      <td>0.652205</td>\n",
              "    </tr>\n",
              "    <tr>\n",
              "      <td>9</td>\n",
              "      <td>0.318700</td>\n",
              "      <td>0.775247</td>\n",
              "      <td>0.672072</td>\n",
              "    </tr>\n",
              "    <tr>\n",
              "      <td>10</td>\n",
              "      <td>0.270400</td>\n",
              "      <td>0.784312</td>\n",
              "      <td>0.671932</td>\n",
              "    </tr>\n",
              "  </tbody>\n",
              "</table><p>"
            ]
          },
          "metadata": {}
        },
        {
          "output_type": "display_data",
          "data": {
            "text/plain": [
              "<IPython.core.display.HTML object>"
            ],
            "text/html": [
              "\n",
              "    <div>\n",
              "      \n",
              "      <progress value='11' max='11' style='width:300px; height:20px; vertical-align: middle;'></progress>\n",
              "      [11/11 00:00]\n",
              "    </div>\n",
              "    "
            ]
          },
          "metadata": {}
        },
        {
          "output_type": "stream",
          "name": "stdout",
          "text": [
            "Validation Weighted F1 Score: 0.6719\n"
          ]
        }
      ],
      "source": [
        "# Hyperparameter ranges\n",
        "learning_rates = [5e-5, 3e-5, 2e-5, 1e-5]\n",
        "batch_sizes = [4, 8, 16]\n",
        "num_epochs = [3, 5, 10]\n",
        "\n",
        "# For tracking results\n",
        "results = []\n",
        "\n",
        "# Loop over hyperparameters\n",
        "for lr in learning_rates:\n",
        "    for batch_size in batch_sizes:\n",
        "        for epochs in num_epochs:\n",
        "            print(f\"\\nTraining with learning_rate={lr}, batch_size={batch_size}, epochs={epochs}\")\n",
        "\n",
        "            # Re-initialize the model for each run\n",
        "            model = RobertaForSequenceClassification.from_pretrained('roberta-base', num_labels=3)\n",
        "            model.to(device)\n",
        "\n",
        "            # Update training arguments\n",
        "            training_args = TrainingArguments(\n",
        "                output_dir='./results',\n",
        "                num_train_epochs=epochs,\n",
        "                per_device_train_batch_size=batch_size,\n",
        "                per_device_eval_batch_size=batch_size,\n",
        "                evaluation_strategy='epoch',\n",
        "                save_strategy='no',\n",
        "                logging_strategy='epoch',\n",
        "                learning_rate=lr,\n",
        "                load_best_model_at_end=False,\n",
        "                seed=0\n",
        "            )\n",
        "\n",
        "            # Initialize the Custom Trainer\n",
        "            trainer = CustomTrainer(\n",
        "                model=model,\n",
        "                args=training_args,\n",
        "                train_dataset=train_dataset,\n",
        "                eval_dataset=val_dataset,\n",
        "                compute_metrics=compute_metrics,\n",
        "                tokenizer=tokenizer\n",
        "            )\n",
        "\n",
        "            # Train the model\n",
        "            trainer.train()\n",
        "\n",
        "            # Evaluate on validation set\n",
        "            eval_result = trainer.evaluate()\n",
        "            weighted_f1 = eval_result['eval_weighted_f1']\n",
        "            print(f\"Validation Weighted F1 Score: {weighted_f1:.4f}\")\n",
        "\n",
        "            results.append({\n",
        "                'learning_rate': lr,\n",
        "                'batch_size': batch_size,\n",
        "                'epochs': epochs,\n",
        "                'weighted_f1': weighted_f1\n",
        "            })\n"
      ]
    },
    {
      "cell_type": "markdown",
      "metadata": {
        "id": "rBAHw24W0TF-"
      },
      "source": [
        "### Analyzing Hyperparameter Results\n",
        "\n",
        "- Converted the results of the hyperparameter tuning to a pandas DataFrame.\n",
        "- Identified the best hyperparameters based on the highest weighted F1 score.\n",
        "- Displayed the best learning rate, batch size, number of epochs, and the corresponding weighted F1 score.\n",
        "- Displayed a summary of all hyperparameter combinations and their performance."
      ]
    },
    {
      "cell_type": "code",
      "execution_count": 15,
      "metadata": {
        "id": "f_JtLXZx0TF-",
        "colab": {
          "base_uri": "https://localhost:8080/",
          "height": 0
        },
        "outputId": "14f1887c-4089-4b91-baa5-9cf5d74c1877"
      },
      "outputs": [
        {
          "output_type": "stream",
          "name": "stdout",
          "text": [
            "\n",
            "Best Hyperparameters:\n",
            "Learning Rate: 2e-05\n",
            "Batch Size: 16.0\n",
            "Epochs: 10.0\n",
            "Best Weighted F1 Score: 0.7443\n",
            "\n",
            "Hyperparameter Tuning Results:\n",
            "    learning_rate  batch_size  epochs  weighted_f1\n",
            "26        0.00002          16      10     0.744287\n",
            "29        0.00001           4      10     0.738268\n",
            "32        0.00001           8      10     0.737932\n",
            "23        0.00002           8      10     0.727949\n",
            "14        0.00003           8      10     0.726722\n",
            "8         0.00005          16      10     0.717641\n",
            "17        0.00003          16      10     0.709432\n",
            "19        0.00002           4       5     0.703987\n",
            "20        0.00002           4      10     0.697393\n",
            "16        0.00003          16       5     0.691424\n",
            "25        0.00002          16       5     0.675618\n",
            "28        0.00001           4       5     0.674554\n",
            "35        0.00001          16      10     0.671932\n",
            "22        0.00002           8       5     0.669507\n",
            "31        0.00001           8       5     0.668462\n",
            "10        0.00003           4       5     0.630038\n",
            "34        0.00001          16       5     0.615079\n",
            "18        0.00002           4       3     0.594288\n",
            "21        0.00002           8       3     0.580536\n",
            "24        0.00002          16       3     0.536915\n",
            "27        0.00001           4       3     0.520622\n",
            "15        0.00003          16       3     0.470909\n",
            "4         0.00005           8       5     0.461890\n",
            "11        0.00003           4      10     0.457559\n",
            "30        0.00001           8       3     0.455020\n",
            "6         0.00005          16       3     0.423650\n",
            "12        0.00003           8       3     0.375901\n",
            "0         0.00005           4       3     0.235441\n",
            "9         0.00003           4       3     0.235441\n",
            "3         0.00005           8       3     0.235441\n",
            "1         0.00005           4       5     0.235441\n",
            "7         0.00005          16       5     0.235441\n",
            "13        0.00003           8       5     0.235441\n",
            "33        0.00001          16       3     0.205471\n",
            "5         0.00005           8      10     0.150031\n",
            "2         0.00005           4      10     0.121776\n"
          ]
        }
      ],
      "source": [
        "# Convert results to DataFrame\n",
        "results_df = pd.DataFrame(results)\n",
        "\n",
        "# Find the best hyperparameters\n",
        "best_row = results_df.loc[results_df['weighted_f1'].idxmax()]\n",
        "best_learning_rate = best_row['learning_rate']\n",
        "best_batch_size = best_row['batch_size']\n",
        "best_num_epochs = best_row['epochs']\n",
        "\n",
        "print(\"\\nBest Hyperparameters:\")\n",
        "print(f\"Learning Rate: {best_learning_rate}\")\n",
        "print(f\"Batch Size: {best_batch_size}\")\n",
        "print(f\"Epochs: {best_num_epochs}\")\n",
        "print(f\"Best Weighted F1 Score: {best_row['weighted_f1']:.4f}\")\n",
        "\n",
        "# Display the results DataFrame\n",
        "print(\"\\nHyperparameter Tuning Results:\")\n",
        "print(results_df.sort_values(by='weighted_f1', ascending=False))\n"
      ]
    },
    {
      "cell_type": "markdown",
      "metadata": {
        "id": "7V3qEE4U0TF-"
      },
      "source": [
        "### Training the Final Model\n",
        "\n",
        "- Combined the training and validation data to create a larger training set for the final model.\n",
        "- Recomputed class weights using the combined dataset.\n",
        "- Converted class weights to a tensor and moved them to the appropriate device.\n",
        "- Re-initialized the RoBERTa model and moved it to the device.\n",
        "- Updated the training arguments with the best hyperparameters.\n",
        "- Split a small validation set from the combined data (10% of the data).\n",
        "- Created dataset instances for the final training and validation sets.\n",
        "- Initialized the `CustomTrainer` with the final model and training arguments.\n",
        "- Trained the final model and saved the best model based on the validation performance."
      ]
    },
    {
      "cell_type": "code",
      "execution_count": 16,
      "metadata": {
        "id": "sUD9npa30TF-",
        "colab": {
          "base_uri": "https://localhost:8080/",
          "height": 513
        },
        "outputId": "7919cc5c-dfa5-4691-9e66-420fa1de6a59"
      },
      "outputs": [
        {
          "output_type": "stream",
          "name": "stderr",
          "text": [
            "Some weights of RobertaForSequenceClassification were not initialized from the model checkpoint at roberta-base and are newly initialized: ['classifier.dense.bias', 'classifier.dense.weight', 'classifier.out_proj.bias', 'classifier.out_proj.weight']\n",
            "You should probably TRAIN this model on a down-stream task to be able to use it for predictions and inference.\n",
            "/usr/local/lib/python3.10/dist-packages/transformers/training_args.py:1525: FutureWarning: `evaluation_strategy` is deprecated and will be removed in version 4.46 of 🤗 Transformers. Use `eval_strategy` instead\n",
            "  warnings.warn(\n"
          ]
        },
        {
          "output_type": "display_data",
          "data": {
            "text/plain": [
              "<IPython.core.display.HTML object>"
            ],
            "text/html": [
              "\n",
              "    <div>\n",
              "      \n",
              "      <progress value='490' max='490' style='width:300px; height:20px; vertical-align: middle;'></progress>\n",
              "      [490/490 02:04, Epoch 10/10]\n",
              "    </div>\n",
              "    <table border=\"1\" class=\"dataframe\">\n",
              "  <thead>\n",
              " <tr style=\"text-align: left;\">\n",
              "      <th>Epoch</th>\n",
              "      <th>Training Loss</th>\n",
              "      <th>Validation Loss</th>\n",
              "      <th>Weighted F1</th>\n",
              "    </tr>\n",
              "  </thead>\n",
              "  <tbody>\n",
              "    <tr>\n",
              "      <td>1</td>\n",
              "      <td>1.103900</td>\n",
              "      <td>1.095406</td>\n",
              "      <td>0.325368</td>\n",
              "    </tr>\n",
              "    <tr>\n",
              "      <td>2</td>\n",
              "      <td>1.059400</td>\n",
              "      <td>0.930797</td>\n",
              "      <td>0.606076</td>\n",
              "    </tr>\n",
              "    <tr>\n",
              "      <td>3</td>\n",
              "      <td>0.793500</td>\n",
              "      <td>0.702131</td>\n",
              "      <td>0.697667</td>\n",
              "    </tr>\n",
              "    <tr>\n",
              "      <td>4</td>\n",
              "      <td>0.523300</td>\n",
              "      <td>0.759338</td>\n",
              "      <td>0.707943</td>\n",
              "    </tr>\n",
              "    <tr>\n",
              "      <td>5</td>\n",
              "      <td>0.334600</td>\n",
              "      <td>0.908526</td>\n",
              "      <td>0.720574</td>\n",
              "    </tr>\n",
              "    <tr>\n",
              "      <td>6</td>\n",
              "      <td>0.242600</td>\n",
              "      <td>0.967012</td>\n",
              "      <td>0.743993</td>\n",
              "    </tr>\n",
              "    <tr>\n",
              "      <td>7</td>\n",
              "      <td>0.118600</td>\n",
              "      <td>1.060629</td>\n",
              "      <td>0.732066</td>\n",
              "    </tr>\n",
              "    <tr>\n",
              "      <td>8</td>\n",
              "      <td>0.054400</td>\n",
              "      <td>1.263389</td>\n",
              "      <td>0.744523</td>\n",
              "    </tr>\n",
              "    <tr>\n",
              "      <td>9</td>\n",
              "      <td>0.039200</td>\n",
              "      <td>1.371371</td>\n",
              "      <td>0.732413</td>\n",
              "    </tr>\n",
              "    <tr>\n",
              "      <td>10</td>\n",
              "      <td>0.030200</td>\n",
              "      <td>1.392745</td>\n",
              "      <td>0.744523</td>\n",
              "    </tr>\n",
              "  </tbody>\n",
              "</table><p>"
            ]
          },
          "metadata": {}
        },
        {
          "output_type": "execute_result",
          "data": {
            "text/plain": [
              "TrainOutput(global_step=490, training_loss=0.4299663979180005, metrics={'train_runtime': 124.7228, 'train_samples_per_second': 61.737, 'train_steps_per_second': 3.929, 'total_flos': 1012986658252800.0, 'train_loss': 0.4299663979180005, 'epoch': 10.0})"
            ]
          },
          "metadata": {},
          "execution_count": 16
        }
      ],
      "source": [
        "# Combine training and validation data\n",
        "final_train_texts = pd.concat([train_texts, val_texts]).reset_index(drop=True)\n",
        "final_train_labels = pd.concat([train_labels, val_labels]).reset_index(drop=True)\n",
        "\n",
        "# Recompute class weights using the combined dataset\n",
        "final_train_labels = final_train_labels.astype(int)\n",
        "class_weights = compute_class_weight(\n",
        "    class_weight='balanced',\n",
        "    classes=np.unique(final_train_labels),\n",
        "    y=final_train_labels\n",
        ")\n",
        "class_weights = torch.tensor(class_weights, dtype=torch.float).to(device)\n",
        "\n",
        "# Re-initialize the model\n",
        "model = RobertaForSequenceClassification.from_pretrained('roberta-base', num_labels=3)\n",
        "model.to(device)\n",
        "\n",
        "# Update training arguments with best hyperparameters\n",
        "training_args = TrainingArguments(\n",
        "    output_dir='./best_model',\n",
        "    num_train_epochs=int(best_num_epochs),\n",
        "    per_device_train_batch_size=int(best_batch_size),\n",
        "    per_device_eval_batch_size=int(best_batch_size),\n",
        "    evaluation_strategy='epoch',\n",
        "    save_strategy='epoch',\n",
        "    logging_strategy='epoch',\n",
        "    learning_rate=best_learning_rate,\n",
        "    load_best_model_at_end=True,\n",
        "    seed=0\n",
        ")\n",
        "\n",
        "# Split a small validation set from the combined data\n",
        "train_texts_final, val_texts_final, train_labels_final, val_labels_final = train_test_split(\n",
        "    final_train_texts,\n",
        "    final_train_labels,\n",
        "    test_size=0.1,\n",
        "    random_state=0\n",
        ")\n",
        "\n",
        "# Create datasets\n",
        "train_dataset_final = FOMCDataset(train_texts_final, train_labels_final, tokenizer, tokenizer_kwargs)\n",
        "val_dataset_final = FOMCDataset(val_texts_final, val_labels_final, tokenizer, tokenizer_kwargs)\n",
        "\n",
        "# Initialize the Custom Trainer\n",
        "trainer = CustomTrainer(\n",
        "    model=model,\n",
        "    args=training_args,\n",
        "    train_dataset=train_dataset_final,\n",
        "    eval_dataset=val_dataset_final,\n",
        "    compute_metrics=compute_metrics,\n",
        "    tokenizer=tokenizer\n",
        ")\n",
        "\n",
        "# Train the final model\n",
        "trainer.train()\n"
      ]
    },
    {
      "cell_type": "markdown",
      "metadata": {
        "id": "d3VHMaMr0TF_"
      },
      "source": [
        "### Evaluating the Model\n",
        "\n",
        "- Made predictions on the test dataset using the trained final model.\n",
        "- Computed the weighted F1 score on the test set.\n",
        "- Generated a classification report showing precision, recall, and F1-score for each class."
      ]
    },
    {
      "cell_type": "code",
      "execution_count": 17,
      "metadata": {
        "id": "ARAJ87Qk0TF_",
        "colab": {
          "base_uri": "https://localhost:8080/",
          "height": 260
        },
        "outputId": "508d5b5d-b5c7-4dde-8d05-3e21474791d2"
      },
      "outputs": [
        {
          "output_type": "display_data",
          "data": {
            "text/plain": [
              "<IPython.core.display.HTML object>"
            ],
            "text/html": []
          },
          "metadata": {}
        },
        {
          "output_type": "stream",
          "name": "stdout",
          "text": [
            "\n",
            "Weighted F1 Score on Test Set: 0.6427\n",
            "\n",
            "Classification Report:\n",
            "              precision    recall  f1-score   support\n",
            "\n",
            "      Dovish       0.65      0.54      0.59        69\n",
            "     Hawkish       0.61      0.67      0.64        49\n",
            "     Neutral       0.66      0.71      0.68        96\n",
            "\n",
            "    accuracy                           0.64       214\n",
            "   macro avg       0.64      0.64      0.64       214\n",
            "weighted avg       0.65      0.64      0.64       214\n",
            "\n"
          ]
        }
      ],
      "source": [
        "# Make predictions on the test set\n",
        "predictions_output = trainer.predict(test_dataset)\n",
        "predictions = predictions_output.predictions\n",
        "labels = predictions_output.label_ids\n",
        "predicted_labels = np.argmax(predictions, axis=1)\n",
        "\n",
        "# Compute the weighted F1 score\n",
        "test_f1 = f1_score(labels, predicted_labels, average='weighted')\n",
        "print(f'\\nWeighted F1 Score on Test Set: {test_f1:.4f}')\n",
        "\n",
        "# Generate classification report\n",
        "print(\"\\nClassification Report:\")\n",
        "print(classification_report(labels, predicted_labels, target_names=['Dovish', 'Hawkish', 'Neutral']))\n"
      ]
    },
    {
      "cell_type": "markdown",
      "metadata": {
        "id": "OFQwWDqd0TF_"
      },
      "source": [
        "### Confusion Matrix Analysis\n",
        "\n",
        "- Computed the confusion matrix using `sklearn.metrics.confusion_matrix`.\n",
        "- Plotted the confusion matrix using a seaborn heatmap.\n",
        "- Analyzed the confusion matrix to understand which classes are often confused by the model.\n",
        "- Identified any biases towards particular classes."
      ]
    },
    {
      "cell_type": "code",
      "execution_count": 18,
      "metadata": {
        "id": "MRPZnU2k0TF_",
        "colab": {
          "base_uri": "https://localhost:8080/",
          "height": 564
        },
        "outputId": "36603cbd-c5fb-44a6-9af2-3759e77551d7"
      },
      "outputs": [
        {
          "output_type": "display_data",
          "data": {
            "text/plain": [
              "<Figure size 800x600 with 2 Axes>"
            ],
            "image/png": "[encoded data removed]"
          },
          "metadata": {}
        }
      ],
      "source": [
        "# Confusion matrix\n",
        "cm = confusion_matrix(labels, predicted_labels)\n",
        "\n",
        "# Plot the confusion matrix\n",
        "plt.figure(figsize=(8,6))\n",
        "sns.heatmap(cm, annot=True, fmt='d', cmap='Blues', xticklabels=['Dovish', 'Hawkish', 'Neutral'], yticklabels=['Dovish', 'Hawkish', 'Neutral'])\n",
        "plt.xlabel('Predicted')\n",
        "plt.ylabel('True')\n",
        "plt.title('Confusion Matrix')\n",
        "plt.show()\n"
      ]
    },
    {
      "cell_type": "markdown",
      "metadata": {
        "id": "EpDKH7EI0TF_"
      },
      "source": [
        "### Model Performance\n",
        "\n",
        "- **Weighted F1 Score on Test Set**: **0.6427**\n",
        "\n",
        "### Confusion Matrix\n",
        "\n",
        "- **Dovish Class**:\n",
        "  - Correctly classified **37** out of **69** Dovish sentences (~53.6% accuracy for Dovish).\n",
        "  - Misclassified as Neutral **25** times and as Hawkish **7** times.\n",
        "  - Indicates difficulty in distinguishing Dovish from Neutral sentences due to overlapping language features.\n",
        "\n",
        "- **Hawkish Class**:\n",
        "  - Correctly classified **33** out of **49** Hawkish sentences (~67.3% accuracy for Hawkish).\n",
        "  - Misclassified as Neutral **10** times and as Dovish **6** times.\n",
        "  - Shows better performance compared to the Dovish class, suggesting stronger distinguishing features.\n",
        "\n",
        "- **Neutral Class**:\n",
        "  - Correctly classified **68** out of **96** Neutral sentences (~70.8% accuracy for Neutral).\n",
        "  - Misclassified as Dovish **9** times and as Hawkish **5** times.\n",
        "  - The model effectively recognizes Neutral sentences but still confuses them with other classes occasionally.\n",
        "\n",
        "- **Overall Insights**:\n",
        "  - The model tends to confuse Dovish sentences with Neutral more than with Hawkish.\n",
        "  - Performance is highest on the Hawkish class, followed by Neutral, and lowest on Dovish.\n",
        "  - Misclassifications indicate a need for more distinctive features or data augmentation for the Dovish class.\n",
        "\n",
        "### Hyperparameter Analysis\n",
        "\n",
        "- **Learning Rate**:\n",
        "  - **2e-5** provided the best validation F1 score of **0.7443**.\n",
        "  - **Observations**:\n",
        "    - Higher learning rates (e.g., **5e-5**) led to unstable training and lower F1 scores due to potential overshooting.\n",
        "    - Lower learning rates (e.g., **1e-5**) required more epochs and did not significantly improve performance.\n",
        "\n",
        "- **Batch Size**:\n",
        "  - A batch size of **16** achieved the best results.\n",
        "  - **Observations**:\n",
        "    - Smaller batch sizes (**4**, **8**) resulted in slightly lower F1 scores and increased training time.\n",
        "    - Larger batch sizes maintained efficiency without compromising generalization.\n",
        "\n",
        "- **Number of Epochs**:\n",
        "  - Training for **10 epochs** yielded the highest weighted F1 score.\n",
        "  - **Observations**:\n",
        "    - Performance improved with more epochs up to 10; beyond that, overfitting could occur.\n",
        "    - Fewer epochs led to underfitting, with the model not fully capturing data patterns.\n",
        "\n",
        "- **Overall Observations**:\n",
        "  - The optimal hyperparameters were a **learning rate of 2e-5**, **batch size of 16**, and **10 epochs**.\n",
        "  - Proper hyperparameter tuning significantly enhanced model performance.\n",
        "  - Balancing learning rate and epochs was crucial for effective convergence and avoiding overfitting.\n",
        "\n",
        "### Conclusion\n",
        "\n",
        "- **Model Performance**:\n",
        "  - Achieved a weighted F1 score of **0.6427** on the test set.\n",
        "  - The model performs best on the Hawkish class, indicating strong feature representation for Hawkish language.\n",
        "  - Lower performance on the Dovish class suggests a need for better feature extraction or more training data.\n",
        "\n",
        "- **Confusion Matrix Insights**:\n",
        "  - The model struggles to distinguish between Dovish and Neutral sentences, leading to misclassifications.\n",
        "  - Effective at identifying Hawkish sentences, but some overlap with Neutral class exists.\n",
        "\n",
        "- **Hyperparameter Impact**:\n",
        "  - Careful tuning of learning rate, batch size, and epochs significantly impacted the model's effectiveness.\n",
        "  - The optimal hyperparameters led to the best validation performance, though test set performance was slightly lower, indicating possible overfitting.\n",
        "\n",
        "---\n",
        "\n",
        "### Importing Additional Libraries\n",
        "\n",
        "- **glob**: Used to find all the pathnames matching a specified pattern.\n",
        "- **re**: Provides regular expression matching operations.\n",
        "- **nltk**: Natural Language Toolkit for tokenizing sentences.\n",
        "  - **sent_tokenize**: Splits text into sentences.\n",
        "  - **nltk.download('punkt')**: Downloads the necessary tokenizer models."
      ]
    },
    {
      "cell_type": "code",
      "source": [
        "# Importing additional libraries\n",
        "import glob\n",
        "import re\n",
        "from nltk.tokenize import sent_tokenize\n",
        "import nltk\n",
        "nltk.download('punkt')\n"
      ],
      "metadata": {
        "colab": {
          "base_uri": "https://localhost:8080/",
          "height": 0
        },
        "id": "XtAVT9-dOTFz",
        "outputId": "4cdfb262-9037-4e58-eb29-59bdedc8a865"
      },
      "execution_count": 19,
      "outputs": [
        {
          "output_type": "stream",
          "name": "stderr",
          "text": [
            "[nltk_data] Downloading package punkt to /root/nltk_data...\n",
            "[nltk_data]   Unzipping tokenizers/punkt.zip.\n"
          ]
        },
        {
          "output_type": "execute_result",
          "data": {
            "text/plain": [
              "True"
            ]
          },
          "metadata": {},
          "execution_count": 19
        }
      ]
    },
    {
      "cell_type": "markdown",
      "source": [
        "### Loading Raw Text Files\n",
        "\n",
        "- Loaded all raw text files from the `meeting_minutes_raw_text_files` directory.\n",
        "- Used `glob` to find all `.txt` files.\n",
        "- Confirmed the number of files found."
      ],
      "metadata": {
        "id": "JVaINJlMj1r7"
      }
    },
    {
      "cell_type": "code",
      "source": [
        "# Ensure the raw text files are available\n",
        "import os\n",
        "if not os.path.exists('AS10/meeting_minutes'):\n",
        "    # Unzip the raw text files if they are compressed\n",
        "    !unzip AS10/meeting_minutes_raw_text_files.zip -d AS10/\n",
        "\n",
        "# Get the list of all text files\n",
        "text_files = glob.glob('AS10/meeting_minutes/*.txt')\n",
        "print(f\"Found {len(text_files)} raw text files.\")\n"
      ],
      "metadata": {
        "colab": {
          "base_uri": "https://localhost:8080/",
          "height": 0
        },
        "id": "9Ze-Kg5Bjy-M",
        "outputId": "1edbc3f1-a7f1-4abd-b80e-c7bf6315452c"
      },
      "execution_count": 22,
      "outputs": [
        {
          "output_type": "stream",
          "name": "stdout",
          "text": [
            "Found 230 raw text files.\n"
          ]
        }
      ]
    },
    {
      "cell_type": "markdown",
      "source": [
        "### Tokenizing Raw Text Files into Sentences\n",
        "\n",
        "- For each raw text file:\n",
        "  - Read the content.\n",
        "  - Tokenized the text into sentences using `sent_tokenize` from NLTK.\n",
        "- Stored the sentences in a dictionary with the meeting date as the key."
      ],
      "metadata": {
        "id": "b1UosG-_kIrr"
      }
    },
    {
      "cell_type": "code",
      "source": [
        "# Dictionary to store sentences from each document\n",
        "documents = {}\n",
        "\n",
        "# Iterate over each text file\n",
        "for file_path in text_files:\n",
        "    # Extract the filename (date of the meeting)\n",
        "    filename = os.path.basename(file_path)\n",
        "    meeting_date = filename.replace('.txt', '')\n",
        "\n",
        "    # Read the content of the file\n",
        "    with open(file_path, 'r', encoding='utf-8') as file:\n",
        "        text = file.read()\n",
        "\n",
        "    # Tokenize the text into sentences\n",
        "    sentences = sent_tokenize(text)\n",
        "\n",
        "    # Store the sentences in the dictionary\n",
        "    documents[meeting_date] = sentences\n",
        "\n",
        "print(f\"Processed {len(documents)} documents.\")\n"
      ],
      "metadata": {
        "colab": {
          "base_uri": "https://localhost:8080/",
          "height": 0
        },
        "id": "0mwH1Q0aj7I3",
        "outputId": "7dec33b2-9ee6-4acd-d363-73247e55c9dd"
      },
      "execution_count": 23,
      "outputs": [
        {
          "output_type": "stream",
          "name": "stdout",
          "text": [
            "Processed 230 documents.\n"
          ]
        }
      ]
    },
    {
      "cell_type": "markdown",
      "source": [
        "### Filtering Sentences Based on Keywords\n",
        "\n",
        "- Defined lists of **hawkish** and **dovish** keywords as per Panel A1 and B1 in the paper.\n",
        "- Created a function `contains_keyword` to check if a sentence contains any of the keywords.\n",
        "- Filtered the sentences in each document to include only those containing the keywords.\n",
        "- Stored the filtered sentences in a new dictionary.\n"
      ],
      "metadata": {
        "id": "xNjLG3zhlCV9"
      }
    },
    {
      "cell_type": "code",
      "source": [
        "# Define the keywords from Panel A1 and B1 (as per the paper)\n",
        "hawkish_keywords = ['inflation expectation', 'interest rate', 'bank rate', 'fund rate', 'price', 'economic activity', 'inflation', 'employment']\n",
        "dovish_keywords = ['unemployment', 'growth', 'exchange rate', 'productivity', 'deficit', 'demand', 'job market', 'monetary policy']\n",
        "\n",
        "# Combine all keywords\n",
        "all_keywords = set(hawkish_keywords + dovish_keywords)\n",
        "\n",
        "# Function to check if a sentence contains any keyword\n",
        "def contains_keyword(sentence, keywords):\n",
        "    sentence = sentence.lower()\n",
        "    for keyword in keywords:\n",
        "        if re.search(r'\\b' + re.escape(keyword.lower()) + r'\\b', sentence):\n",
        "            return True\n",
        "    return False\n",
        "\n",
        "# Dictionary to store filtered sentences\n",
        "filtered_documents = {}\n",
        "\n",
        "# Filter sentences for each document\n",
        "for meeting_date, sentences in documents.items():\n",
        "    filtered_sentences = [sentence for sentence in sentences if contains_keyword(sentence, all_keywords)]\n",
        "    if filtered_sentences:\n",
        "        filtered_documents[meeting_date] = filtered_sentences\n",
        "\n",
        "print(f\"Filtered sentences for {len(filtered_documents)} documents.\")\n"
      ],
      "metadata": {
        "colab": {
          "base_uri": "https://localhost:8080/",
          "height": 0
        },
        "id": "H23lNkrwkMkF",
        "outputId": "07244505-f620-4ba2-c0f2-11819d8c50fd"
      },
      "execution_count": 24,
      "outputs": [
        {
          "output_type": "stream",
          "name": "stdout",
          "text": [
            "Filtered sentences for 230 documents.\n"
          ]
        }
      ]
    },
    {
      "cell_type": "markdown",
      "source": [
        "### Preparing Sentences for Inference\n",
        "\n",
        "- Flattened the filtered sentences into a single list for inference.\n",
        "- Recorded the meeting date for each sentence to map predictions back to documents."
      ],
      "metadata": {
        "id": "1Kq7tacPmRJw"
      }
    },
    {
      "cell_type": "code",
      "source": [
        "# List to store all filtered sentences\n",
        "all_filtered_sentences = []\n",
        "# List to store corresponding meeting dates\n",
        "sentence_meeting_dates = []\n",
        "\n",
        "for meeting_date, sentences in filtered_documents.items():\n",
        "    all_filtered_sentences.extend(sentences)\n",
        "    sentence_meeting_dates.extend([meeting_date] * len(sentences))\n",
        "\n",
        "print(f\"Total filtered sentences: {len(all_filtered_sentences)}\")\n"
      ],
      "metadata": {
        "colab": {
          "base_uri": "https://localhost:8080/",
          "height": 0
        },
        "id": "YefSI7gbmWFR",
        "outputId": "05144d5b-b20f-47bb-a8d3-df4275916a21"
      },
      "execution_count": 25,
      "outputs": [
        {
          "output_type": "stream",
          "name": "stdout",
          "text": [
            "Total filtered sentences: 20114\n"
          ]
        }
      ]
    },
    {
      "cell_type": "markdown",
      "source": [
        "### Creating Inference Dataset\n",
        "\n",
        "- Created a dataset instance using `FOMCDataset`.\n",
        "- Used dummy labels since actual labels are not available during inference."
      ],
      "metadata": {
        "id": "NuxHwgZgmZj2"
      }
    },
    {
      "cell_type": "code",
      "source": [
        "# Since labels are not available for inference, create dummy labels\n",
        "dummy_labels = [0] * len(all_filtered_sentences)\n",
        "\n",
        "# Create the inference dataset\n",
        "inference_dataset = FOMCDataset(pd.Series(all_filtered_sentences), pd.Series(dummy_labels), tokenizer, tokenizer_kwargs)\n"
      ],
      "metadata": {
        "id": "mwc1r6tMmcVV"
      },
      "execution_count": 26,
      "outputs": []
    },
    {
      "cell_type": "markdown",
      "source": [
        "### Performing Inference Using the Fine-Tuned Model\n",
        "\n",
        "- Used the trained model to predict labels for the filtered sentences.\n",
        "- Mapped numerical labels to their corresponding names ('Dovish', 'Hawkish', 'Neutral')."
      ],
      "metadata": {
        "id": "ijsJrniHmgib"
      }
    },
    {
      "cell_type": "code",
      "source": [
        "# Make predictions\n",
        "predictions_output = trainer.predict(inference_dataset)\n",
        "predictions = predictions_output.predictions\n",
        "predicted_labels = np.argmax(predictions, axis=1)\n",
        "\n",
        "# Map label indices to label names\n",
        "label_mapping = {0: 'Dovish', 1: 'Hawkish', 2: 'Neutral'}\n",
        "predicted_labels_named = [label_mapping[label] for label in predicted_labels]\n"
      ],
      "metadata": {
        "colab": {
          "base_uri": "https://localhost:8080/",
          "height": 17
        },
        "id": "QXb_r8qNmdzX",
        "outputId": "7d2f14a3-e40d-4b79-8294-74c69ebfbb41"
      },
      "execution_count": 27,
      "outputs": [
        {
          "output_type": "display_data",
          "data": {
            "text/plain": [
              "<IPython.core.display.HTML object>"
            ],
            "text/html": []
          },
          "metadata": {}
        }
      ]
    },
    {
      "cell_type": "markdown",
      "source": [
        "### Saving Predictions to a File\n",
        "\n",
        "- Created a DataFrame containing:\n",
        "  - **Meeting Date**\n",
        "  - **Sentence**\n",
        "  - **Predicted Label**\n",
        "- Saved the DataFrame to a CSV file named `'sentence_predictions.csv'`."
      ],
      "metadata": {
        "id": "VnxiIl2MmpZh"
      }
    },
    {
      "cell_type": "code",
      "source": [
        "# Create a DataFrame with the results\n",
        "results_df = pd.DataFrame({\n",
        "    'Meeting_Date': sentence_meeting_dates,\n",
        "    'Sentence': all_filtered_sentences,\n",
        "    'Predicted_Label': predicted_labels_named\n",
        "})\n",
        "\n",
        "# Save the results to a CSV file\n",
        "results_df.to_csv('sentence_predictions.csv', index=False)\n",
        "\n",
        "print(\"Predictions saved to 'sentence_predictions.csv'\")\n"
      ],
      "metadata": {
        "colab": {
          "base_uri": "https://localhost:8080/",
          "height": 0
        },
        "id": "jwMuEieAmseR",
        "outputId": "269c79f0-4118-495a-ad12-d5bce1bc6b9f"
      },
      "execution_count": 28,
      "outputs": [
        {
          "output_type": "stream",
          "name": "stdout",
          "text": [
            "Predictions saved to 'sentence_predictions.csv'\n"
          ]
        }
      ]
    },
    {
      "cell_type": "markdown",
      "source": [
        "### Calculating Hawkishness Measure\n",
        "\n",
        "- Calculated the hawkishness score for each document (meeting) using the formula:\n",
        "\n",
        "  $\n",
        "  \\text{Hawkishness} = \\frac{\\# \\text{Hawkish sentences} - \\# \\text{Dovish sentences}}{\\# \\text{Total filtered sentences}}\n",
        "  $\n",
        "\n",
        "- Stored the scores in a DataFrame with corresponding meeting dates."
      ],
      "metadata": {
        "id": "NZTuQbm8m9BI"
      }
    },
    {
      "cell_type": "code",
      "source": [
        "# Initialize a dictionary to store hawkishness scores\n",
        "hawkishness_scores = {}\n",
        "\n",
        "# Group the results by meeting date\n",
        "grouped = results_df.groupby('Meeting_Date')\n",
        "\n",
        "for meeting_date, group in grouped:\n",
        "    total_sentences = len(group)\n",
        "    num_hawkish = sum(group['Predicted_Label'] == 'Hawkish')\n",
        "    num_dovish = sum(group['Predicted_Label'] == 'Dovish')\n",
        "    hawkishness = (num_hawkish - num_dovish) / total_sentences if total_sentences > 0 else 0\n",
        "    hawkishness_scores[meeting_date] = hawkishness\n",
        "\n",
        "# Convert to DataFrame\n",
        "hawkishness_df = pd.DataFrame({\n",
        "    'Meeting_Date': list(hawkishness_scores.keys()),\n",
        "    'Hawkishness_Score': list(hawkishness_scores.values())\n",
        "})\n",
        "\n",
        "# Convert Meeting_Date to datetime\n",
        "hawkishness_df['Meeting_Date'] = pd.to_datetime(hawkishness_df['Meeting_Date'], format='%Y%m%d')\n",
        "\n",
        "# Sort by Meeting_Date\n",
        "hawkishness_df = hawkishness_df.sort_values('Meeting_Date').reset_index(drop=True)\n"
      ],
      "metadata": {
        "id": "WpOg8Y1qnDXU"
      },
      "execution_count": 29,
      "outputs": []
    },
    {
      "cell_type": "markdown",
      "source": [
        "### Saving Hawkishness Measures\n",
        "\n",
        "- Saved the hawkishness scores DataFrame to a CSV file named `'hawkishness_scores.csv'`."
      ],
      "metadata": {
        "id": "qYPf6ngRnRT5"
      }
    },
    {
      "cell_type": "code",
      "source": [
        "# Save the hawkishness scores to a CSV file\n",
        "hawkishness_df.to_csv('hawkishness_scores.csv', index=False)\n",
        "\n",
        "print(\"Hawkishness scores saved to 'hawkishness_scores.csv'\")\n"
      ],
      "metadata": {
        "colab": {
          "base_uri": "https://localhost:8080/",
          "height": 0
        },
        "id": "GIFiB6kSnVRM",
        "outputId": "1a00bb7e-b8d0-49b4-8a40-8ee19da4f6e1"
      },
      "execution_count": 30,
      "outputs": [
        {
          "output_type": "stream",
          "name": "stdout",
          "text": [
            "Hawkishness scores saved to 'hawkishness_scores.csv'\n"
          ]
        }
      ]
    },
    {
      "cell_type": "markdown",
      "source": [
        "### Importing Additional Libraries\n",
        "\n",
        "- **pandas_datareader**: Used to download data from FRED and other sources.\n",
        "- **datetime**: For handling date and time data.\n",
        "- **matplotlib.dates**: For formatting dates in plots.\n",
        "- **matplotlib.ticker**: For configuring axis ticks."
      ],
      "metadata": {
        "id": "Iuxg6CqhoE4m"
      }
    },
    {
      "cell_type": "code",
      "source": [
        "# Importing additional libraries\n",
        "import pandas_datareader.data as web\n",
        "from datetime import datetime\n",
        "import matplotlib.dates as mdates\n",
        "import matplotlib.ticker as ticker\n"
      ],
      "metadata": {
        "id": "bSGU8WS5nXZl"
      },
      "execution_count": 31,
      "outputs": []
    },
    {
      "cell_type": "markdown",
      "source": [
        "### Setting Up the FRED API Key\n",
        "\n",
        "- The API key is necessary to access data from FRED."
      ],
      "metadata": {
        "id": "7f01ShCtoKL-"
      }
    },
    {
      "cell_type": "code",
      "source": [
        "# Set your FRED API key\n",
        "fred_api_key = '6d9e81b7d5095e436d142722f2f283c3'\n"
      ],
      "metadata": {
        "id": "CFP21Aw5oJdq"
      },
      "execution_count": 32,
      "outputs": []
    },
    {
      "cell_type": "markdown",
      "source": [
        "### Defining the Time Range\n",
        "\n",
        "- The data will be fetched from **January 1, 1996**, to **September 30, 2024**.\n",
        "- This range aligns with the period of the FOMC meeting minutes."
      ],
      "metadata": {
        "id": "-99ssQBYoXdz"
      }
    },
    {
      "cell_type": "code",
      "source": [
        "# Define the time range\n",
        "start_date = datetime(1996, 1, 1)\n",
        "end_date = datetime(2024, 9, 30)\n"
      ],
      "metadata": {
        "id": "9b44RbBJoTbN"
      },
      "execution_count": 33,
      "outputs": []
    },
    {
      "cell_type": "markdown",
      "source": [
        "### Fetching CPI and PPI Data from FRED\n",
        "\n",
        "- **CPIAUCSL**: Consumer Price Index for All Urban Consumers: All Items.\n",
        "- **PPIACO**: Producer Price Index for All Commodities.\n",
        "- Data is fetched using the FRED API via `pandas_datareader`."
      ],
      "metadata": {
        "id": "HBQqmncUoaSq"
      }
    },
    {
      "cell_type": "code",
      "source": [
        "# Fetch CPI data\n",
        "cpi_data = web.DataReader('CPIAUCSL', 'fred', start_date, end_date, api_key=fred_api_key)\n",
        "\n",
        "# Fetch PPI data\n",
        "ppi_data = web.DataReader('PPIACO', 'fred', start_date, end_date, api_key=fred_api_key)\n"
      ],
      "metadata": {
        "id": "96VoqF-ioZrv"
      },
      "execution_count": 34,
      "outputs": []
    },
    {
      "cell_type": "markdown",
      "source": [
        "### Calculating Annual Percentage Change\n",
        "\n",
        "- Calculated the year-over-year (YoY) percentage change by comparing each data point to the value 12 months prior.\n",
        "- Multiplied by 100 to convert to percentage.\n"
      ],
      "metadata": {
        "id": "x1Nt-XZAoluP"
      }
    },
    {
      "cell_type": "code",
      "source": [
        "# Calculate the annual percentage change\n",
        "cpi_data['CPI_YoY'] = cpi_data['CPIAUCSL'].pct_change(periods=12) * 100\n",
        "ppi_data['PPI_YoY'] = ppi_data['PPIACO'].pct_change(periods=12) * 100\n"
      ],
      "metadata": {
        "id": "goWoVLEAodmS"
      },
      "execution_count": 35,
      "outputs": []
    },
    {
      "cell_type": "markdown",
      "source": [
        "### Fetching Recession Indicator Data\n",
        "\n",
        "- **USREC**: Indicates periods of recession in the United States.\n",
        "  - 1: Recession\n",
        "  - 0: No recession\n",
        "- This data will be used to highlight recession periods in the plots."
      ],
      "metadata": {
        "id": "hVFtBwBKooNx"
      }
    },
    {
      "cell_type": "code",
      "source": [
        "# Fetch the recession indicator data\n",
        "recession_data = web.DataReader('USREC', 'fred', start_date, end_date, api_key=fred_api_key)\n"
      ],
      "metadata": {
        "id": "i-7DJJK3onzv"
      },
      "execution_count": 36,
      "outputs": []
    },
    {
      "cell_type": "markdown",
      "source": [
        "### Merging Data\n",
        "\n",
        "- Merged CPI and PPI YoY data on their dates.\n",
        "- Joined the recession data.\n",
        "- Forward-filled missing values and dropped any remaining NaNs."
      ],
      "metadata": {
        "id": "z0Szo5i7ovh1"
      }
    },
    {
      "cell_type": "code",
      "source": [
        "# Merge the data into a single DataFrame\n",
        "macro_data = cpi_data[['CPI_YoY']].join(ppi_data[['PPI_YoY']], how='outer')\n",
        "macro_data = macro_data.join(recession_data, how='outer')\n",
        "macro_data = macro_data.fillna(method='ffill').dropna()\n"
      ],
      "metadata": {
        "colab": {
          "base_uri": "https://localhost:8080/",
          "height": 0
        },
        "id": "36mjeuvEoswB",
        "outputId": "75613100-7c53-4d8f-e21d-377a66d7640a"
      },
      "execution_count": 37,
      "outputs": [
        {
          "output_type": "stream",
          "name": "stderr",
          "text": [
            "<ipython-input-37-3da23b53d1b2>:4: FutureWarning: DataFrame.fillna with 'method' is deprecated and will raise in a future version. Use obj.ffill() or obj.bfill() instead.\n",
            "  macro_data = macro_data.fillna(method='ffill').dropna()\n"
          ]
        }
      ]
    },
    {
      "cell_type": "markdown",
      "source": [
        "### Plotting CPI, PPI, and Recession Periods\n",
        "\n",
        "- Plotted the annual percentage changes of CPI and PPI over time.\n",
        "- Highlighted recession periods using grey shaded areas.\n",
        "- Added labels, legend, and grid for better readability."
      ],
      "metadata": {
        "id": "_-Iu96Lgo2-r"
      }
    },
    {
      "cell_type": "code",
      "source": [
        "# Create the plot\n",
        "fig, ax = plt.subplots(figsize=(14, 7))\n",
        "\n",
        "# Plot CPI and PPI\n",
        "ax.plot(macro_data.index, macro_data['CPI_YoY'], label='CPI YoY Change', color='blue')\n",
        "ax.plot(macro_data.index, macro_data['PPI_YoY'], label='PPI YoY Change', color='red')\n",
        "\n",
        "# Highlight recession periods\n",
        "for idx, row in macro_data.iterrows():\n",
        "    if row['USREC'] == 1:\n",
        "        ax.axvspan(idx, idx + pd.Timedelta(days=30), color='grey', alpha=0.3)\n",
        "\n",
        "# Formatting the plot\n",
        "ax.set_title('CPI and PPI Annual Percentage Change with Recession Periods')\n",
        "ax.set_xlabel('Year')\n",
        "ax.set_ylabel('Annual % Change')\n",
        "ax.legend()\n",
        "ax.grid(True)\n",
        "\n",
        "# Show the plot\n",
        "plt.show()\n"
      ],
      "metadata": {
        "colab": {
          "base_uri": "https://localhost:8080/",
          "height": 641
        },
        "id": "Y0eJzw4ro19b",
        "outputId": "bb9e34c4-9e01-41c1-8c47-3d110233132e"
      },
      "execution_count": 39,
      "outputs": [
        {
          "output_type": "display_data",
          "data": {
            "text/plain": [
              "<Figure size 1400x700 with 1 Axes>"
            ],
            "image/png": "[encoded data removed]"
          },
          "metadata": {}
        }
      ]
    },
    {
      "cell_type": "markdown",
      "source": [
        "### Loading Hawkishness Scores\n",
        "\n",
        "- Loaded the hawkishness scores from the CSV file generated earlier.\n",
        "- Converted the 'Meeting_Date' column to datetime and set it as the index.\n"
      ],
      "metadata": {
        "id": "QWcXDiVJpCJh"
      }
    },
    {
      "cell_type": "code",
      "source": [
        "# Load the hawkishness scores\n",
        "hawkishness_df = pd.read_csv('hawkishness_scores.csv')\n",
        "\n",
        "# Convert Meeting_Date to datetime\n",
        "hawkishness_df['Meeting_Date'] = pd.to_datetime(hawkishness_df['Meeting_Date'])\n",
        "hawkishness_df.set_index('Meeting_Date', inplace=True)\n"
      ],
      "metadata": {
        "id": "qTFXKI9Po4qo"
      },
      "execution_count": 40,
      "outputs": []
    },
    {
      "cell_type": "markdown",
      "source": [
        "### Resampling Hawkishness Scores\n",
        "\n",
        "- Resampled the hawkishness scores to a monthly frequency.\n",
        "- Used the mean value for months with multiple meetings."
      ],
      "metadata": {
        "id": "tPwWis8npHH-"
      }
    },
    {
      "cell_type": "code",
      "source": [
        "# Resample hawkishness scores to monthly frequency by taking the mean\n",
        "hawkishness_monthly = hawkishness_df.resample('M').mean()\n"
      ],
      "metadata": {
        "colab": {
          "base_uri": "https://localhost:8080/",
          "height": 0
        },
        "id": "4V0I4AQspDmu",
        "outputId": "0f60a308-baa3-47ea-dbfa-14acd00f4c83"
      },
      "execution_count": 41,
      "outputs": [
        {
          "output_type": "stream",
          "name": "stderr",
          "text": [
            "<ipython-input-41-2132de80283d>:2: FutureWarning: 'M' is deprecated and will be removed in a future version, please use 'ME' instead.\n",
            "  hawkishness_monthly = hawkishness_df.resample('M').mean()\n"
          ]
        }
      ]
    },
    {
      "cell_type": "markdown",
      "source": [
        "### Merging Hawkishness with Macro Data\n",
        "\n",
        "- Joined the hawkishness scores with the macroeconomic data on dates.\n",
        "- Forward-filled missing values to align data frequencies.\n",
        "- Dropped any remaining NaNs after merging."
      ],
      "metadata": {
        "id": "gUhTq5QopOjX"
      }
    },
    {
      "cell_type": "code",
      "source": [
        "# Merge hawkishness scores with macro data\n",
        "merged_data = macro_data.join(hawkishness_monthly, how='outer')\n",
        "merged_data = merged_data.fillna(method='ffill').dropna()\n"
      ],
      "metadata": {
        "colab": {
          "base_uri": "https://localhost:8080/",
          "height": 0
        },
        "id": "eUHtio87pJjR",
        "outputId": "2847440c-077b-4cd4-d6cc-01fd55dad1cc"
      },
      "execution_count": 42,
      "outputs": [
        {
          "output_type": "stream",
          "name": "stderr",
          "text": [
            "<ipython-input-42-c82d9e2e199c>:3: FutureWarning: DataFrame.fillna with 'method' is deprecated and will raise in a future version. Use obj.ffill() or obj.bfill() instead.\n",
            "  merged_data = merged_data.fillna(method='ffill').dropna()\n"
          ]
        }
      ]
    },
    {
      "cell_type": "markdown",
      "source": [
        "### Plotting Hawkishness with CPI, PPI, and Recession Periods\n",
        "\n",
        "- Used a twin axis to plot hawkishness scores alongside CPI and PPI.\n",
        "- CPI and PPI are plotted on the left y-axis; hawkishness is plotted on the right y-axis.\n",
        "- Recession periods are highlighted.\n",
        "- The plot helps visualize the relationship between monetary policy stance and inflation indicators."
      ],
      "metadata": {
        "id": "zhjsDoGFpN-O"
      }
    },
    {
      "cell_type": "code",
      "source": [
        "# Create the plot\n",
        "fig, ax1 = plt.subplots(figsize=(14, 7))\n",
        "\n",
        "# Plot CPI and PPI\n",
        "ax1.plot(merged_data.index, merged_data['CPI_YoY'], label='CPI YoY Change', color='blue', alpha=0.7)\n",
        "ax1.plot(merged_data.index, merged_data['PPI_YoY'], label='PPI YoY Change', color='red', alpha=0.7)\n",
        "\n",
        "# Highlight recession periods\n",
        "for idx, row in merged_data.iterrows():\n",
        "    if row['USREC'] == 1:\n",
        "        ax1.axvspan(idx, idx + pd.Timedelta(days=30), color='grey', alpha=0.3)\n",
        "\n",
        "# Configure ax1\n",
        "ax1.set_xlabel('Year')\n",
        "ax1.set_ylabel('Annual % Change')\n",
        "ax1.legend(loc='upper left')\n",
        "ax1.grid(True)\n",
        "\n",
        "# Create a twin axis for hawkishness\n",
        "ax2 = ax1.twinx()\n",
        "ax2.plot(merged_data.index, merged_data['Hawkishness_Score'], label='Hawkishness Score', color='green', linestyle='--')\n",
        "ax2.set_ylabel('Hawkishness Score')\n",
        "ax2.legend(loc='upper right')\n",
        "\n",
        "# Set the title\n",
        "plt.title('Hawkishness Measure with CPI, PPI, and Recession Periods')\n",
        "\n",
        "# Show the plot\n",
        "plt.show()\n"
      ],
      "metadata": {
        "colab": {
          "base_uri": "https://localhost:8080/",
          "height": 641
        },
        "id": "SP9H89p1pVy8",
        "outputId": "00b0a633-9cd9-4467-8d51-b30282dba162"
      },
      "execution_count": 43,
      "outputs": [
        {
          "output_type": "display_data",
          "data": {
            "text/plain": [
              "<Figure size 1400x700 with 2 Axes>"
            ],
            "image/png": "[encoded data removed]"
          },
          "metadata": {}
        }
      ]
    },
    {
      "cell_type": "markdown",
      "source": [
        "### Commentary\n",
        "\n",
        "- **Correlation with Inflation**:\n",
        "  - Periods of increasing CPI and PPI often correspond to higher hawkishness scores.\n",
        "  - The Federal Reserve tends to adopt a hawkish stance when inflation indicators rise, signaling potential interest rate hikes to control inflation.\n",
        "- **Recession Periods**:\n",
        "  - During recessions, hawkishness scores generally decrease, indicating a dovish stance.\n",
        "  - The Fed adopts accommodative policies to stimulate economic growth during downturns.\n",
        "- **Monetary Policy Response**:\n",
        "  - The hawkishness measure reacts to economic conditions, aligning with expected monetary policy actions.\n",
        "  - For example, during the 2008 financial crisis and the 2020 COVID-19 pandemic, hawkishness scores dropped as the Fed implemented expansionary policies.\n",
        "- **Observations**:\n",
        "  - The hawkishness measure serves as a useful indicator of the Fed's policy stance.\n",
        "  - It reflects the central bank's balancing act between controlling inflation and supporting economic growth.\n",
        "\n",
        "---\n"
      ],
      "metadata": {
        "id": "TJEXuKGfpbQG"
      }
    }
  ],
  "metadata": {
    "colab": {
      "provenance": [],
      "machine_shape": "hm",
      "gpuType": "A100"
    },
    "kernelspec": {
      "display_name": "Python 3",
      "name": "python3"
    },
    "language_info": {
      "codemirror_mode": {
        "name": "ipython",
        "version": 3
      },
      "file_extension": ".py",
      "mimetype": "text/x-python",
      "name": "python",
      "nbconvert_exporter": "python",
      "pygments_lexer": "ipython3",
      "version": "3.12.3"
    },
    "accelerator": "GPU"
  },
  "nbformat": 4,
  "nbformat_minor": 0
}